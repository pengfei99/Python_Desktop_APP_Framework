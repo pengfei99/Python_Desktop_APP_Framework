{
 "cells": [
  {
   "cell_type": "markdown",
   "source": [
    "# Signals and Slots\n",
    "\n",
    "Let's start with the definition of the Signals and Slots:\n",
    "\n",
    "**Signals**\n",
    "\n",
    "**Signals are notifications emitted by widgets when something happens**. That something can be any number of things, for example:\n",
    "   - pressing a button\n",
    "   - the text of an input box changing,\n",
    "   - the text of the window changing.\n",
    "\n",
    "Many signals are initiated by user action, but this is not a rule.\n",
    "\n",
    "> In addition to notifying about something happening, signals can also send data to provide additional context about what happened.\n",
    "\n",
    "**PyQt provides many signals by default, but we can also create our own custom signals.**\n",
    "\n",
    "**Slots**\n",
    "\n",
    "**Slots is the name Qt uses for the receivers of signals**. In Python `any function (or method)` in your application can be used as a slot -- simply by connecting the signal to it. If the signal sends data, then the receiving function will receive that data too. Many Qt widgets also have their own built-in slots, meaning you can hook Qt widgets together directly.\n",
    "\n",
    "\n",
    "## 1 Manage Signals\n",
    "\n",
    "Let's start with some default signals. For a QPushButton, when it pushed, a default signal **clicked** will be sent. To treat this signal we need to connect the signal to a slot(function)."
   ],
   "metadata": {
    "collapsed": false
   }
  },
  {
   "cell_type": "code",
   "execution_count": 2,
   "outputs": [
    {
     "name": "stdout",
     "output_type": "stream",
     "text": [
      "Button clicked\n",
      "Button clicked\n"
     ]
    },
    {
     "data": {
      "text/plain": "0"
     },
     "execution_count": 2,
     "metadata": {},
     "output_type": "execute_result"
    }
   ],
   "source": [
    "import sys\n",
    "from PyQt6.QtWidgets import QApplication, QMainWindow, QPushButton, QVBoxLayout, QWidget\n",
    "\n",
    "\n",
    "class MainWindow(QMainWindow):\n",
    "    def __init__(self):\n",
    "        super().__init__()\n",
    "        self.setWindowTitle(\"My App\")\n",
    "        button = QPushButton(\"click me\")\n",
    "        button.setCheckable(True)\n",
    "        # connect the signal clicked to slot buttonClicked\n",
    "        button.clicked.connect(self.buttonClicked)\n",
    "\n",
    "        # create a widget with a vbox layout\n",
    "        mainWidget = QWidget()\n",
    "        layout = QVBoxLayout()\n",
    "        mainWidget.setLayout(layout)\n",
    "        # set the widget as central widget of the window\n",
    "        self.setCentralWidget(mainWidget)\n",
    "\n",
    "        # add button to layout\n",
    "        layout.addWidget(button)\n",
    "\n",
    "\n",
    "    @staticmethod\n",
    "    def buttonClicked():\n",
    "        print(\"Button clicked\")\n",
    "\n",
    "app = QApplication(sys.argv)\n",
    "window = MainWindow()\n",
    "window.show()\n",
    "\n",
    "app.exec()"
   ],
   "metadata": {
    "collapsed": false
   }
  },
  {
   "cell_type": "markdown",
   "source": [
    "## 2. Receiving data\n",
    "\n",
    "Signal can also carry data to provide more information about what happened. For example, the **.clicked** signal can carry a bool value which represent the state of the button (toggled or not). In the above example, as our function(slot) ignored this data. In below example, we will rewrite a new slot called `showButtonState` to pick up the state data.\n",
    "\n",
    "Try to run below example, you should see output such as:\n",
    "\n",
    "```text\n",
    "Button clicked with stat checked True\n",
    "Button clicked with stat checked False\n",
    "Button clicked with stat checked True\n",
    "Button clicked with stat checked False\n",
    "Button clicked with stat checked True\n",
    "Button clicked with stat checked False\n",
    "```"
   ],
   "metadata": {
    "collapsed": false
   }
  },
  {
   "cell_type": "code",
   "execution_count": 3,
   "outputs": [
    {
     "name": "stderr",
     "output_type": "stream",
     "text": [
      "qt.qpa.xcb: X server does not support XInput 2\n"
     ]
    },
    {
     "name": "stdout",
     "output_type": "stream",
     "text": [
      "Button clicked with stat checked True\n",
      "Button clicked with stat checked False\n",
      "Button clicked with stat checked True\n",
      "Button clicked with stat checked False\n",
      "Button clicked with stat checked True\n",
      "Button clicked with stat checked False\n",
      "Button clicked with stat checked True\n"
     ]
    },
    {
     "data": {
      "text/plain": "0"
     },
     "execution_count": 3,
     "metadata": {},
     "output_type": "execute_result"
    }
   ],
   "source": [
    "import sys\n",
    "from PyQt6.QtWidgets import QApplication, QMainWindow, QPushButton, QVBoxLayout, QWidget\n",
    "\n",
    "\n",
    "class MainWindow(QMainWindow):\n",
    "    def __init__(self):\n",
    "        super().__init__()\n",
    "        self.setWindowTitle(\"My App\")\n",
    "        button = QPushButton(\"click me\")\n",
    "        button.setCheckable(True)\n",
    "        # connect the click signal to slot showButtonState, which can handle the carried data\n",
    "        button.clicked.connect(self.showButtonState)\n",
    "\n",
    "        # create a widget with a vbox layout\n",
    "        mainWidget = QWidget()\n",
    "        layout = QVBoxLayout()\n",
    "        mainWidget.setLayout(layout)\n",
    "        # set the widget as central widget of the window\n",
    "        self.setCentralWidget(mainWidget)\n",
    "\n",
    "        # add button to layout\n",
    "        layout.addWidget(button)\n",
    "\n",
    "\n",
    "    @staticmethod\n",
    "    def showButtonState(checked:bool):\n",
    "        print(f\"Button clicked with stat checked {checked}\")\n",
    "\n",
    "app = QApplication(sys.argv)\n",
    "window = MainWindow()\n",
    "window.show()\n",
    "\n",
    "app.exec()"
   ],
   "metadata": {
    "collapsed": false
   }
  },
  {
   "cell_type": "markdown",
   "source": [
    "## 3. Storing data\n",
    "\n",
    "Once the carried data of a signal is captured by a slot, the data can be stored in any python variable. It's a good practice to store the data in a variable, to avoid accessing the widget to get the current state. Let's retake the above example, and store the data in a class attribute called **buttonIsChecked**"
   ],
   "metadata": {
    "collapsed": false
   }
  },
  {
   "cell_type": "code",
   "execution_count": null,
   "outputs": [
    {
     "name": "stderr",
     "output_type": "stream",
     "text": [
      "qt.qpa.xcb: X server does not support XInput 2\n"
     ]
    },
    {
     "name": "stdout",
     "output_type": "stream",
     "text": [
      "Button clicked with stat checked True\n",
      "Button clicked with stat checked False\n",
      "Button clicked with stat checked True\n",
      "Button clicked with stat checked False\n"
     ]
    }
   ],
   "source": [
    "import sys\n",
    "from PyQt6.QtWidgets import QApplication, QMainWindow, QPushButton, QVBoxLayout, QWidget\n",
    "\n",
    "\n",
    "class MainWindow(QMainWindow):\n",
    "    def __init__(self):\n",
    "        super().__init__()\n",
    "        self.setWindowTitle(\"My App\")\n",
    "        button = QPushButton(\"click me\")\n",
    "        button.setCheckable(True)\n",
    "        # connect the click signal to slot showButtonState, which can handle the carried data\n",
    "        button.clicked.connect(self.showButtonState)\n",
    "\n",
    "        # create a widget with a vbox layout\n",
    "        mainWidget = QWidget()\n",
    "        layout = QVBoxLayout()\n",
    "        mainWidget.setLayout(layout)\n",
    "        # set the widget as central widget of the window\n",
    "        self.setCentralWidget(mainWidget)\n",
    "\n",
    "        # add button to layout\n",
    "        layout.addWidget(button)\n",
    "        # add a lae\n",
    "\n",
    "        # create a class attribute to store the button state send by signal\n",
    "        self.buttonIsChecked = True\n",
    "\n",
    "    def showButtonState(self, checked:bool):\n",
    "        self.buttonIsChecked = checked\n",
    "        print(f\"Button clicked with stat checked {self.buttonIsChecked}\")\n",
    "\n",
    "app = QApplication(sys.argv)\n",
    "window = MainWindow()\n",
    "window.show()\n",
    "\n",
    "app.exec()"
   ],
   "metadata": {
    "collapsed": false,
    "pycharm": {
     "is_executing": true
    }
   }
  },
  {
   "cell_type": "markdown",
   "source": [
    "## 4. A more complex example\n",
    "\n",
    "In below example, we have two buttons, the first button will be blocked after 1 clicked.\n",
    "\n",
    "To reactivate it, you need to click on the second button."
   ],
   "metadata": {
    "collapsed": false
   }
  },
  {
   "cell_type": "code",
   "execution_count": 2,
   "outputs": [
    {
     "data": {
      "text/plain": "0"
     },
     "execution_count": 2,
     "metadata": {},
     "output_type": "execute_result"
    }
   ],
   "source": [
    "import sys\n",
    "from PyQt6.QtWidgets import QApplication, QMainWindow, QPushButton, QVBoxLayout, QWidget\n",
    "\n",
    "\n",
    "NORMAL_TXT = \"click me\"\n",
    "BLOCK_TXT = \"You have clicked on me\"\n",
    "\n",
    "class MainWindow(QMainWindow):\n",
    "    def __init__(self):\n",
    "        super().__init__()\n",
    "        self.setWindowTitle(\"My App\")\n",
    "        # first btn will be disabled after checked\n",
    "        self.checkBtn = QPushButton(NORMAL_TXT)\n",
    "        self.checkBtn.setCheckable(True)\n",
    "        # connect the click signal to slot showButtonState, which can handle the carried data\n",
    "        self.checkBtn.clicked.connect(self.blockCheckedButton)\n",
    "\n",
    "        # second btn can enable the above button if it's disabled\n",
    "        self.activateBtn = QPushButton(\"Activate block button\")\n",
    "        self.activateBtn.clicked.connect(self.activateCheckedButton)\n",
    "        # create a widget with a vbox layout\n",
    "        mainWidget = QWidget()\n",
    "        layout = QVBoxLayout()\n",
    "        mainWidget.setLayout(layout)\n",
    "        # set the widget as central widget of the window\n",
    "        self.setCentralWidget(mainWidget)\n",
    "\n",
    "        # add first button to layout\n",
    "        layout.addWidget(self.checkBtn)\n",
    "        # add second button\n",
    "        layout.addWidget(self.activateBtn)\n",
    "\n",
    "        # create a class attribute to store the button state send by signal\n",
    "        self.buttonIsChecked = True\n",
    "\n",
    "    def blockCheckedButton(self, checked:bool):\n",
    "        self.buttonIsChecked = checked\n",
    "        if self.buttonIsChecked:\n",
    "            self.checkBtn.setText(BLOCK_TXT)\n",
    "            self.checkBtn.setEnabled(False)\n",
    "\n",
    "    def activateCheckedButton(self):\n",
    "        if self.buttonIsChecked:\n",
    "            self.checkBtn.setText(NORMAL_TXT)\n",
    "            self.checkBtn.setChecked(False)\n",
    "            self.checkBtn.setEnabled(True)\n",
    "            self.buttonIsChecked=False\n",
    "\n",
    "app = QApplication(sys.argv)\n",
    "window = MainWindow()\n",
    "window.show()\n",
    "\n",
    "app.exec()"
   ],
   "metadata": {
    "collapsed": false
   }
  },
  {
   "cell_type": "markdown",
   "source": [
    "## 5. Built-in slot of widget\n",
    "\n",
    "So far we've seen examples of connecting widget signals to user defined slot (python methods). When a signal is fired from the widget, our Python method is called and receives the data from the signal. But you don't always need to define a Python function to handle signals. You can also connect Qt widgets directly to built-in slot of another widget.\n",
    "\n",
    "In the following example, we add a `QLineEdit widget` and a `QLabel`. We connect the `.textChanged` signal of the `QLineEdit` to the `.setText` slot of the `QLabel`. Now any time the text changes in the `QLineEdit` the `QLabel` will receive that text to it's .setText method."
   ],
   "metadata": {
    "collapsed": false
   }
  },
  {
   "cell_type": "code",
   "execution_count": 3,
   "outputs": [
    {
     "name": "stderr",
     "output_type": "stream",
     "text": [
      "qt.qpa.xcb: X server does not support XInput 2\n"
     ]
    },
    {
     "data": {
      "text/plain": "0"
     },
     "execution_count": 3,
     "metadata": {},
     "output_type": "execute_result"
    }
   ],
   "source": [
    "import sys\n",
    "from PyQt6.QtWidgets import QApplication, QMainWindow, QPushButton, QVBoxLayout, QWidget, QLineEdit, QLabel\n",
    "\n",
    "\n",
    "class MainWindow(QMainWindow):\n",
    "    def __init__(self):\n",
    "        super().__init__()\n",
    "        self.setWindowTitle(\"My App\")\n",
    "        # first item is qlineedit\n",
    "        self.input = QLineEdit()\n",
    "\n",
    "        # second item is a qlabel\n",
    "        self.output = QLabel(\"\")\n",
    "\n",
    "        # connect the signal to setText slot of the label\n",
    "        self.input.textChanged.connect(self.output.setText)\n",
    "        # create a widget with a vbox layout\n",
    "        mainWidget = QWidget()\n",
    "        layout = QVBoxLayout()\n",
    "        mainWidget.setLayout(layout)\n",
    "        # set the widget as central widget of the window\n",
    "        self.setCentralWidget(mainWidget)\n",
    "\n",
    "        # add first button to layout\n",
    "        layout.addWidget(self.input)\n",
    "        # add second button\n",
    "        layout.addWidget(self.output)\n",
    "\n",
    "\n",
    "app = QApplication(sys.argv)\n",
    "window = MainWindow()\n",
    "window.show()\n",
    "\n",
    "app.exec()"
   ],
   "metadata": {
    "collapsed": false
   }
  },
  {
   "cell_type": "markdown",
   "source": [
    "## 6. Custom signal\n",
    "\n",
    "So far, we only used the built-in signals of widgets. What if we want to emit a custom signal? PyQt6 provides the class todo so.\n",
    "\n",
    "In below example, when the button is clicked, a custom signal is emitted. We have defined a custom slot to handle the signal"
   ],
   "metadata": {
    "collapsed": false
   }
  },
  {
   "cell_type": "code",
   "execution_count": 1,
   "outputs": [
    {
     "name": "stderr",
     "output_type": "stream",
     "text": [
      "qt.qpa.xcb: X server does not support XInput 2\n"
     ]
    },
    {
     "name": "stdout",
     "output_type": "stream",
     "text": [
      "Receive custom signal message: The pushed button triggered this custom signal\n",
      "Receive custom signal message: The pushed button triggered this custom signal\n"
     ]
    },
    {
     "data": {
      "text/plain": "0"
     },
     "execution_count": 1,
     "metadata": {},
     "output_type": "execute_result"
    }
   ],
   "source": [
    "from PyQt6.QtCore import pyqtSignal\n",
    "import sys\n",
    "from PyQt6.QtWidgets import QApplication, QMainWindow, QPushButton, QVBoxLayout, QWidget, QLineEdit, QLabel\n",
    "\n",
    "\n",
    "class MainWindow(QMainWindow):\n",
    "\n",
    "    # define a custom signal\n",
    "    mySignal = pyqtSignal(str)\n",
    "\n",
    "\n",
    "    def __init__(self):\n",
    "        super().__init__()\n",
    "        self.setWindowTitle(\"My App\")\n",
    "        # first item is a button\n",
    "        self.btn = QPushButton(\"click me to send signal\",self)\n",
    "        self.btn.clicked.connect(self.emitCustomSignal)\n",
    "\n",
    "        # second item is a qlabel\n",
    "        self.output = QLabel(\"\")\n",
    "\n",
    "        # create a widget with a vbox layout\n",
    "        mainWidget = QWidget()\n",
    "        layout = QVBoxLayout()\n",
    "        mainWidget.setLayout(layout)\n",
    "        # set the widget as central widget of the window\n",
    "        self.setCentralWidget(mainWidget)\n",
    "\n",
    "        # add first button to layout\n",
    "        layout.addWidget(self.btn)\n",
    "        # add second button\n",
    "        layout.addWidget(self.output)\n",
    "\n",
    "    # this slot is triggered by the button to emit a signal\n",
    "    def emitCustomSignal(self):\n",
    "        self.mySignal.emit(\"The pushed button triggered this custom signal\")\n",
    "\n",
    "\n",
    "# this slot handles the custom signal emit by the window\n",
    "def handleCustomSignal(message:str):\n",
    "    print(f\"Receive custom signal message: {message}\")\n",
    "\n",
    "app = QApplication(sys.argv)\n",
    "window = MainWindow()\n",
    "# as the signal is defined at the level of MainWindow. We can only handle it after the decalaration of the MainWindow\n",
    "window.mySignal.connect(handleCustomSignal)\n",
    "\n",
    "window.show()\n",
    "\n",
    "app.exec()"
   ],
   "metadata": {
    "collapsed": false
   }
  },
  {
   "cell_type": "markdown",
   "source": [
    "In below example, we define a custom signal called `itemClicked` using the **pyqtSignal class** attribute. This signal will emit an index object representing the clicked item in the table.\n",
    "\n",
    "The MyTableView class inherits from QTableView and sets a custom model (MyTableModel) for the table using setModel. In the constructor, we also connect the clicked signal to the emit_custom_signal method.\n"
   ],
   "metadata": {
    "collapsed": false
   }
  },
  {
   "cell_type": "code",
   "execution_count": 2,
   "outputs": [
    {
     "data": {
      "text/plain": "0"
     },
     "execution_count": 2,
     "metadata": {},
     "output_type": "execute_result"
    }
   ],
   "source": [
    "from PyQt6.QtCore import pyqtSignal, QAbstractTableModel\n",
    "from PyQt6.QtWidgets import QApplication, QMainWindow, QTableView, QLabel, QWidget, QVBoxLayout\n",
    "\n",
    "\n",
    "class MyTableModel(QAbstractTableModel):\n",
    "    def __init__(self, data):\n",
    "        super().__init__()\n",
    "        self.data = data\n",
    "\n",
    "    def rowCount(self, parent=None):\n",
    "        return len(self.data)\n",
    "\n",
    "    def columnCount(self, parent=None):\n",
    "        return len(self.data[0])\n",
    "\n",
    "    def data(self, index, role=0):\n",
    "        if role == 0:\n",
    "            return str(self.data[index.row()][index.column()])\n",
    "\n",
    "\n",
    "class MyTableView(QTableView):\n",
    "    itemClicked = pyqtSignal(object)\n",
    "\n",
    "    def __init__(self, data):\n",
    "        super().__init__()\n",
    "        self.setModel(MyTableModel(data))\n",
    "        self.clicked.connect(self.emitCustomSignal)\n",
    "\n",
    "    def emitCustomSignal(self, index):\n",
    "        self.itemClicked.emit(index)\n",
    "\n",
    "\n",
    "class MainWindow(QMainWindow):\n",
    "    LABEL_TXT= \"The selected data cell:\"\n",
    "    def __init__(self):\n",
    "        super().__init__()\n",
    "        self.setWindowTitle(\"My App\")\n",
    "\n",
    "        self.data = [[1, 2, 3], [4, 5, 6], [7, 8, 9]]\n",
    "\n",
    "        # create a table view\n",
    "        self.tableView = MyTableView(self.data)\n",
    "        self.tableView.itemClicked.connect(self.handleCustomSignal)\n",
    "        self.setCentralWidget(self.tableView)\n",
    "        # second item is a qlabel\n",
    "        self.output = QLabel(MainWindow.LABEL_TXT)\n",
    "\n",
    "        # create a widget with a vbox layout\n",
    "        mainWidget = QWidget()\n",
    "        layout = QVBoxLayout()\n",
    "\n",
    "        # add table\n",
    "        layout.addWidget(self.tableView)\n",
    "        # add second button\n",
    "        layout.addWidget(self.output)\n",
    "\n",
    "        mainWidget.setLayout(layout)\n",
    "        # set the widget as central widget of the window\n",
    "        self.setCentralWidget(mainWidget)\n",
    "\n",
    "    def handleCustomSignal(self, index):\n",
    "        self.output.setText(f\"{MainWindow.LABEL_TXT} rowNumber: {index.row()}, columnNumber: {index.column()}\")\n",
    "\n",
    "\n",
    "app = QApplication([])\n",
    "window = MainWindow()\n",
    "\n",
    "\n",
    "window.show()\n",
    "app.exec()"
   ],
   "metadata": {
    "collapsed": false
   }
  },
  {
   "cell_type": "markdown",
   "source": [
    "## Events\n",
    "\n",
    "**Every interaction the user has with a Qt application is an event**. There are many types of event, each representing a different type of interaction. Qt represents these events using event objects which package up information about what happened. These events are passed to specific event handlers on the widget where the interaction occurred.\n",
    "\n",
    "By defining custom, or extended event handlers you can alter the way your widgets respond to these events. Event handlers are defined just like any other method, but the name is specific for the type of event they handle.\n",
    "\n",
    "One of the main events which widgets receive is the QMouseEvent. QMouseEvent events are created for each and every mouse movement and button click on a widget. The following event handlers are available for handling mouse events --\n",
    "\n",
    "```text\n",
    "Event handler\tEvent type moved\n",
    "mouseMoveEvent\tMouse moved\n",
    "mousePressEvent\tMouse button pressed\n",
    "mouseReleaseEvent\tMouse button released\n",
    "mouseDoubleClickEvent\tDouble click detected\n",
    "\n",
    "```\n",
    "\n",
    "For example, clicking on a widget will cause a QMouseEvent to be sent to the .mousePressEvent event handler on that widget. This handler can use the event object to find out information about what happened, such as what triggered the event and where specifically it occurred.\n",
    "\n",
    "You can intercept events by sub-classing and overriding the handler method on the class. You can choose to filter, modify, or ignore events, passing them up to the normal handler for the event by calling the parent class function with super(). These could be added to your main window class as follows. In each case e will receive the incoming event."
   ],
   "metadata": {
    "collapsed": false
   }
  },
  {
   "cell_type": "code",
   "execution_count": 2,
   "outputs": [
    {
     "data": {
      "text/plain": "0"
     },
     "execution_count": 2,
     "metadata": {},
     "output_type": "execute_result"
    }
   ],
   "source": [
    "import sys\n",
    "\n",
    "from PyQt6.QtCore import Qt\n",
    "from PyQt6.QtWidgets import QApplication, QLabel, QMainWindow, QTextEdit\n",
    "\n",
    "\n",
    "class MainWindow(QMainWindow):\n",
    "    def __init__(self):\n",
    "        super().__init__()\n",
    "        self.label = QLabel(\"Click in this window\")\n",
    "        self.setCentralWidget(self.label)\n",
    "        self.history = \"\"\n",
    "\n",
    "    def mouseMoveEvent(self, e):\n",
    "        self.history=self.history+\"\\n\"+\"mouseMoveEvent\"\n",
    "        self.label.setText(self.history)\n",
    "\n",
    "    def mousePressEvent(self, e):\n",
    "        self.history=self.history+\"\\n\"+\"mousePressEvent\"\n",
    "        self.label.setText(self.history)\n",
    "\n",
    "    def mouseReleaseEvent(self, e):\n",
    "        self.history=self.history+\"\\n\"+\"mouseReleaseEvent\"\n",
    "        self.label.setText(self.history)\n",
    "\n",
    "    def mouseDoubleClickEvent(self, e):\n",
    "        self.history=self.history+\"\\n\"+\"mouseDoubleClickEvent\"\n",
    "        self.label.setText(self.history)\n",
    "\n",
    "\n",
    "app = QApplication(sys.argv)\n",
    "\n",
    "window = MainWindow()\n",
    "window.show()\n",
    "\n",
    "app.exec()\n"
   ],
   "metadata": {
    "collapsed": false
   }
  },
  {
   "cell_type": "markdown",
   "source": [
    "You'll notice that mouse move events are only registered when you have the button pressed down. You can change this by calling self.setMouseTracking(True) on the window. You may also notice that the press (click) and double-click events both fire when the button is pressed down. Only the release event fires when the button is released. Typically to register a click from a user you should watch for both the mouse down and the release.\n",
    "\n",
    "Inside the event handlers you have access to an event object. This object contains information about the event and can be used to respond differently depending on what exactly has occurred. We'll look at the mouse event objects next."
   ],
   "metadata": {
    "collapsed": false
   }
  },
  {
   "cell_type": "markdown",
   "source": [
    "## Mouse events\n",
    "\n",
    "All mouse events in Qt are tracked with the QMouseEvent object, with information about the event being readable from the following event methods.\n",
    "\n",
    "```text\n",
    "Method\tReturns\n",
    ".button()\tSpecific button that triggered this event\n",
    ".buttons()\tState of all mouse buttons (OR'ed flags)\n",
    ".position()\tWidget-relative position as a QPoint integer\n",
    "\n",
    "```\n",
    "\n",
    "You can use these methods within an event handler to respond to different events differently, or ignore them completely. The positional methods provide both global and local (widget-relative) position information as QPoint objects, while buttons are reported using the mouse button types from the Qt namespace.\n",
    "\n",
    "For example, the following allows us to respond differently to a left, right or middle click on the window."
   ],
   "metadata": {
    "collapsed": false
   }
  },
  {
   "cell_type": "code",
   "execution_count": 1,
   "outputs": [
    {
     "name": "stderr",
     "output_type": "stream",
     "text": [
      "qt.qpa.xcb: X server does not support XInput 2\n"
     ]
    },
    {
     "data": {
      "text/plain": "0"
     },
     "execution_count": 1,
     "metadata": {},
     "output_type": "execute_result"
    }
   ],
   "source": [
    "import sys\n",
    "\n",
    "from PyQt6.QtCore import Qt\n",
    "from PyQt6.QtWidgets import QApplication, QLabel, QMainWindow\n",
    "\n",
    "\n",
    "class MainWindow(QMainWindow):\n",
    "    def __init__(self):\n",
    "        super().__init__()\n",
    "        self.label = QLabel(\"Click in this window\")\n",
    "        self.setCentralWidget(self.label)\n",
    "        self.history = \"\"\n",
    "\n",
    "    def mouseMoveEvent(self, e):\n",
    "        self.history=self.history+\"\\n\"+\"mouseMoveEvent\"\n",
    "        self.label.setText(self.history)\n",
    "\n",
    "    def mousePressEvent(self, e):\n",
    "        if e.button() == Qt.MouseButton.LeftButton:\n",
    "            # handle the left-button press in here\n",
    "            self.history=self.history+\"\\n\"+\"mousePressEvent LEFT\"\n",
    "            self.label.setText(self.history)\n",
    "\n",
    "        elif e.button() == Qt.MouseButton.MiddleButton:\n",
    "            # handle the middle-button press in here.\n",
    "            self.history=self.history+\"\\n\"+\"mousePressEvent MIDDLE\"\n",
    "            self.label.setText(self.history)\n",
    "\n",
    "        elif e.button() == Qt.MouseButton.RightButton:\n",
    "            # handle the right-button press in here.\n",
    "            self.history=self.history+\"\\n\"+\"mousePressEvent RIGHT\"\n",
    "            self.label.setText(self.history)\n",
    "\n",
    "\n",
    "\n",
    "    def mouseReleaseEvent(self, e):\n",
    "        if e.button() == Qt.MouseButton.LeftButton:\n",
    "            self.history=self.history+\"\\n\"+\"mouseReleaseEvent LEFT\"\n",
    "            self.label.setText(self.history)\n",
    "\n",
    "        elif e.button() == Qt.MouseButton.MiddleButton:\n",
    "            self.history=self.history+\"\\n\"+\"mouseReleaseEvent MIDDLE\"\n",
    "            self.label.setText(self.history)\n",
    "\n",
    "        elif e.button() == Qt.MouseButton.RightButton:\n",
    "            self.history=self.history+\"\\n\"+\"mouseReleaseEvent RIGHT\"\n",
    "            self.label.setText(self.history)\n",
    "\n",
    "\n",
    "\n",
    "    def mouseDoubleClickEvent(self, e):\n",
    "        if e.button() == Qt.MouseButton.LeftButton:\n",
    "            self.history=self.history+\"\\n\"+\"mouseDoubleClickEvent LEFT\"\n",
    "            self.label.setText(self.history)\n",
    "\n",
    "        elif e.button() == Qt.MouseButton.MiddleButton:\n",
    "            self.history=self.history+\"\\n\"+\"mouseDoubleClickEvent MIDDLE\"\n",
    "            self.label.setText(self.history)\n",
    "\n",
    "        elif e.button() == Qt.MouseButton.RightButton:\n",
    "            self.history=self.history+\"\\n\"+\"mouseDoubleClickEvent RIGHT\"\n",
    "            self.label.setText(self.history)\n",
    "\n",
    "\n",
    "\n",
    "\n",
    "app = QApplication(sys.argv)\n",
    "\n",
    "window = MainWindow()\n",
    "window.show()\n",
    "\n",
    "app.exec()"
   ],
   "metadata": {
    "collapsed": false
   }
  },
  {
   "cell_type": "markdown",
   "source": [],
   "metadata": {
    "collapsed": false
   }
  },
  {
   "cell_type": "markdown",
   "source": [],
   "metadata": {
    "collapsed": false
   }
  }
 ],
 "metadata": {
  "kernelspec": {
   "display_name": "Python 3",
   "language": "python",
   "name": "python3"
  },
  "language_info": {
   "codemirror_mode": {
    "name": "ipython",
    "version": 2
   },
   "file_extension": ".py",
   "mimetype": "text/x-python",
   "name": "python",
   "nbconvert_exporter": "python",
   "pygments_lexer": "ipython2",
   "version": "2.7.6"
  }
 },
 "nbformat": 4,
 "nbformat_minor": 0
}
