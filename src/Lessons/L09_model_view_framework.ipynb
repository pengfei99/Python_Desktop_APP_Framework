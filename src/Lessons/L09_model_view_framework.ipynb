{
 "cells": [
  {
   "cell_type": "markdown",
   "source": [
    "# 9. Qt model view paradigm\n",
    "\n",
    "Qt does not follow MVC, but it has a paradigm called model/view. It's similar to MVC, it just puts the business logic (normally in controller) into view. In one phrase, `model handles data and provide api to retrive and store data`, `the view handles user interacation, and how to render data in the interface`. To facilitate the management of user input, QT adds a concept called **delegate**, it can customize the data edition and rendering. Below figure shows the workflow.\n",
    "![qt_model_view_paradigm.png](../../image/qt_model_view_paradigm.png)\n",
    "\n",
    "The two standard workflow of the model view paradigm is:\n",
    "1. data modification in model will trigger a signale, the signale will be captured by the view, then the view stats to refresh the interface\n",
    "2. User interacts with the view, the view can ask model to fetch data\n",
    "\n",
    "Qt provide an `abstract class for all three concept(e.g. model, view, delegate)`, which provides the basic interfaces and some implementation.\n",
    "\n",
    "## Model abstract class\n",
    "In QT all models extends **QAbstractItemModel**, note model may or may not store the actual data. The actual data may be in a file or database, the model may be just a wrapper of it.\n",
    "\n",
    "Qt provides already some model implementation:\n",
    "- QStringListModel： model for handling string list\n",
    "- QStandardItemModel： model for handling hierarchical data such as Tree.\n",
    "- QFileSystemModel： model for handling local file system\n",
    "- QSortFilterProxyModel： this model is an overcoat of other model, it can provide sort and filtering service.\n",
    "- QSqlQueryMode： model for handling sql query of db\n",
    "- QSqlTableModel：model for handling table of a db\n",
    "- QSqlRelationalTableModel： model for handling table relation\n",
    "\n",
    "\n",
    "## View abstract class\n",
    "\n",
    "In QT, all view extends **QAbstractItemView**, which provides a standard interface. Qt provides below view implementation:\n",
    "\n",
    "- QListView：view for rendering list data\n",
    "- QTreeView： view for rendering hierarchical data such as Tree\n",
    "- QTableView：view for rendering tabular data\n",
    "- QColumnView：it can use `QListView` to render hierarchical data such as Tree. Each level of the tree can be rendered by a `QListView`.\n",
    "- QHeaderView： it renders the header of other view, for example, the column and row name of `QTableView`\n",
    "- QUndoView: 继承自QListView，用于显示Undo列表信息;\n",
    "- QListWidget: 继承自QListView，用于显示组件列表，它的项是QListWidgetItem对象;\n",
    "- QTreeWidget: 继承自QTreeView, 按树状方式显示组件，它的项是QTreeWidgetItem对象；\n",
    "- QTableWidget: 继承自QTableView, 按表格方式显示组件，它的项是QTableWidgetItem对象。\n",
    "\n",
    "## Delegate abstract class\n",
    "\n",
    "**QAbstractItemDelegate** is the abstract class of the `Delegate` concept. By default, if user does not provide a delegate implementation, QT will use **QStyledItemDelegate** as the default delegate.\n",
    "\n",
    "QStyledItemDelegate和QItemDelegate是相互独立的用于实现视图（views）中items的描绘和编辑功能的方法。不同点在于QStyledItemDelegate使用当前的样式（style）来描绘items，因此，当我们实现定制委托或者使用Qt Style Sheets时，建议使用QStyledItemDelegate作为基类\n",
    "\n",
    "\n",
    "\n",
    "## An example of model view\n",
    "\n",
    "In below example, we create a filesystem model, then we associate the model to a tree view and a list view. So `one model can be used by multiple views`."
   ],
   "metadata": {
    "collapsed": false
   }
  },
  {
   "cell_type": "code",
   "execution_count": null,
   "outputs": [],
   "source": [
    "import sys\n",
    "\n",
    "from PyQt6.QtCore import QDir\n",
    "from PyQt6.QtGui import QFileSystemModel\n",
    "from PyQt6.QtWidgets import QWidget, QVBoxLayout, QSplitter, QTreeView, QListView, QApplication\n",
    "\n",
    "\n",
    "class ModelViewDemo(QWidget):\n",
    "    def __init__(self, parent=None):\n",
    "        super(ModelViewDemo, self).__init__(parent)\n",
    "        self.setWindowTitle(\"Model view paradigm demo\")\n",
    "        self.resize(480, 320)\n",
    "        self.initUi()\n",
    "\n",
    "    def initUi(self):\n",
    "        layout = QVBoxLayout(self)\n",
    "        splitter = QSplitter(self)\n",
    "\n",
    "        # create a model\n",
    "        fsm = QFileSystemModel()\n",
    "        fsm.setRootPath(QDir.currentPath())\n",
    "\n",
    "        # create a tree view of the model\n",
    "        tv = QTreeView(splitter)\n",
    "        tv.setModel(fsm)\n",
    "        tv.setRootIndex(fsm.index(QDir.currentPath()))\n",
    "\n",
    "        # create a list view of the model\n",
    "        lv = QListView(splitter)\n",
    "        lv.setModel(fsm)\n",
    "        lv.setRootIndex(fsm.index(QDir.currentPath()))\n",
    "\n",
    "        layout.addWidget(splitter)\n",
    "        self.setLayout(layout)\n",
    "\n",
    "\n",
    "if __name__ == \"__main__\":\n",
    "    app = QApplication(sys.argv)\n",
    "    window= ModelViewDemo()\n",
    "    window.show()\n",
    "    sys.exit(app.exec())\n"
   ],
   "metadata": {
    "collapsed": false
   }
  },
  {
   "cell_type": "markdown",
   "source": [],
   "metadata": {
    "collapsed": false
   }
  },
  {
   "cell_type": "code",
   "execution_count": 1,
   "outputs": [],
   "source": [
    "import sys\n",
    "from PyQt6.QtWidgets import QApplication, QMainWindow, QPushButton, QVBoxLayout, QLabel,QWidget\n"
   ],
   "metadata": {
    "collapsed": false
   }
  },
  {
   "cell_type": "markdown",
   "source": [
    "## 9.1 Simple button example\n",
    "\n",
    "As we explained before, the workflow\n",
    "1. User trigger an event (mouse click, keyboard presses, etc.)\n",
    "2. A widget catches the event (e.g. QPushButton, ) and emits a signal\n",
    "3. A Signal can be handled by a slot\n",
    "4. The triggered slot runs some related operation\n",
    "\n",
    "Some of the most relevant features of signals and slots include the following:\n",
    "\n",
    "- A signal can be connected to one or many slots.\n",
    "- A signal may also be connected to another signal.\n",
    "- A slot may be connected to one or many signals.\n",
    "- Signals can also send data to provide additional context about what happened.\n",
    "- Any function (or method) in your application can be used as a slot, simply by connecting the signal to it If the signal sends data, then the receiving function will receive that data too. Many Qt widgets also have their own built-in slots, meaning you can hook Qt widgets together directly\n",
    "\n",
    "If we have many events, widgets and slots. The code will soon become unreadable. So we need to use a pattern to classify and modular code by their functionalities. PyQT uses MVC (Model, view, control) pattern.\n",
    "\n",
    "In below example, we have a simple button, when users push the button, a `button.clicked` signale will be emitted. This signal will be connected with a slot called `theButtonWasClicked`.\n"
   ],
   "metadata": {
    "collapsed": false
   }
  },
  {
   "cell_type": "code",
   "execution_count": 2,
   "outputs": [
    {
     "name": "stderr",
     "output_type": "stream",
     "text": [
      "qt.qpa.xcb: X server does not support XInput 2\n"
     ]
    },
    {
     "ename": "SystemExit",
     "evalue": "0",
     "output_type": "error",
     "traceback": [
      "An exception has occurred, use %tb to see the full traceback.\n",
      "\u001B[0;31mSystemExit\u001B[0m\u001B[0;31m:\u001B[0m 0\n"
     ]
    },
    {
     "name": "stderr",
     "output_type": "stream",
     "text": [
      "/home/pengfei/.cache/pypoetry/virtualenvs/python-desktop-app-framework-xY3vli_t-py3.8/lib/python3.8/site-packages/IPython/core/interactiveshell.py:3441: UserWarning: To exit: use 'exit', 'quit', or Ctrl-D.\n",
      "  warn(\"To exit: use 'exit', 'quit', or Ctrl-D.\", stacklevel=1)\n"
     ]
    }
   ],
   "source": [
    "\n",
    "def theButtonWasClicked():\n",
    "    label = msgLabel\n",
    "    history = label.text()\n",
    "    if history:\n",
    "        label.setText(f\"{history}\\nclicked!\")\n",
    "    else:\n",
    "        label.setText(\"clicked\")\n",
    "\n",
    "app = QApplication([])\n",
    "window = QWidget()\n",
    "window.setWindowTitle(\"My App\")\n",
    "# setup Vertical layout manager\n",
    "layout = QVBoxLayout()\n",
    "\n",
    "# create button widget and add it to layout\n",
    "button = QPushButton(\"Press Me!\")\n",
    "layout.addWidget(button)\n",
    "# link button with function theButtonWasClicked\n",
    "button.clicked.connect(theButtonWasClicked)\n",
    "\n",
    "# create a text area and add it to layout\n",
    "msgLabel = QLabel(\"\")\n",
    "layout.addWidget(msgLabel)\n",
    "\n",
    "# Set the main Window layout.\n",
    "\n",
    "window.setLayout(layout)\n",
    "\n",
    "\n",
    "\n",
    "window.show()\n",
    "\n",
    "sys.exit(app.exec())"
   ],
   "metadata": {
    "collapsed": false
   }
  },
  {
   "cell_type": "markdown",
   "source": [
    "### Receiving data\n",
    "\n",
    "We've heard already that `signals can also send data to slot`, which provides more information about what has just happened.\n",
    "\n",
    "For the button, we can set it as `Checkable`, then the .clicked signal of the button can send a checked (or toggled) state for the button. By defaults, buttons are not checkable.\n",
    "\n",
    "The state is passed as the second parameter of the function `_theButtonWasToggled`"
   ],
   "metadata": {
    "collapsed": false
   }
  },
  {
   "cell_type": "code",
   "execution_count": 2,
   "outputs": [
    {
     "name": "stderr",
     "output_type": "stream",
     "text": [
      "qt.qpa.xcb: X server does not support XInput 2\n"
     ]
    },
    {
     "ename": "SystemExit",
     "evalue": "0",
     "output_type": "error",
     "traceback": [
      "An exception has occurred, use %tb to see the full traceback.\n",
      "\u001B[0;31mSystemExit\u001B[0m\u001B[0;31m:\u001B[0m 0\n"
     ]
    },
    {
     "name": "stderr",
     "output_type": "stream",
     "text": [
      "/home/pengfei/.cache/pypoetry/virtualenvs/python-desktop-app-framework-xY3vli_t-py3.8/lib/python3.8/site-packages/IPython/core/interactiveshell.py:3441: UserWarning: To exit: use 'exit', 'quit', or Ctrl-D.\n",
      "  warn(\"To exit: use 'exit', 'quit', or Ctrl-D.\", stacklevel=1)\n"
     ]
    }
   ],
   "source": [
    "class MainUI(QWidget):\n",
    "    def __init__(self):\n",
    "        super().__init__()\n",
    "        self.setWindowTitle(\"My App\")\n",
    "        # setup Vertical layout manager\n",
    "        layout = QVBoxLayout()\n",
    "        # create button widget and add it to layout\n",
    "        button = QPushButton(\"Press Me!\")\n",
    "        # make button checkable\n",
    "        button.setCheckable(True)\n",
    "        layout.addWidget(button)\n",
    "        # create a text area and add it to layout\n",
    "        self.msgLabel = QLabel(\"\")\n",
    "        layout.addWidget(self.msgLabel)\n",
    "        # Set the main Window layout.\n",
    "        self.setLayout(layout)\n",
    "        # link the checked button with function\n",
    "        button.clicked.connect(self._theButtonWasToggled)\n",
    "    # this function takes an extra argument, so if you liked it with another button that does not send status\n",
    "    # the value of checked will be always None\n",
    "    def _theButtonWasToggled(self,checked):\n",
    "        label = self.msgLabel\n",
    "        history = label.text()\n",
    "        if history:\n",
    "            label.setText(f\"{history}\\nclicked! status {checked}\")\n",
    "        else:\n",
    "            label.setText(f\"clicked, status {checked}\")\n",
    "\n",
    "app = QApplication([])\n",
    "mainUI=MainUI()\n",
    "mainUI.show()\n",
    "\n",
    "sys.exit(app.exec())"
   ],
   "metadata": {
    "collapsed": false
   }
  },
  {
   "cell_type": "markdown",
   "source": [
    "### Storing data\n",
    "\n",
    "Often it is useful to store the `current state of a widget in a Python variable`. This allows you to work with the values like any other Python variable and without accessing the original widget. You can either store these values as individual variables or use a dictionary if you prefer. In the next example we store the checked value of our button in a variable called buttonIsChecked on self."
   ],
   "metadata": {
    "collapsed": false
   }
  },
  {
   "cell_type": "code",
   "execution_count": 4,
   "outputs": [
    {
     "ename": "SystemExit",
     "evalue": "0",
     "output_type": "error",
     "traceback": [
      "An exception has occurred, use %tb to see the full traceback.\n",
      "\u001B[0;31mSystemExit\u001B[0m\u001B[0;31m:\u001B[0m 0\n"
     ]
    },
    {
     "name": "stderr",
     "output_type": "stream",
     "text": [
      "/home/pengfei/.cache/pypoetry/virtualenvs/python-desktop-app-framework-xY3vli_t-py3.8/lib/python3.8/site-packages/IPython/core/interactiveshell.py:3441: UserWarning: To exit: use 'exit', 'quit', or Ctrl-D.\n",
      "  warn(\"To exit: use 'exit', 'quit', or Ctrl-D.\", stacklevel=1)\n"
     ]
    }
   ],
   "source": [
    "class MainUI(QWidget):\n",
    "    def __init__(self):\n",
    "        super().__init__()\n",
    "        # variable to store button current state\n",
    "        self.buttonIsChecked = True\n",
    "        self.setWindowTitle(\"My App\")\n",
    "        # setup Vertical layout manager\n",
    "        layout = QVBoxLayout()\n",
    "        # create button widget and add it to layout\n",
    "        button = QPushButton(\"Press Me!\")\n",
    "        # make button checkable\n",
    "        button.setCheckable(True)\n",
    "        layout.addWidget(button)\n",
    "        # create a text area and add it to layout\n",
    "        self.msgLabel = QLabel(\"\")\n",
    "        layout.addWidget(self.msgLabel)\n",
    "        # Set the main Window layout.\n",
    "        self.setLayout(layout)\n",
    "        button.clicked.connect(self._theButtonWasToggled)\n",
    "\n",
    "    def _theButtonWasToggled(self,checked):\n",
    "        self.buttonIsChecked=checked\n",
    "        label = self.msgLabel\n",
    "        history = label.text()\n",
    "        if history:\n",
    "            label.setText(f\"{history}\\nclicked! status {self.buttonIsChecked}\")\n",
    "        else:\n",
    "            label.setText(f\"clicked, status {self.buttonIsChecked}\")\n",
    "\n",
    "app = QApplication([])\n",
    "mainUI=MainUI()\n",
    "mainUI.show()\n",
    "\n",
    "sys.exit(app.exec())"
   ],
   "metadata": {
    "collapsed": false
   }
  },
  {
   "cell_type": "markdown",
   "source": [
    "## 9.3 Connecting widgets together directly\n",
    "\n",
    "So far we've seen examples of connecting `widget signals to Python methods`. When a signal is fired from the widget, our Python method is called and receives the data from the signal. But you don't always need to use a Python function to handle signals. `You can also connect Qt widgets directly to another widget`.\n",
    "\n",
    "In the following example, we add a `QLineEdit` widget and `a QLabel` to the window. In the `__init__` of the MainWindow class, we connect the `QlineEdit .textChanged signal` to the `QLabel.setText method (slot)` . Now any time the text changes in the QLineEdit the QLabel will receive that text to it's .setText method."
   ],
   "metadata": {
    "collapsed": false
   }
  },
  {
   "cell_type": "code",
   "execution_count": 2,
   "outputs": [
    {
     "name": "stderr",
     "output_type": "stream",
     "text": [
      "qt.qpa.xcb: X server does not support XInput 2\n"
     ]
    },
    {
     "data": {
      "text/plain": "0"
     },
     "execution_count": 2,
     "metadata": {},
     "output_type": "execute_result"
    }
   ],
   "source": [
    "from PyQt6.QtWidgets import QLineEdit\n",
    "\n",
    "\n",
    "class MainWindow(QMainWindow):\n",
    "    def __init__(self):\n",
    "        super().__init__()\n",
    "\n",
    "        self.setWindowTitle(\"My App\")\n",
    "\n",
    "        self.label = QLabel()\n",
    "\n",
    "        self.input = QLineEdit()\n",
    "        self.input.textChanged.connect(self.label.setText)\n",
    "\n",
    "        layout = QVBoxLayout()\n",
    "        layout.addWidget(self.input)\n",
    "        layout.addWidget(self.label)\n",
    "\n",
    "        container = QWidget()\n",
    "        container.setLayout(layout)\n",
    "\n",
    "        # Set the central widget of the Window.\n",
    "        self.setCentralWidget(container)\n",
    "\n",
    "\n",
    "app = QApplication(sys.argv)\n",
    "\n",
    "window = MainWindow()\n",
    "window.show()\n",
    "\n",
    "app.exec()"
   ],
   "metadata": {
    "collapsed": false
   }
  },
  {
   "cell_type": "markdown",
   "source": [
    "> Most Qt widgets have slots available, to which you can connect any signal that emits the same type that it accepts. The widgets slot should be listed as \"Public Slots\". Otherwise, you shouldn't use it. The widget documentation can provide you more information. For example, see https://doc.qt.io/qt-5/qlabel.html#public-slots[QLabel]."
   ],
   "metadata": {
    "collapsed": false
   }
  },
  {
   "cell_type": "markdown",
   "source": [
    "## 9.4 Event\n",
    "\n",
    "**Every interaction the user has with a Qt application is an event**. There are many types of event, each representing a different type of interaction. `Qt represents these events using event objects` which package up information about what happened. These `events are passed to specific event handlers on the widget where the interaction occurred`.\n",
    "\n",
    "By defining custom, or extended event handlers you can alter the way your widgets respond to these events. Event handlers are defined just like any other method, but the name is specific for the type of event they handle.\n",
    "\n",
    "One of the main events which widgets receive is the `QMouseEvent`. QMouseEvent events are created for each and every mouse movement and button click on a widget. The following event handlers are available for handling mouse events:\n",
    "\n",
    "| Event handler         | \tEvent type moved      |\n",
    "|-----------------------|------------------------|\n",
    "| mouseMoveEvent\t       | Mouse moved            |\n",
    "| mousePressEvent\t      | Mouse button pressed   |\n",
    "| mouseReleaseEvent     | \tMouse button released |\n",
    "| mouseDoubleClickEvent | \tDouble click detected |\n",
    "\n",
    "For example, clicking on a widget will cause a QMouseEvent to be sent to the .mousePressEvent event handler on that widget. This handler can use the event object to find out information about what happened, such as what triggered the event and where specifically it occurred.\n",
    "\n",
    "You can intercept events by sub-classing and overriding the handler method on the class. You can choose to filter, modify, or ignore events, passing them up to the normal handler for the event by calling the parent class function with `super()`. These could be added to your main window class as follows. In each case `e` will receive the incoming event."
   ],
   "metadata": {
    "collapsed": false
   }
  },
  {
   "cell_type": "markdown",
   "source": [
    "You'll notice that mouse move events are only registered when you have the button pressed down. You can change this by calling self.setMouseTracking(True) on the window. You may also notice that the press (click) and double-click events both fire when the button is pressed down. Only the release event fires when the button is released. Typically, to register a click from a user you should watch for both the mouse down and the release.\n",
    "\n",
    "Inside the event handlers you have access to an event object. This object contains information about the event and can be used to respond differently depending on what exactly has occurred. We'll look at the mouse event objects next."
   ],
   "metadata": {
    "collapsed": false
   }
  },
  {
   "cell_type": "code",
   "execution_count": 3,
   "outputs": [
    {
     "data": {
      "text/plain": "0"
     },
     "execution_count": 3,
     "metadata": {},
     "output_type": "execute_result"
    }
   ],
   "source": [
    "class MainWindow(QMainWindow):\n",
    "    def __init__(self):\n",
    "        super().__init__()\n",
    "        self.label = QLabel(\"Click in this window\")\n",
    "        self.setCentralWidget(self.label)\n",
    "\n",
    "    def mouseMoveEvent(self, e):\n",
    "        self.label.setText(\"mouseMoveEvent\")\n",
    "\n",
    "    def mousePressEvent(self, e):\n",
    "        self.label.setText(\"mousePressEvent\")\n",
    "\n",
    "    def mouseReleaseEvent(self, e):\n",
    "        self.label.setText(\"mouseReleaseEvent\")\n",
    "\n",
    "    def mouseDoubleClickEvent(self, e):\n",
    "        self.label.setText(\"mouseDoubleClickEvent\")\n",
    "\n",
    "\n",
    "app = QApplication(sys.argv)\n",
    "\n",
    "window = MainWindow()\n",
    "window.show()\n",
    "\n",
    "app.exec()"
   ],
   "metadata": {
    "collapsed": false
   }
  },
  {
   "cell_type": "code",
   "execution_count": 2,
   "outputs": [
    {
     "name": "stderr",
     "output_type": "stream",
     "text": [
      "qt.qpa.xcb: X server does not support XInput 2\n"
     ]
    },
    {
     "data": {
      "text/plain": "0"
     },
     "execution_count": 2,
     "metadata": {},
     "output_type": "execute_result"
    }
   ],
   "source": [
    "\n",
    "# control class\n",
    "class Controller:\n",
    "    def __init__(self, view, model=None):\n",
    "        self._view=view\n",
    "        self._model=model\n",
    "        self._connectSignalsAndSlots()\n",
    "\n",
    "    def _theButtonWasClicked(self):\n",
    "        print(\"Clicked!\")\n",
    "\n",
    "    def _connectSignalsAndSlots(self):\n",
    "        self._view.button.clicked.connect(self._theButtonWasClicked)\n",
    "\n",
    "\n",
    "# view class\n",
    "class MainView(QMainWindow):\n",
    "\n",
    "    def __init__(self):\n",
    "        super(MainView, self).__init__()\n",
    "\n",
    "        self.setWindowTitle(\"My App\")\n",
    "        self.button = QPushButton(\"Press Me!\")\n",
    "        self.button.setCheckable(True)\n",
    "        # Set the central widget of the Window.\n",
    "        self.setCentralWidget(self.button)\n",
    "\n",
    "\n",
    "\n",
    "app = QApplication(sys.argv)\n",
    "mainView = MainView()\n",
    "mainView.show()\n",
    "Controller(view=mainView,)\n",
    "app.exec()"
   ],
   "metadata": {
    "collapsed": false
   }
  },
  {
   "cell_type": "code",
   "execution_count": null,
   "outputs": [],
   "source": [],
   "metadata": {
    "collapsed": false
   }
  },
  {
   "cell_type": "code",
   "execution_count": null,
   "outputs": [],
   "source": [],
   "metadata": {
    "collapsed": false
   }
  },
  {
   "cell_type": "code",
   "execution_count": null,
   "outputs": [],
   "source": [],
   "metadata": {
    "collapsed": false
   }
  }
 ],
 "metadata": {
  "kernelspec": {
   "display_name": "Python 3",
   "language": "python",
   "name": "python3"
  },
  "language_info": {
   "codemirror_mode": {
    "name": "ipython",
    "version": 2
   },
   "file_extension": ".py",
   "mimetype": "text/x-python",
   "name": "python",
   "nbconvert_exporter": "python",
   "pygments_lexer": "ipython2",
   "version": "2.7.6"
  }
 },
 "nbformat": 4,
 "nbformat_minor": 0
}
