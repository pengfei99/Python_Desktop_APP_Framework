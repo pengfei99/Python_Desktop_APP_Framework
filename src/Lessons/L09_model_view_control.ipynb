{
 "cells": [
  {
   "cell_type": "markdown",
   "source": [
    "# 9. MVC for Event Signal and Slot\n",
    "\n",
    "As we explained before, the workflow\n",
    "1. User trigger an event (mouse click, keyboard presses, etc.)\n",
    "2. A widget catches the event (e.g. QPushButton, ) and emits a signal\n",
    "3. A Signal can be handled by a slot\n",
    "4. The triggered slot runs some related operation\n",
    "\n",
    "Some of the most relevant features of signals and slots include the following:\n",
    "\n",
    "- A signal can be connected to one or many slots.\n",
    "- A signal may also be connected to another signal.\n",
    "- A slot may be connected to one or many signals.\n",
    "- Signals can also send data to provide additional context about what happened.\n",
    "- Any function (or method) in your application can be used as a slot, simply by connecting the signal to it If the signal sends data, then the receiving function will receive that data too. Many Qt widgets also have their own built-in slots, meaning you can hook Qt widgets together directly\n",
    "\n",
    "If we have many events, widgets and slots. The code will soon become unreadable. So we need to use a pattern to classify and modular code by their functionalities. PyQT uses MVC (Model, view, control) pattern."
   ],
   "metadata": {
    "collapsed": false
   }
  },
  {
   "cell_type": "code",
   "execution_count": 1,
   "outputs": [
    {
     "name": "stderr",
     "output_type": "stream",
     "text": [
      "qt.qpa.xcb: X server does not support XInput 2\n"
     ]
    },
    {
     "data": {
      "text/plain": "0"
     },
     "execution_count": 1,
     "metadata": {},
     "output_type": "execute_result"
    }
   ],
   "source": [
    "import sys\n",
    "from PyQt6.QtWidgets import QApplication, QMainWindow, QPushButton\n"
   ],
   "metadata": {
    "collapsed": false
   }
  },
  {
   "cell_type": "markdown",
   "source": [
    "## 9.1 First example\n",
    "\n",
    "In below example, we have a simple button, when use push the button, a `button.clicked` signale will be emitted. This signal will be connected with a slot called `theButtonWasClicked`."
   ],
   "metadata": {
    "collapsed": false
   }
  },
  {
   "cell_type": "code",
   "execution_count": null,
   "outputs": [],
   "source": [],
   "metadata": {
    "collapsed": false
   }
  },
  {
   "cell_type": "code",
   "execution_count": 2,
   "outputs": [
    {
     "data": {
      "text/plain": "0"
     },
     "execution_count": 2,
     "metadata": {},
     "output_type": "execute_result"
    }
   ],
   "source": [
    "\n",
    "# control class\n",
    "class Controller:\n",
    "    def __init__(self, view, model=None):\n",
    "        self._view=view\n",
    "        self._model=model\n",
    "\n",
    "    def _theButtonWasClicked(self):\n",
    "        print(\"Clicked!\")\n",
    "\n",
    "    def _connectSignalsAndSlots(self):\n",
    "        self._view.button.clicked.connect(self._theButtonWasClicked)\n",
    "\n",
    "\n",
    "# view class\n",
    "class MainView(QMainWindow):\n",
    "\n",
    "    def __init__(self):\n",
    "        super(MainView, self).__init__()\n",
    "\n",
    "        self.setWindowTitle(\"My App\")\n",
    "        self.button = QPushButton(\"Press Me!\")\n",
    "        self.button.setCheckable(True)\n",
    "        # Set the central widget of the Window.\n",
    "        self.setCentralWidget(self.button)\n",
    "\n",
    "\n",
    "\n",
    "app = QApplication(sys.argv)\n",
    "mainView = MainView()\n",
    "mainView.show()\n",
    "Controller(view=mainView,)\n",
    "app.exec()"
   ],
   "metadata": {
    "collapsed": false
   }
  }
 ],
 "metadata": {
  "kernelspec": {
   "display_name": "Python 3",
   "language": "python",
   "name": "python3"
  },
  "language_info": {
   "codemirror_mode": {
    "name": "ipython",
    "version": 2
   },
   "file_extension": ".py",
   "mimetype": "text/x-python",
   "name": "python",
   "nbconvert_exporter": "python",
   "pygments_lexer": "ipython2",
   "version": "2.7.6"
  }
 },
 "nbformat": 4,
 "nbformat_minor": 0
}
