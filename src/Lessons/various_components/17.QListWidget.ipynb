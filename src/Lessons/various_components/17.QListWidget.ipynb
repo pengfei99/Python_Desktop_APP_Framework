{
 "cells": [
  {
   "cell_type": "markdown",
   "source": [
    "# QListWidget\n",
    "\n",
    "The **QListWidget** class allows you to create a list view widget that has a single column of items. The **QListWidgetItem** class represents the items on the list.\n",
    "\n",
    "The QListWidget class has various useful methods for manipulating items including:\n",
    "\n",
    "- addItems(iterable)  adds items to the list from an iterable of strings.\n",
    "- addItem(QListWidgetItem)  adds an item to the end of the list.\n",
    "- insertItem(row, QListWidgetItem)  inserts an item at the specified row.\n",
    "- takeItem(row)  removes an item from a specified row.\n",
    "- clear()  removes and deletes all items from the list."
   ],
   "metadata": {
    "collapsed": false
   }
  },
  {
   "cell_type": "code",
   "execution_count": null,
   "outputs": [],
   "source": [
    "## First example"
   ],
   "metadata": {
    "collapsed": false
   }
  },
  {
   "cell_type": "code",
   "execution_count": 1,
   "outputs": [
    {
     "name": "stderr",
     "output_type": "stream",
     "text": [
      "qt.qpa.xcb: X server does not support XInput 2\n"
     ]
    },
    {
     "ename": "SystemExit",
     "evalue": "0",
     "output_type": "error",
     "traceback": [
      "An exception has occurred, use %tb to see the full traceback.\n",
      "\u001B[0;31mSystemExit\u001B[0m\u001B[0;31m:\u001B[0m 0\n"
     ]
    },
    {
     "name": "stderr",
     "output_type": "stream",
     "text": [
      "/home/pengfei/.cache/pypoetry/virtualenvs/python-desktop-app-framework-xY3vli_t-py3.8/lib/python3.8/site-packages/IPython/core/interactiveshell.py:3441: UserWarning: To exit: use 'exit', 'quit', or Ctrl-D.\n",
      "  warn(\"To exit: use 'exit', 'quit', or Ctrl-D.\", stacklevel=1)\n"
     ]
    }
   ],
   "source": [
    "import sys\n",
    "from PyQt6.QtWidgets import QInputDialog, QApplication, QWidget,  QGridLayout, QListWidget,  QPushButton\n",
    "from PyQt6.QtGui import QIcon\n",
    "\n",
    "\n",
    "class MainWindow(QWidget):\n",
    "    def __init__(self, *args, **kwargs):\n",
    "        super().__init__(*args, **kwargs)\n",
    "\n",
    "        self.setWindowTitle('My Wish List')\n",
    "        self.setGeometry(100, 100, 400, 100)\n",
    "\n",
    "        layout = QGridLayout(self)\n",
    "        self.setLayout(layout)\n",
    "\n",
    "        self.list_widget = QListWidget(self)\n",
    "        self.list_widget.addItems(['Learn Python', 'Master PyQt'])\n",
    "        layout.addWidget(self.list_widget, 0, 0, 4, 1)\n",
    "\n",
    "        # create buttons\n",
    "        add_button = QPushButton('Add')\n",
    "        add_button.clicked.connect(self.add)\n",
    "\n",
    "        insert_button = QPushButton('Insert')\n",
    "        insert_button.clicked.connect(self.insert)\n",
    "\n",
    "        remove_button = QPushButton('Remove')\n",
    "        remove_button.clicked.connect(self.remove)\n",
    "\n",
    "        clear_button = QPushButton('Clear')\n",
    "        clear_button.clicked.connect(self.clear)\n",
    "\n",
    "        layout.addWidget(add_button, 0, 1)\n",
    "        layout.addWidget(insert_button, 1, 1)\n",
    "        layout.addWidget(remove_button, 2, 1)\n",
    "        layout.addWidget(clear_button, 3, 1)\n",
    "\n",
    "        # show the window\n",
    "        self.show()\n",
    "\n",
    "    def add(self):\n",
    "        text, ok = QInputDialog.getText(self, 'Add a New Wish', 'New Wish:')\n",
    "        if ok and text:\n",
    "            # add item to the end of the list\n",
    "            self.list_widget.addItem(text)\n",
    "\n",
    "    def insert(self):\n",
    "        text, ok = QInputDialog.getText(self, 'Insert a New Wish', 'New Wish:')\n",
    "        if ok and text:\n",
    "            # get current row\n",
    "            current_row = self.list_widget.currentRow()\n",
    "            # insert new row just after the current row\n",
    "            self.list_widget.insertItem(current_row+1, text)\n",
    "\n",
    "    def remove(self):\n",
    "        current_row = self.list_widget.currentRow()\n",
    "        if current_row >= 0:\n",
    "            # get current row item\n",
    "            current_item = self.list_widget.takeItem(current_row)\n",
    "            # delete the current row item\n",
    "            del current_item\n",
    "\n",
    "    def clear(self):\n",
    "        # delete all items\n",
    "        self.list_widget.clear()\n",
    "\n",
    "\n",
    "app = QApplication(sys.argv)\n",
    "window = MainWindow()\n",
    "sys.exit(app.exec())"
   ],
   "metadata": {
    "collapsed": false
   }
  },
  {
   "cell_type": "code",
   "execution_count": null,
   "outputs": [],
   "source": [],
   "metadata": {
    "collapsed": false
   }
  }
 ],
 "metadata": {
  "kernelspec": {
   "display_name": "Python 3",
   "language": "python",
   "name": "python3"
  },
  "language_info": {
   "codemirror_mode": {
    "name": "ipython",
    "version": 2
   },
   "file_extension": ".py",
   "mimetype": "text/x-python",
   "name": "python",
   "nbconvert_exporter": "python",
   "pygments_lexer": "ipython2",
   "version": "2.7.6"
  }
 },
 "nbformat": 4,
 "nbformat_minor": 0
}
