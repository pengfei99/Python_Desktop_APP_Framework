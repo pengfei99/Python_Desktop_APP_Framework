{
 "cells": [
  {
   "cell_type": "markdown",
   "source": [
    "# 14 QInputDialog\n",
    "\n",
    "The **QInputDialog** class creates an input dialog widget that receives the inputs from users. The input value can be a string, an integer, a float, or an item from a list.\n",
    "\n",
    "The QInputDialog has five static methods for getting inputs:\n",
    "\n",
    "- **getText()**:  allows the user to enter a single string.\n",
    "- **getInt()**:  allows the user to enter an integer.\n",
    "- **getDouble()**:  allows the user to enter a floating point number.\n",
    "- **getMultiLineText()**:  allows the user to enter multiline text.\n",
    "- **getItem()**:  allows the user to select an item from a list.\n",
    "\n",
    "These methods return a `tuple of two elements`. The first element stores the user input and the second element indicate whether the user selects the `OK or Cancel` button.\n",
    "\n",
    "The following program shows how to display an input dialog that receives a single string from a user"
   ],
   "metadata": {
    "collapsed": false
   }
  },
  {
   "cell_type": "code",
   "execution_count": 1,
   "outputs": [
    {
     "name": "stderr",
     "output_type": "stream",
     "text": [
      "qt.qpa.xcb: X server does not support XInput 2\n"
     ]
    },
    {
     "ename": "SystemExit",
     "evalue": "0",
     "output_type": "error",
     "traceback": [
      "An exception has occurred, use %tb to see the full traceback.\n",
      "\u001B[0;31mSystemExit\u001B[0m\u001B[0;31m:\u001B[0m 0\n"
     ]
    },
    {
     "name": "stderr",
     "output_type": "stream",
     "text": [
      "/home/pengfei/.cache/pypoetry/virtualenvs/python-desktop-app-framework-xY3vli_t-py3.8/lib/python3.8/site-packages/IPython/core/interactiveshell.py:3441: UserWarning: To exit: use 'exit', 'quit', or Ctrl-D.\n",
      "  warn(\"To exit: use 'exit', 'quit', or Ctrl-D.\", stacklevel=1)\n"
     ]
    }
   ],
   "source": [
    "import sys\n",
    "from PyQt6.QtWidgets import QApplication,  QInputDialog, QWidget, QVBoxLayout,  QPushButton\n",
    "\n",
    "\n",
    "class MainWindow(QWidget):\n",
    "    def __init__(self, *args, **kwargs):\n",
    "        super().__init__(*args, **kwargs)\n",
    "\n",
    "        self.setWindowTitle('PyQt Input Dialog')\n",
    "        self.setGeometry(100, 100, 300, 100)\n",
    "\n",
    "        layout = QVBoxLayout()\n",
    "        self.setLayout(layout)\n",
    "\n",
    "        # create a button to trigger the input dialog\n",
    "        btn = QPushButton('Set Window Title')\n",
    "\n",
    "        # link the button with the slot open_input_dialog\n",
    "        btn.clicked.connect(self.open_input_dialog)\n",
    "\n",
    "        layout.addWidget(btn)\n",
    "\n",
    "        self.show()\n",
    "\n",
    "    def open_input_dialog(self):\n",
    "        # creat a QInputDialog and get the user input and status by calling the getText() method\n",
    "        title, ok = QInputDialog.getText(self, 'Title Setting', 'Title:')\n",
    "        if ok and title:\n",
    "            self.setWindowTitle(title)\n",
    "        else:\n",
    "            self.setWindowTitle(\"User cancel it\")\n",
    "\n",
    "\n",
    "\n",
    "app = QApplication(sys.argv)\n",
    "window = MainWindow()\n",
    "sys.exit(app.exec())"
   ],
   "metadata": {
    "collapsed": false
   }
  },
  {
   "cell_type": "code",
   "execution_count": null,
   "outputs": [],
   "source": [],
   "metadata": {
    "collapsed": false
   }
  }
 ],
 "metadata": {
  "kernelspec": {
   "display_name": "Python 3",
   "language": "python",
   "name": "python3"
  },
  "language_info": {
   "codemirror_mode": {
    "name": "ipython",
    "version": 2
   },
   "file_extension": ".py",
   "mimetype": "text/x-python",
   "name": "python",
   "nbconvert_exporter": "python",
   "pygments_lexer": "ipython2",
   "version": "2.7.6"
  }
 },
 "nbformat": 4,
 "nbformat_minor": 0
}
