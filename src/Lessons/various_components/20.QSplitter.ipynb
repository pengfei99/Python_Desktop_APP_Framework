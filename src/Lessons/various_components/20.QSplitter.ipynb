{
 "cells": [
  {
   "cell_type": "markdown",
   "source": [
    "# 20. QSplitter\n",
    "\n",
    "A splitter lets the user control the size of child widgets by dragging the boundary between them. Any number of widgets may be controlled by a single splitter. The typical use of a QSplitter is to create several widgets and add them using **insertWidget()** or **addWidget()**.\n",
    "\n",
    "In below example, we use a splitter to separate the left side and right side widget."
   ],
   "metadata": {
    "collapsed": false
   }
  },
  {
   "cell_type": "code",
   "execution_count": 1,
   "outputs": [
    {
     "name": "stderr",
     "output_type": "stream",
     "text": [
      "qt.qpa.xcb: X server does not support XInput 2\n"
     ]
    },
    {
     "ename": "SystemExit",
     "evalue": "0",
     "output_type": "error",
     "traceback": [
      "An exception has occurred, use %tb to see the full traceback.\n",
      "\u001B[0;31mSystemExit\u001B[0m\u001B[0;31m:\u001B[0m 0\n"
     ]
    },
    {
     "name": "stderr",
     "output_type": "stream",
     "text": [
      "/home/pengfei/.cache/pypoetry/virtualenvs/python-desktop-app-framework-xY3vli_t-py3.8/lib/python3.8/site-packages/IPython/core/interactiveshell.py:3441: UserWarning: To exit: use 'exit', 'quit', or Ctrl-D.\n",
      "  warn(\"To exit: use 'exit', 'quit', or Ctrl-D.\", stacklevel=1)\n"
     ]
    }
   ],
   "source": [
    "\n",
    "import sys\n",
    "\n",
    "from PyQt6 import QtCore\n",
    "from PyQt6.QtWidgets import QWidget, QSplitter, QHBoxLayout, QTreeView, QTableView, QApplication, QMainWindow\n",
    "\n",
    "\n",
    "class MyMainWindow(object):\n",
    "    def __init__(self):\n",
    "        self.tableView = None\n",
    "        self.layout2 = None\n",
    "        self.right = None\n",
    "        self.treeView = None\n",
    "        self.layout1 = None\n",
    "        self.left = None\n",
    "        self.centralwidget = None\n",
    "        self.splitter = None\n",
    "\n",
    "    def setupUi(self, MainWindow):\n",
    "        MainWindow.setObjectName(\"MainWindow\")\n",
    "        MainWindow.setGeometry(100,100,1024, 768)\n",
    "        # central widget\n",
    "        self.centralwidget = QWidget(MainWindow)\n",
    "        self.centralwidget.setObjectName(\"centralwidget\")\n",
    "\n",
    "        # splitter\n",
    "        self.splitter = QSplitter(self.centralwidget)\n",
    "        self.splitter.setGeometry(QtCore.QRect(-10, 3, 1441, 741))\n",
    "        self.splitter.setOrientation(QtCore.Qt.Orientation.Horizontal)\n",
    "        self.splitter.setObjectName(\"splitter\")\n",
    "\n",
    "        self.left = QWidget()\n",
    "        self.left.setObjectName(\"horizontalLayoutWidget\")\n",
    "\n",
    "        # setup layout1 for left\n",
    "        self.layout1 = QHBoxLayout()\n",
    "        self.layout1.setContentsMargins(0, 0, 0, 0)\n",
    "        self.layout1.setObjectName(\"horizontalLayout\")\n",
    "        self.left.setLayout(self.layout1)\n",
    "\n",
    "        # add tree view to left\n",
    "        self.treeView = QTreeView(self.left)\n",
    "        self.treeView.setObjectName(\"treeView\")\n",
    "        self.layout1.addWidget(self.treeView)\n",
    "\n",
    "        self.right = QWidget()\n",
    "        self.right.setObjectName(\"horizontalLayoutWidget_2\")\n",
    "\n",
    "        # setup layout2 for right\n",
    "        self.layout2 = QHBoxLayout(self.right)\n",
    "        self.layout2.setContentsMargins(0, 0, 0, 0)\n",
    "        self.layout2.setObjectName(\"horizontalLayout_2\")\n",
    "\n",
    "        self.tableView = QTableView(self.right)\n",
    "        self.tableView.setObjectName(\"tableView\")\n",
    "        self.layout2.addWidget(self.tableView)\n",
    "\n",
    "        # here the splitter play the role of layout for the central widget,\n",
    "        # so we only need to add the right widget and left widget to the splitter\n",
    "        self.splitter.addWidget(self.left)\n",
    "        self.splitter.addWidget(self.right)\n",
    "\n",
    "        MainWindow.setCentralWidget(self.centralwidget)\n",
    "\n",
    "        self.retranslateUi(MainWindow)\n",
    "        QtCore.QMetaObject.connectSlotsByName(MainWindow)\n",
    "\n",
    "    def retranslateUi(self, MainWindow):\n",
    "        _translate = QtCore.QCoreApplication.translate\n",
    "        MainWindow.setWindowTitle(_translate(\"MainWindow\", \"Pengfei data manager\"))\n",
    "\n",
    "\n",
    "########### End of generated file ########################################\n",
    "\n",
    "\n",
    "class Window(QMainWindow, MyMainWindow):\n",
    "    def __init__(self, parent=None):\n",
    "        super().__init__(parent)\n",
    "        self.setupUi(self)\n",
    "\n",
    "\n",
    "if __name__ == \"__main__\":\n",
    "    app = QApplication(sys.argv)\n",
    "    win = Window()\n",
    "    win.show()\n",
    "    sys.exit(app.exec())\n"
   ],
   "metadata": {
    "collapsed": false
   }
  },
  {
   "cell_type": "markdown",
   "source": [
    "## 20.1 Set up the default split factor\n",
    "\n",
    "In the above example, you can notice the left and right widget is split half-and-half. We can change the default split factor by using **setStretchFactor(widget_index, split_ratio)**.\n",
    "- The first argument is the index of the widget. In below example, we add two widget into the splitter, so the valid index value is `0 and 1`.\n",
    "- The 2nd argument is the ratio of the split. In below example, we set widget 0 to 3, and widget 1 to 7. So in total we have 10 parts and left (widget 0) has 3 parts. and right (widget 1) has 7 parts.\n",
    "\n",
    "There is no limit in the total parts. So if we use below setup, in total we have 5 parts and left (widget 0) has 1 parts. and right (widget 1) has 4 parts.\n",
    "\n",
    "```python\n",
    "self.splitter.setStretchFactor(0, 1)\n",
    "self.splitter.setStretchFactor(1, 4)\n",
    "```\n"
   ],
   "metadata": {
    "collapsed": false
   }
  },
  {
   "cell_type": "code",
   "execution_count": 1,
   "outputs": [
    {
     "name": "stderr",
     "output_type": "stream",
     "text": [
      "qt.qpa.xcb: X server does not support XInput 2\n"
     ]
    },
    {
     "ename": "SystemExit",
     "evalue": "0",
     "output_type": "error",
     "traceback": [
      "An exception has occurred, use %tb to see the full traceback.\n",
      "\u001B[0;31mSystemExit\u001B[0m\u001B[0;31m:\u001B[0m 0\n"
     ]
    },
    {
     "name": "stderr",
     "output_type": "stream",
     "text": [
      "/home/pengfei/.cache/pypoetry/virtualenvs/python-desktop-app-framework-xY3vli_t-py3.8/lib/python3.8/site-packages/IPython/core/interactiveshell.py:3441: UserWarning: To exit: use 'exit', 'quit', or Ctrl-D.\n",
      "  warn(\"To exit: use 'exit', 'quit', or Ctrl-D.\", stacklevel=1)\n"
     ]
    }
   ],
   "source": [
    "\n",
    "import sys\n",
    "\n",
    "from PyQt6 import QtCore\n",
    "from PyQt6.QtWidgets import QWidget, QSplitter, QHBoxLayout, QTreeView, QTableView, QApplication, QMainWindow\n",
    "\n",
    "\n",
    "class MyMainWindow(object):\n",
    "    def __init__(self):\n",
    "        self.tableView = None\n",
    "        self.layout2 = None\n",
    "        self.right = None\n",
    "        self.treeView = None\n",
    "        self.layout1 = None\n",
    "        self.left = None\n",
    "        self.centralwidget = None\n",
    "        self.splitter = None\n",
    "\n",
    "    def setupUi(self, MainWindow):\n",
    "        MainWindow.setObjectName(\"MainWindow\")\n",
    "        MainWindow.setGeometry(100,100,1024, 768)\n",
    "        # central widget\n",
    "        self.centralwidget = QWidget(MainWindow)\n",
    "        self.centralwidget.setObjectName(\"centralwidget\")\n",
    "\n",
    "        # splitter\n",
    "        self.splitter = QSplitter(self.centralwidget)\n",
    "        self.splitter.setGeometry(QtCore.QRect(-10, 3, 1441, 741))\n",
    "        self.splitter.setOrientation(QtCore.Qt.Orientation.Horizontal)\n",
    "        self.splitter.setObjectName(\"splitter\")\n",
    "\n",
    "        self.left = QWidget()\n",
    "        self.left.setObjectName(\"horizontalLayoutWidget\")\n",
    "\n",
    "        # setup layout1 for left\n",
    "        self.layout1 = QHBoxLayout()\n",
    "        self.layout1.setContentsMargins(0, 0, 0, 0)\n",
    "        self.layout1.setObjectName(\"horizontalLayout\")\n",
    "        self.left.setLayout(self.layout1)\n",
    "\n",
    "        # add tree view to left\n",
    "        self.treeView = QTreeView(self.left)\n",
    "        self.treeView.setObjectName(\"treeView\")\n",
    "        self.layout1.addWidget(self.treeView)\n",
    "\n",
    "        self.right = QWidget()\n",
    "        self.right.setObjectName(\"horizontalLayoutWidget_2\")\n",
    "\n",
    "        # setup layout2 for right\n",
    "        self.layout2 = QHBoxLayout(self.right)\n",
    "        self.layout2.setContentsMargins(0, 0, 0, 0)\n",
    "        self.layout2.setObjectName(\"horizontalLayout_2\")\n",
    "\n",
    "        self.tableView = QTableView(self.right)\n",
    "        self.tableView.setObjectName(\"tableView\")\n",
    "        self.layout2.addWidget(self.tableView)\n",
    "\n",
    "        # here the splitter play the role of layout for the central widget,\n",
    "        # so we only need to add the right widget and left widget to the splitter\n",
    "        self.splitter.addWidget(self.left)\n",
    "        self.splitter.addWidget(self.right)\n",
    "\n",
    "        # setup default split factor\n",
    "        self.splitter.setStretchFactor(0, 3)\n",
    "        self.splitter.setStretchFactor(1, 7)\n",
    "\n",
    "        MainWindow.setCentralWidget(self.centralwidget)\n",
    "\n",
    "        self.retranslateUi(MainWindow)\n",
    "        QtCore.QMetaObject.connectSlotsByName(MainWindow)\n",
    "\n",
    "    def retranslateUi(self, MainWindow):\n",
    "        _translate = QtCore.QCoreApplication.translate\n",
    "        MainWindow.setWindowTitle(_translate(\"MainWindow\", \"Pengfei data manager\"))\n",
    "\n",
    "\n",
    "########### End of generated file ########################################\n",
    "\n",
    "\n",
    "class Window(QMainWindow, MyMainWindow):\n",
    "    def __init__(self, parent=None):\n",
    "        super().__init__(parent)\n",
    "        self.setupUi(self)\n",
    "\n",
    "\n",
    "if __name__ == \"__main__\":\n",
    "    app = QApplication(sys.argv)\n",
    "    win = Window()\n",
    "    win.show()\n",
    "    sys.exit(app.exec())\n"
   ],
   "metadata": {
    "collapsed": false
   }
  },
  {
   "cell_type": "markdown",
   "source": [
    "## 20.2 Responsive Qsplitter\n",
    "\n",
    "In the two previous example, you can notice that the Qsplitter is not responsive when we change the size of the main window. In below example, the qspliter is responsive. We need to find out why\n",
    "\n"
   ],
   "metadata": {
    "collapsed": false
   }
  },
  {
   "cell_type": "code",
   "execution_count": null,
   "outputs": [],
   "source": [
    "import sys\n",
    "\n",
    "from PyQt6.QtCore import Qt\n",
    "from PyQt6.QtWidgets import (QWidget, QHBoxLayout, QFrame,\n",
    "        QSplitter, QApplication)\n",
    "\n",
    "\n",
    "class Example(QWidget):\n",
    "\n",
    "    def __init__(self):\n",
    "        super().__init__()\n",
    "\n",
    "        self.initUI()\n",
    "\n",
    "\n",
    "    def initUI(self):\n",
    "\n",
    "        hbox = QHBoxLayout(self)\n",
    "\n",
    "        topleft = QFrame(self)\n",
    "        topleft.setFrameShape(QFrame.Shape.StyledPanel)\n",
    "\n",
    "        topright = QFrame(self)\n",
    "        topright.setFrameShape(QFrame.Shape.StyledPanel)\n",
    "\n",
    "        bottom = QFrame(self)\n",
    "        bottom.setFrameShape(QFrame.Shape.StyledPanel)\n",
    "\n",
    "        splitter1 = QSplitter(Qt.Orientation.Horizontal)\n",
    "        splitter1.addWidget(topleft)\n",
    "        splitter1.addWidget(topright)\n",
    "\n",
    "        splitter2 = QSplitter(Qt.Orientation.Vertical)\n",
    "        splitter2.addWidget(splitter1)\n",
    "        splitter2.addWidget(bottom)\n",
    "\n",
    "        hbox.addWidget(splitter2)\n",
    "        self.setLayout(hbox)\n",
    "\n",
    "        self.setGeometry(300, 300, 450, 400)\n",
    "        self.setWindowTitle('QSplitter')\n",
    "        self.show()\n",
    "\n",
    "\n",
    "def main():\n",
    "\n",
    "    app = QApplication(sys.argv)\n",
    "    ex = Example()\n",
    "    sys.exit(app.exec())\n",
    "\n",
    "\n",
    "if __name__ == '__main__':\n",
    "    main()"
   ],
   "metadata": {
    "collapsed": false
   }
  },
  {
   "cell_type": "markdown",
   "source": [
    "Another example to split the view differently"
   ],
   "metadata": {
    "collapsed": false
   }
  },
  {
   "cell_type": "code",
   "execution_count": null,
   "outputs": [],
   "source": [
    "import sys\n",
    "\n",
    "from PyQt6.QtCore import Qt\n",
    "from PyQt6.QtWidgets import (QWidget, QHBoxLayout, QFrame,\n",
    "                             QSplitter, QApplication)\n",
    "\n",
    "\n",
    "class Example(QWidget):\n",
    "\n",
    "    def __init__(self):\n",
    "        super().__init__()\n",
    "\n",
    "        self.initUI()\n",
    "\n",
    "    def initUI(self):\n",
    "        hbox = QHBoxLayout(self)\n",
    "\n",
    "        left = QFrame(self)\n",
    "        left.setFrameShape(QFrame.Shape.StyledPanel)\n",
    "\n",
    "        rightUpper = QFrame(self)\n",
    "        rightUpper.setFrameShape(QFrame.Shape.StyledPanel)\n",
    "\n",
    "        rightBottom = QFrame(self)\n",
    "        rightBottom.setFrameShape(QFrame.Shape.StyledPanel)\n",
    "\n",
    "        splitter2 = QSplitter(Qt.Orientation.Vertical)\n",
    "        splitter2.addWidget(rightUpper)\n",
    "        splitter2.addWidget(rightBottom)\n",
    "\n",
    "        splitter1 = QSplitter(Qt.Orientation.Horizontal)\n",
    "        splitter1.addWidget(left)\n",
    "        splitter1.addWidget(splitter2)\n",
    "\n",
    "        hbox.addWidget(splitter1)\n",
    "        self.setLayout(hbox)\n",
    "\n",
    "        self.setGeometry(300, 300, 450, 400)\n",
    "        self.setWindowTitle('QSplitter')\n",
    "        self.show()\n",
    "\n",
    "\n",
    "def main():\n",
    "    app = QApplication(sys.argv)\n",
    "    ex = Example()\n",
    "    sys.exit(app.exec())"
   ],
   "metadata": {
    "collapsed": false
   }
  }
 ],
 "metadata": {
  "kernelspec": {
   "display_name": "Python 3",
   "language": "python",
   "name": "python3"
  },
  "language_info": {
   "codemirror_mode": {
    "name": "ipython",
    "version": 2
   },
   "file_extension": ".py",
   "mimetype": "text/x-python",
   "name": "python",
   "nbconvert_exporter": "python",
   "pygments_lexer": "ipython2",
   "version": "2.7.6"
  }
 },
 "nbformat": 4,
 "nbformat_minor": 0
}
