{
 "cells": [
  {
   "cell_type": "markdown",
   "source": [
    "# 26. QGroupBox\n",
    "\n",
    "A **QGroupBox** can group widgets, it provides a frame, title on top, and it can display a multiple of widgets inside. It typically has a title and a border. Any PyQt widget can be added into the group box. This can be further used to communicate your UI/UX to your user.\n",
    "\n",
    "\n",
    "## 26.1 A simple example\n",
    "\n",
    "Below is an example of QGroupBox which contains three rows:\n",
    "1. contains two radio box\n",
    "2. a combo box\n",
    "3. a label and an input"
   ],
   "metadata": {
    "collapsed": false
   }
  },
  {
   "cell_type": "code",
   "execution_count": null,
   "outputs": [],
   "source": [
    "from PyQt6.QtWidgets import QVBoxLayout, QGroupBox, QGridLayout, QRadioButton, QApplication, QWidget, QComboBox, QLabel, \\\n",
    "    QLineEdit\n",
    "import sys\n",
    "\n",
    "\n",
    "class GroupBox(QWidget):\n",
    "\n",
    "    def __init__(self):\n",
    "        QWidget.__init__(self)\n",
    "\n",
    "        self.setWindowTitle(\"GroupBox\")\n",
    "        # setup main layout\n",
    "        layout = QVBoxLayout()\n",
    "        self.setLayout(layout)\n",
    "\n",
    "        # create a group box\n",
    "        self.groupbox = QGroupBox(\"GroupBox Example\")\n",
    "        # the checkable can make the group box un editable after uncheck\n",
    "        self.groupbox.setCheckable(True)\n",
    "        layout.addWidget(self.groupbox)\n",
    "\n",
    "        boxLayout = QGridLayout()\n",
    "        self.groupbox.setLayout(boxLayout)\n",
    "\n",
    "        # first row of the group box is two radio button\n",
    "        radiobutton = QRadioButton(\"RadioButton 1\")\n",
    "        boxLayout.addWidget(radiobutton, 0, 0)\n",
    "        radiobutton = QRadioButton(\"RadioButton 2\")\n",
    "        boxLayout.addWidget(radiobutton, 0, 1)\n",
    "\n",
    "        # second row is a combobox\n",
    "        comboBox= QComboBox(self)\n",
    "        comboBox.addItems(['val1','val2','val3'])\n",
    "        boxLayout.addWidget(comboBox,1,0,1,2)\n",
    "\n",
    "        # third row is a label and input\n",
    "        label=QLabel(\"Name:\")\n",
    "        input=QLineEdit(self)\n",
    "        boxLayout.addWidget(label,2,0)\n",
    "        boxLayout.addWidget(input,2,1)\n",
    "\n",
    "\n",
    "app = QApplication(sys.argv)\n",
    "screen = GroupBox()\n",
    "screen.show()\n",
    "sys.exit(app.exec())"
   ],
   "metadata": {
    "collapsed": false
   }
  },
  {
   "cell_type": "markdown",
   "source": [
    "## 26.2 Multiple group box\n",
    "\n",
    "You can have multiple group box in one widget. Check below example\n"
   ],
   "metadata": {
    "collapsed": false
   }
  },
  {
   "cell_type": "code",
   "execution_count": null,
   "outputs": [],
   "source": [
    "import sys\n",
    "from PyQt6.QtWidgets import QApplication, QWidget,  QFormLayout, QPushButton, QGroupBox, QLineEdit, QDateEdit\n",
    "\n",
    "\n",
    "class MainWindow(QWidget):\n",
    "    def __init__(self, *args, **kwargs):\n",
    "        super().__init__(*args, **kwargs)\n",
    "\n",
    "        self.setWindowTitle('PyQt QGroupBox')\n",
    "\n",
    "        layout = QFormLayout(self)\n",
    "        self.setLayout(layout)\n",
    "\n",
    "        person_groupbox = QGroupBox('Personal Information')\n",
    "        form_layout = QFormLayout()\n",
    "        person_groupbox.setLayout(form_layout)\n",
    "\n",
    "        form_layout.addRow('First Name:', QLineEdit(person_groupbox))\n",
    "        form_layout.addRow('Last Name:', QLineEdit(person_groupbox))\n",
    "        form_layout.addRow('DOB:', QDateEdit(person_groupbox))\n",
    "\n",
    "        contact_groupbox = QGroupBox('Contact Information')\n",
    "        form_layout = QFormLayout()\n",
    "        contact_groupbox.setLayout(form_layout)\n",
    "        form_layout.addRow('Phone Number:', QLineEdit(contact_groupbox))\n",
    "        form_layout.addRow('Email Address:', QLineEdit(contact_groupbox))\n",
    "\n",
    "        layout.addWidget(person_groupbox)\n",
    "        layout.addWidget(contact_groupbox)\n",
    "        layout.addWidget(QPushButton('Save'))\n",
    "\n",
    "        # show the window\n",
    "        self.show()\n",
    "\n",
    "\n",
    "if __name__ == '__main__':\n",
    "    app = QApplication(sys.argv)\n",
    "    window = MainWindow()\n",
    "    sys.exit(app.exec())"
   ],
   "metadata": {
    "collapsed": false
   }
  }
 ],
 "metadata": {
  "kernelspec": {
   "display_name": "Python 3",
   "language": "python",
   "name": "python3"
  },
  "language_info": {
   "codemirror_mode": {
    "name": "ipython",
    "version": 2
   },
   "file_extension": ".py",
   "mimetype": "text/x-python",
   "name": "python",
   "nbconvert_exporter": "python",
   "pygments_lexer": "ipython2",
   "version": "2.7.6"
  }
 },
 "nbformat": 4,
 "nbformat_minor": 0
}
