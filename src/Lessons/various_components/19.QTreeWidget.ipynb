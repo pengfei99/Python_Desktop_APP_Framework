{
 "cells": [
  {
   "cell_type": "markdown",
   "source": [
    "# QTreeWidget\n",
    "\n",
    "The **QTreeWidget** class allows you to create a tree view widget that consists of items. The items of the tree have parent/child relationships. The **QTreeWidgetItem** class represents the item of the tree.\n",
    "\n",
    "## 19.1 Simple example\n",
    "\n",
    "In below example, we build a simple tree widget which contains only one column. It has two top level item: `Parent1 and Parent2`. Each top level item has 10 child item."
   ],
   "metadata": {
    "collapsed": false
   }
  },
  {
   "cell_type": "code",
   "execution_count": 4,
   "outputs": [
    {
     "ename": "SystemExit",
     "evalue": "0",
     "output_type": "error",
     "traceback": [
      "An exception has occurred, use %tb to see the full traceback.\n",
      "\u001B[0;31mSystemExit\u001B[0m\u001B[0;31m:\u001B[0m 0\n"
     ]
    },
    {
     "name": "stderr",
     "output_type": "stream",
     "text": [
      "/home/pengfei/.cache/pypoetry/virtualenvs/python-desktop-app-framework-xY3vli_t-py3.8/lib/python3.8/site-packages/IPython/core/interactiveshell.py:3441: UserWarning: To exit: use 'exit', 'quit', or Ctrl-D.\n",
      "  warn(\"To exit: use 'exit', 'quit', or Ctrl-D.\", stacklevel=1)\n"
     ]
    }
   ],
   "source": [
    "import sys\n",
    "\n",
    "from PyQt6.QtCore import Qt\n",
    "from PyQt6.QtWidgets import QTreeWidgetItem, QApplication, QTreeWidget\n",
    "\n",
    "\n",
    "class MyWindow(QTreeWidget):\n",
    "    def __init__(self):\n",
    "        super().__init__()\n",
    "\n",
    "        # set up the number of columns for the tree, in this example is 1\n",
    "        self.setColumnCount(1)\n",
    "        # insert a top level item, which is a list of QTreeWidgetItem\n",
    "        self.insertTopLevelItems(0, [QTreeWidgetItem(None, [\"Parent1\"]),QTreeWidgetItem(None, [\"Parent2\"])])\n",
    "\n",
    "        # get top level item by their index\n",
    "        parent1 = self.topLevelItem(0)\n",
    "        parent2=self.topLevelItem(1)\n",
    "\n",
    "        # assign child item for parent1\n",
    "        for i in range(10):\n",
    "            node = QTreeWidgetItem(None, [\"Item\" + str(i)])\n",
    "            parent1.addChild(node)\n",
    "\n",
    "        # assign child item for parent2\n",
    "        for i in range(10,20):\n",
    "            node = QTreeWidgetItem(None, [\"Item\" + str(i)])\n",
    "            parent2.addChild(node)\n",
    "\n",
    "app = QApplication(sys.argv)\n",
    "myWindow = MyWindow()\n",
    "myWindow.show()\n",
    "\n",
    "sys.exit(app.exec())"
   ],
   "metadata": {
    "collapsed": false
   }
  },
  {
   "cell_type": "markdown",
   "source": [
    "## 19.2 Get the selected Item\n",
    "\n",
    "Below code shows an example on how to get the selected item"
   ],
   "metadata": {
    "collapsed": false
   }
  },
  {
   "cell_type": "code",
   "execution_count": 4,
   "outputs": [
    {
     "ename": "SystemExit",
     "evalue": "0",
     "output_type": "error",
     "traceback": [
      "An exception has occurred, use %tb to see the full traceback.\n",
      "\u001B[0;31mSystemExit\u001B[0m\u001B[0;31m:\u001B[0m 0\n"
     ]
    },
    {
     "name": "stderr",
     "output_type": "stream",
     "text": [
      "/home/pengfei/.cache/pypoetry/virtualenvs/python-desktop-app-framework-xY3vli_t-py3.8/lib/python3.8/site-packages/IPython/core/interactiveshell.py:3441: UserWarning: To exit: use 'exit', 'quit', or Ctrl-D.\n",
      "  warn(\"To exit: use 'exit', 'quit', or Ctrl-D.\", stacklevel=1)\n"
     ]
    }
   ],
   "source": [
    "import sys\n",
    "\n",
    "from PyQt6.QtCore import Qt\n",
    "from PyQt6.QtWidgets import QTreeWidgetItem, QApplication, QTreeWidget,QWidget,QPushButton,QLabel,QVBoxLayout\n",
    "\n",
    "\n",
    "class MainWindow(QWidget):\n",
    "    def __init__(self):\n",
    "        super().__init__()\n",
    "\n",
    "        # set up main widget\n",
    "        self.setWindowTitle(\"TreeWidget example\")\n",
    "        self.setGeometry(100,100,300,200)\n",
    "\n",
    "        layout=QVBoxLayout()\n",
    "        self.setLayout(layout)\n",
    "\n",
    "        # build tree widget\n",
    "        self.treeWidget=QTreeWidget(self)\n",
    "        # set up the number of columns for the tree, in this example is 1\n",
    "        self.treeWidget.setColumnCount(1)\n",
    "        # insert a top level item, which is a list of QTreeWidgetItem\n",
    "        self.treeWidget.insertTopLevelItems(0, [QTreeWidgetItem(None, [\"Parent1\"]), QTreeWidgetItem(None, [\"Parent2\"])])\n",
    "\n",
    "        # get top level item by their index\n",
    "        parent1 = self.treeWidget.topLevelItem(0)\n",
    "        parent2= self.treeWidget.topLevelItem(1)\n",
    "\n",
    "        # assign child item for parent1\n",
    "        for i in range(10):\n",
    "            node = QTreeWidgetItem(None, [\"Item\" + str(i)])\n",
    "            parent1.addChild(node)\n",
    "\n",
    "        # assign child item for parent2\n",
    "        for i in range(10,20):\n",
    "            node = QTreeWidgetItem(None, [\"Item\" + str(i)])\n",
    "            parent2.addChild(node)\n",
    "\n",
    "        # build button\n",
    "        bt=QPushButton(\"Get item\",self)\n",
    "        bt.clicked.connect(self.get_item)\n",
    "\n",
    "        # build a label\n",
    "        self.output=QLabel()\n",
    "\n",
    "        # add elements to layout\n",
    "        layout.addWidget(self.treeWidget)\n",
    "        layout.addWidget(bt)\n",
    "        layout.addWidget(self.output)\n",
    "\n",
    "    def get_item(self):\n",
    "        items=self.treeWidget.selectedItems()\n",
    "        result=\"\"\n",
    "        for item in items:\n",
    "            # item.text(0) returns the text of column 0\n",
    "            result=result+str(item.text(0))+\"\\n\"\n",
    "        self.output.setText(result)\n",
    "\n",
    "app = QApplication(sys.argv)\n",
    "myWindow = MainWindow()\n",
    "myWindow.show()\n",
    "\n",
    "sys.exit(app.exec())"
   ],
   "metadata": {
    "collapsed": false
   }
  },
  {
   "cell_type": "code",
   "execution_count": null,
   "outputs": [],
   "source": [
    "## 19.3 Connect a file system model with treeView"
   ],
   "metadata": {
    "collapsed": false
   }
  },
  {
   "cell_type": "code",
   "execution_count": 3,
   "outputs": [
    {
     "data": {
      "text/plain": "'/home/pengfei'"
     },
     "execution_count": 3,
     "metadata": {},
     "output_type": "execute_result"
    }
   ],
   "source": [
    "str(pathlib.Path.home())"
   ],
   "metadata": {
    "collapsed": false
   }
  },
  {
   "cell_type": "code",
   "execution_count": 1,
   "outputs": [
    {
     "name": "stderr",
     "output_type": "stream",
     "text": [
      "qt.qpa.xcb: X server does not support XInput 2\n"
     ]
    },
    {
     "ename": "SystemExit",
     "evalue": "0",
     "output_type": "error",
     "traceback": [
      "An exception has occurred, use %tb to see the full traceback.\n",
      "\u001B[0;31mSystemExit\u001B[0m\u001B[0;31m:\u001B[0m 0\n"
     ]
    },
    {
     "name": "stderr",
     "output_type": "stream",
     "text": [
      "/home/pengfei/.cache/pypoetry/virtualenvs/python-desktop-app-framework-xY3vli_t-py3.8/lib/python3.8/site-packages/IPython/core/interactiveshell.py:3441: UserWarning: To exit: use 'exit', 'quit', or Ctrl-D.\n",
      "  warn(\"To exit: use 'exit', 'quit', or Ctrl-D.\", stacklevel=1)\n"
     ]
    }
   ],
   "source": [
    "from PyQt6.QtGui import QFileSystemModel\n",
    "import sys\n",
    "\n",
    "from PyQt6.QtCore import QDir\n",
    "from PyQt6.QtWidgets import QWidget, QTreeView, QVBoxLayout,  QApplication\n",
    "import pathlib\n",
    "\n",
    "\n",
    "class MyWindow(QWidget):\n",
    "    def __init__(self):\n",
    "        super().__init__()\n",
    "\n",
    "        treeModel = QFileSystemModel(self)\n",
    "        treeModel.setRootPath(str(pathlib.Path.home()))\n",
    "\n",
    "        treeView = QTreeView()\n",
    "        treeView.setModel(treeModel)\n",
    "\n",
    "        layout = QVBoxLayout(self)\n",
    "        layout.addWidget(treeView)\n",
    "        self.setLayout(layout)\n",
    "\n",
    "\n",
    "\n",
    "app = QApplication(sys.argv)\n",
    "\n",
    "myWindow = MyWindow()\n",
    "myWindow.show()\n",
    "\n",
    "sys.exit(app.exec())"
   ],
   "metadata": {
    "collapsed": false
   }
  },
  {
   "cell_type": "code",
   "execution_count": 2,
   "outputs": [
    {
     "ename": "SystemExit",
     "evalue": "0",
     "output_type": "error",
     "traceback": [
      "An exception has occurred, use %tb to see the full traceback.\n",
      "\u001B[0;31mSystemExit\u001B[0m\u001B[0;31m:\u001B[0m 0\n"
     ]
    },
    {
     "name": "stderr",
     "output_type": "stream",
     "text": [
      "/home/pengfei/.cache/pypoetry/virtualenvs/python-desktop-app-framework-xY3vli_t-py3.8/lib/python3.8/site-packages/IPython/core/interactiveshell.py:3441: UserWarning: To exit: use 'exit', 'quit', or Ctrl-D.\n",
      "  warn(\"To exit: use 'exit', 'quit', or Ctrl-D.\", stacklevel=1)\n"
     ]
    }
   ],
   "source": [
    "import sys\n",
    "from PyQt6.QtWidgets import QApplication, QMainWindow, QTreeWidget, QTreeWidgetItem\n",
    "from PyQt6.QtCore import Qt,QSize\n",
    "from PyQt6.QtGui import QIcon, QAction\n",
    "\n",
    "\n",
    "class MainWindow(QMainWindow):\n",
    "    def __init__(self, *args, **kwargs):\n",
    "        super().__init__(*args, **kwargs)\n",
    "        self.setWindowTitle('PyQt QTreeWidget')\n",
    "        self.setGeometry(100, 100, 400, 200)\n",
    "\n",
    "        # create tree widget\n",
    "        tree = QTreeWidget(self)\n",
    "\n",
    "        # setup column number\n",
    "        tree.setColumnCount(2)\n",
    "        # set up header\n",
    "        tree.setHeaderLabels(['Departments', 'Employees'])\n",
    "\n",
    "        # build data model\n",
    "        departments = ['Sales','Marketing','HR']\n",
    "        employees = {\n",
    "            'Sales': ['John','Jane','Peter'],\n",
    "            'Marketing': ['Alice','Bob'],\n",
    "            'HR': ['David'],\n",
    "        }\n",
    "\n",
    "        # addition data to the tree\n",
    "        for department in departments:\n",
    "            # Create a tree widget item for each department\n",
    "            department_item = QTreeWidgetItem(tree)\n",
    "            # set the item name with department name\n",
    "            department_item.setText(0,department)\n",
    "            # set the child\n",
    "            for employee in employees[department]:\n",
    "                employee_item   = QTreeWidgetItem(tree)\n",
    "                employee_item.setText(1,employee)\n",
    "\n",
    "                department_item.addChild(employee_item)\n",
    "\n",
    "        # place the tree on the main window\n",
    "        self.setCentralWidget(tree)\n",
    "\n",
    "\n",
    "\n",
    "\n",
    "app = QApplication(sys.argv)\n",
    "window = MainWindow()\n",
    "window.show()\n",
    "sys.exit(app.exec())"
   ],
   "metadata": {
    "collapsed": false
   }
  },
  {
   "cell_type": "markdown",
   "source": [
    "## 19.3 Multi column QTreeWidget\n",
    "\n",
    "We can also have multiple columns in a tree widget"
   ],
   "metadata": {
    "collapsed": false
   }
  },
  {
   "cell_type": "code",
   "execution_count": null,
   "outputs": [],
   "source": [
    "import sys\n",
    "from PyQt6.QtWidgets import QApplication, QMainWindow, QTreeWidget, QTreeWidgetItem\n",
    "\n",
    "\n",
    "class MainWindow(QMainWindow):\n",
    "    def __init__(self, *args, **kwargs):\n",
    "        super().__init__(*args, **kwargs)\n",
    "        self.setWindowTitle('PyQt QTreeWidget')\n",
    "        self.setGeometry(100, 100, 400, 200)\n",
    "\n",
    "        # create a new tree widget\n",
    "        tree = QTreeWidget(self)\n",
    "        # specify the tree column number\n",
    "        tree.setColumnCount(2)\n",
    "        # specify the tree column name\n",
    "        tree.setHeaderLabels(['Column1', 'Column2'])\n",
    "\n",
    "        col1Values = ['Sales', 'Marketing', 'HR']\n",
    "        employees = {\n",
    "            'Sales': ['John', 'Jane', 'Peter'],\n",
    "            'Marketing': ['Alice', 'Bob'],\n",
    "            'HR': ['David'],\n",
    "        }\n",
    "\n",
    "        # addition data to the tree\n",
    "        for value in col1Values:\n",
    "            col1Item = QTreeWidgetItem(tree)\n",
    "            col1Item.setText(0, value)\n",
    "            # set the child\n",
    "            for employee in employees[value]:\n",
    "                col2Item = QTreeWidgetItem(tree)\n",
    "                col2Item.setText(1, employee)\n",
    "\n",
    "                col1Item.addChild(col2Item)\n",
    "\n",
    "        # place the tree on the main window\n",
    "        self.setCentralWidget(tree)\n",
    "\n",
    "\n",
    "if __name__ == '__main__':\n",
    "    app = QApplication(sys.argv)\n",
    "    window = MainWindow()\n",
    "    window.show()\n",
    "    sys.exit(app.exec())"
   ],
   "metadata": {
    "collapsed": false
   }
  },
  {
   "cell_type": "markdown",
   "source": [
    "## 19.4 QTreeView with custom model\n",
    "\n",
    "In below example, we build first a CustomModel by extending the `QAbstractItemModel`"
   ],
   "metadata": {
    "collapsed": false
   }
  },
  {
   "cell_type": "code",
   "execution_count": 1,
   "outputs": [
    {
     "name": "stderr",
     "output_type": "stream",
     "text": [
      "qt.qpa.xcb: X server does not support XInput 2\n"
     ]
    },
    {
     "ename": "SystemExit",
     "evalue": "0",
     "output_type": "error",
     "traceback": [
      "An exception has occurred, use %tb to see the full traceback.\n",
      "\u001B[0;31mSystemExit\u001B[0m\u001B[0;31m:\u001B[0m 0\n"
     ]
    },
    {
     "name": "stderr",
     "output_type": "stream",
     "text": [
      "/home/pengfei/.cache/pypoetry/virtualenvs/python-desktop-app-framework-xY3vli_t-py3.8/lib/python3.8/site-packages/IPython/core/interactiveshell.py:3441: UserWarning: To exit: use 'exit', 'quit', or Ctrl-D.\n",
      "  warn(\"To exit: use 'exit', 'quit', or Ctrl-D.\", stacklevel=1)\n"
     ]
    }
   ],
   "source": [
    "import pathlib\n",
    "import sys\n",
    "from PyQt6 import QtCore, QtWidgets, QtGui\n",
    "from PyQt6.QtWidgets import QTreeView\n",
    "from PyQt6.QtCore import Qt, QAbstractItemModel\n",
    "\n",
    "ICON_PATH = pathlib.Path.cwd() / 'resources'\n",
    "failed = QtGui.QImage(str(ICON_PATH / 'failed.png'))\n",
    "success = QtGui.QImage(str(ICON_PATH / 'success.png'))\n",
    "\n",
    "\n",
    "class CustomNode(object):\n",
    "    def __init__(self, data):\n",
    "        self._data = data\n",
    "        if type(data) == tuple:\n",
    "            self._data = list(data)\n",
    "        if type(data) is str or not hasattr(data, '__getitem__'):\n",
    "            self._data = [data]\n",
    "\n",
    "        self._columncount = len(self._data)\n",
    "        self._children = []\n",
    "        self._parent = None\n",
    "        self._row = 0\n",
    "\n",
    "    def data(self, column):\n",
    "        if column >= 0 and column < len(self._data):\n",
    "            return self._data[column]\n",
    "\n",
    "    def columnCount(self):\n",
    "        return self._columncount\n",
    "\n",
    "    def childCount(self):\n",
    "        return len(self._children)\n",
    "\n",
    "    def child(self, row):\n",
    "        if row >= 0 and row < self.childCount():\n",
    "            return self._children[row]\n",
    "\n",
    "    def parent(self):\n",
    "        return self._parent\n",
    "\n",
    "    def row(self):\n",
    "        return self._row\n",
    "\n",
    "    def addChild(self, child):\n",
    "        child._parent = self\n",
    "        child._row = len(self._children)\n",
    "        self._children.append(child)\n",
    "        self._columncount = max(child.columnCount(), self._columncount)\n",
    "\n",
    "\n",
    "class CustomModel(QAbstractItemModel):\n",
    "    def __init__(self,headers, nodes):\n",
    "        QtCore.QAbstractItemModel.__init__(self)\n",
    "        self._root = CustomNode(None)\n",
    "        self.horizontalHeaders = [''] * len(headers)\n",
    "        for i,header in enumerate(headers):\n",
    "            self.setHeaderData(i, Qt.Orientation.Horizontal, header)\n",
    "        for node in nodes:\n",
    "            self._root.addChild(node)\n",
    "\n",
    "\n",
    "    def rowCount(self, index):\n",
    "        if index.isValid():\n",
    "            return index.internalPointer().childCount()\n",
    "        return self._root.childCount()\n",
    "\n",
    "    def addChild(self, node, _parent):\n",
    "        \"\"\"\n",
    "        Add a child node to the given node\n",
    "        Parameters\n",
    "        ----------\n",
    "        node\n",
    "        _parent\n",
    "\n",
    "        Returns\n",
    "        -------\n",
    "\n",
    "        \"\"\"\n",
    "        # if the given node has no parent, add root as its parent\n",
    "        if not _parent or not _parent.isValid():\n",
    "            parent = self._root\n",
    "        else:\n",
    "            parent = _parent.internalPointer()\n",
    "        parent.addChild(node)\n",
    "\n",
    "    def index(self, row, column, _parent=None):\n",
    "        if not _parent or not _parent.isValid():\n",
    "            parent = self._root\n",
    "        else:\n",
    "            parent = _parent.internalPointer()\n",
    "\n",
    "        if not QtCore.QAbstractItemModel.hasIndex(self, row, column, _parent):\n",
    "            return QtCore.QModelIndex()\n",
    "\n",
    "        child = parent.child(row)\n",
    "        if child:\n",
    "            return QtCore.QAbstractItemModel.createIndex(self, row, column, child)\n",
    "        else:\n",
    "            return QtCore.QModelIndex()\n",
    "\n",
    "    def parent(self, index):\n",
    "        if index.isValid():\n",
    "            p = index.internalPointer().parent()\n",
    "            if p:\n",
    "                return QtCore.QAbstractItemModel.createIndex(self, p.row(), 0, p)\n",
    "        return QtCore.QModelIndex()\n",
    "\n",
    "    def columnCount(self, index):\n",
    "        if index.isValid():\n",
    "            return index.internalPointer().columnCount()\n",
    "        return self._root.columnCount()\n",
    "\n",
    "    def data(self, index, role):\n",
    "        if not index.isValid():\n",
    "            return None\n",
    "        node = index.internalPointer()\n",
    "        if role == Qt.ItemDataRole.DisplayRole:\n",
    "            return node.data(index.column())\n",
    "        if role == Qt.ItemDataRole.DecorationRole:\n",
    "            return success\n",
    "\n",
    "    def setHeaderData(self, section, orientation, data, role=Qt.ItemDataRole.EditRole):\n",
    "        if orientation == Qt.Orientation.Horizontal and role in (Qt.ItemDataRole.DisplayRole, Qt.ItemDataRole.EditRole):\n",
    "            try:\n",
    "                self.horizontalHeaders[section] = data\n",
    "                return True\n",
    "            except:\n",
    "                return False\n",
    "        return super().setHeaderData(section, orientation, data, role)\n",
    "\n",
    "    def headerData(self, section, orientation, role=Qt.ItemDataRole.DisplayRole):\n",
    "        if orientation == Qt.Orientation.Horizontal and role == Qt.ItemDataRole.DisplayRole:\n",
    "            try:\n",
    "                return self.horizontalHeaders[section]\n",
    "            except:\n",
    "                pass\n",
    "        return super().headerData(section, orientation, role)\n",
    "\n",
    "\n",
    "class MyTree():\n",
    "    \"\"\"\n",
    "    \"\"\"\n",
    "\n",
    "    def __init__(self):\n",
    "        self.headers=[\"dataset\",\"validation_task_id\",\"result\"]\n",
    "        self.items = []\n",
    "        datasets = [\"brest_cancer\", \"assu_maladie\", \"hospital\"]\n",
    "        # Set some random data:\n",
    "        for ds in datasets:\n",
    "            self.items.append(CustomNode(ds))\n",
    "            self.items[-1].addChild(CustomNode(['', 'expect_column_to_exist','success']))\n",
    "            self.items[-1].addChild(CustomNode(['', 'expect_column_value_to_be_unique','failed']))\n",
    "\n",
    "        self.tw = QTreeView()\n",
    "        self.tw.setModel(CustomModel(self.headers,self.items))\n",
    "\n",
    "    def add_data(self, data):\n",
    "        \"\"\"\n",
    "        TODO: how to insert data, and update tree.\n",
    "        \"\"\"\n",
    "        # self.items[-1].addChild(CustomNode(['1', '2', '3']))\n",
    "        # self.tw.setModel(CustomModel(self.items))\n",
    "\n",
    "\n",
    "if __name__ == \"__main__\":\n",
    "    app = QtWidgets.QApplication(sys.argv)\n",
    "    mytree = MyTree()\n",
    "    mytree.tw.show()\n",
    "    sys.exit(app.exec())\n"
   ],
   "metadata": {
    "collapsed": false
   }
  },
  {
   "cell_type": "code",
   "execution_count": null,
   "outputs": [],
   "source": [],
   "metadata": {
    "collapsed": false
   }
  }
 ],
 "metadata": {
  "kernelspec": {
   "display_name": "Python 3",
   "language": "python",
   "name": "python3"
  },
  "language_info": {
   "codemirror_mode": {
    "name": "ipython",
    "version": 2
   },
   "file_extension": ".py",
   "mimetype": "text/x-python",
   "name": "python",
   "nbconvert_exporter": "python",
   "pygments_lexer": "ipython2",
   "version": "2.7.6"
  }
 },
 "nbformat": 4,
 "nbformat_minor": 0
}
