{
 "cells": [
  {
   "cell_type": "markdown",
   "source": [
    "# QTreeWidget\n",
    "\n",
    "The **QTreeWidget** class allows you to create a tree view widget that consists of items. The items of the tree have parent/child relationships. The **QTreeWidgetItem** class represents the item of the tree.\n",
    "\n",
    "## 19.1 Simple example\n",
    "\n",
    "In below example, we build a simple tree widget which contains only one column. It has two top level item: `Parent1 and Parent2`. Each top level item has 10 child item."
   ],
   "metadata": {
    "collapsed": false
   }
  },
  {
   "cell_type": "code",
   "execution_count": 4,
   "outputs": [
    {
     "ename": "SystemExit",
     "evalue": "0",
     "output_type": "error",
     "traceback": [
      "An exception has occurred, use %tb to see the full traceback.\n",
      "\u001B[0;31mSystemExit\u001B[0m\u001B[0;31m:\u001B[0m 0\n"
     ]
    },
    {
     "name": "stderr",
     "output_type": "stream",
     "text": [
      "/home/pengfei/.cache/pypoetry/virtualenvs/python-desktop-app-framework-xY3vli_t-py3.8/lib/python3.8/site-packages/IPython/core/interactiveshell.py:3441: UserWarning: To exit: use 'exit', 'quit', or Ctrl-D.\n",
      "  warn(\"To exit: use 'exit', 'quit', or Ctrl-D.\", stacklevel=1)\n"
     ]
    }
   ],
   "source": [
    "import sys\n",
    "\n",
    "from PyQt6.QtCore import Qt\n",
    "from PyQt6.QtWidgets import QTreeWidgetItem, QApplication, QTreeWidget\n",
    "\n",
    "\n",
    "class MyWindow(QTreeWidget):\n",
    "    def __init__(self):\n",
    "        super().__init__()\n",
    "\n",
    "        # set up the number of columns for the tree, in this example is 1\n",
    "        self.setColumnCount(1)\n",
    "        # insert a top level item, which is a list of QTreeWidgetItem\n",
    "        self.insertTopLevelItems(0, [QTreeWidgetItem(None, [\"Parent1\"]),QTreeWidgetItem(None, [\"Parent2\"])])\n",
    "\n",
    "        # get top level item by their index\n",
    "        parent1 = self.topLevelItem(0)\n",
    "        parent2=self.topLevelItem(1)\n",
    "\n",
    "        # assign child item for parent1\n",
    "        for i in range(10):\n",
    "            node = QTreeWidgetItem(None, [\"Item\" + str(i)])\n",
    "            parent1.addChild(node)\n",
    "\n",
    "        # assign child item for parent2\n",
    "        for i in range(10,20):\n",
    "            node = QTreeWidgetItem(None, [\"Item\" + str(i)])\n",
    "            parent2.addChild(node)\n",
    "\n",
    "app = QApplication(sys.argv)\n",
    "myWindow = MyWindow()\n",
    "myWindow.show()\n",
    "\n",
    "sys.exit(app.exec())"
   ],
   "metadata": {
    "collapsed": false
   }
  },
  {
   "cell_type": "markdown",
   "source": [
    "## 19.2 Get the selected Item\n",
    "\n",
    "Below code shows an example on how to get the selected item"
   ],
   "metadata": {
    "collapsed": false
   }
  },
  {
   "cell_type": "code",
   "execution_count": 4,
   "outputs": [
    {
     "ename": "SystemExit",
     "evalue": "0",
     "output_type": "error",
     "traceback": [
      "An exception has occurred, use %tb to see the full traceback.\n",
      "\u001B[0;31mSystemExit\u001B[0m\u001B[0;31m:\u001B[0m 0\n"
     ]
    },
    {
     "name": "stderr",
     "output_type": "stream",
     "text": [
      "/home/pengfei/.cache/pypoetry/virtualenvs/python-desktop-app-framework-xY3vli_t-py3.8/lib/python3.8/site-packages/IPython/core/interactiveshell.py:3441: UserWarning: To exit: use 'exit', 'quit', or Ctrl-D.\n",
      "  warn(\"To exit: use 'exit', 'quit', or Ctrl-D.\", stacklevel=1)\n"
     ]
    }
   ],
   "source": [
    "import sys\n",
    "\n",
    "from PyQt6.QtCore import Qt\n",
    "from PyQt6.QtWidgets import QTreeWidgetItem, QApplication, QTreeWidget,QWidget,QPushButton,QLabel,QVBoxLayout\n",
    "\n",
    "\n",
    "class MainWindow(QWidget):\n",
    "    def __init__(self):\n",
    "        super().__init__()\n",
    "\n",
    "        # set up main widget\n",
    "        self.setWindowTitle(\"TreeWidget example\")\n",
    "        self.setGeometry(100,100,300,200)\n",
    "\n",
    "        layout=QVBoxLayout()\n",
    "        self.setLayout(layout)\n",
    "\n",
    "        # build tree widget\n",
    "        self.treeWidget=QTreeWidget(self)\n",
    "        # set up the number of columns for the tree, in this example is 1\n",
    "        self.treeWidget.setColumnCount(1)\n",
    "        # insert a top level item, which is a list of QTreeWidgetItem\n",
    "        self.treeWidget.insertTopLevelItems(0, [QTreeWidgetItem(None, [\"Parent1\"]), QTreeWidgetItem(None, [\"Parent2\"])])\n",
    "\n",
    "        # get top level item by their index\n",
    "        parent1 = self.treeWidget.topLevelItem(0)\n",
    "        parent2= self.treeWidget.topLevelItem(1)\n",
    "\n",
    "        # assign child item for parent1\n",
    "        for i in range(10):\n",
    "            node = QTreeWidgetItem(None, [\"Item\" + str(i)])\n",
    "            parent1.addChild(node)\n",
    "\n",
    "        # assign child item for parent2\n",
    "        for i in range(10,20):\n",
    "            node = QTreeWidgetItem(None, [\"Item\" + str(i)])\n",
    "            parent2.addChild(node)\n",
    "\n",
    "        # build button\n",
    "        bt=QPushButton(\"Get item\",self)\n",
    "        bt.clicked.connect(self.get_item)\n",
    "\n",
    "        # build a label\n",
    "        self.output=QLabel()\n",
    "\n",
    "        # add elements to layout\n",
    "        layout.addWidget(self.treeWidget)\n",
    "        layout.addWidget(bt)\n",
    "        layout.addWidget(self.output)\n",
    "\n",
    "    def get_item(self):\n",
    "        items=self.treeWidget.selectedItems()\n",
    "        result=\"\"\n",
    "        for item in items:\n",
    "            # item.text(0) returns the text of column 0\n",
    "            result=result+str(item.text(0))+\"\\n\"\n",
    "        self.output.setText(result)\n",
    "\n",
    "app = QApplication(sys.argv)\n",
    "myWindow = MainWindow()\n",
    "myWindow.show()\n",
    "\n",
    "sys.exit(app.exec())"
   ],
   "metadata": {
    "collapsed": false
   }
  },
  {
   "cell_type": "code",
   "execution_count": null,
   "outputs": [],
   "source": [
    "## 19.3 Connect a file system model with treeView"
   ],
   "metadata": {
    "collapsed": false
   }
  },
  {
   "cell_type": "code",
   "execution_count": 3,
   "outputs": [
    {
     "data": {
      "text/plain": "'/home/pengfei'"
     },
     "execution_count": 3,
     "metadata": {},
     "output_type": "execute_result"
    }
   ],
   "source": [
    "str(pathlib.Path.home())"
   ],
   "metadata": {
    "collapsed": false
   }
  },
  {
   "cell_type": "code",
   "execution_count": 1,
   "outputs": [
    {
     "name": "stderr",
     "output_type": "stream",
     "text": [
      "qt.qpa.xcb: X server does not support XInput 2\n"
     ]
    },
    {
     "ename": "SystemExit",
     "evalue": "0",
     "output_type": "error",
     "traceback": [
      "An exception has occurred, use %tb to see the full traceback.\n",
      "\u001B[0;31mSystemExit\u001B[0m\u001B[0;31m:\u001B[0m 0\n"
     ]
    },
    {
     "name": "stderr",
     "output_type": "stream",
     "text": [
      "/home/pengfei/.cache/pypoetry/virtualenvs/python-desktop-app-framework-xY3vli_t-py3.8/lib/python3.8/site-packages/IPython/core/interactiveshell.py:3441: UserWarning: To exit: use 'exit', 'quit', or Ctrl-D.\n",
      "  warn(\"To exit: use 'exit', 'quit', or Ctrl-D.\", stacklevel=1)\n"
     ]
    }
   ],
   "source": [
    "from PyQt6.QtGui import QFileSystemModel\n",
    "import sys\n",
    "\n",
    "from PyQt6.QtCore import QDir\n",
    "from PyQt6.QtWidgets import QWidget, QTreeView, QVBoxLayout,  QApplication\n",
    "import pathlib\n",
    "\n",
    "\n",
    "class MyWindow(QWidget):\n",
    "    def __init__(self):\n",
    "        super().__init__()\n",
    "\n",
    "        treeModel = QFileSystemModel(self)\n",
    "        treeModel.setRootPath(str(pathlib.Path.home()))\n",
    "\n",
    "        treeView = QTreeView()\n",
    "        treeView.setModel(treeModel)\n",
    "\n",
    "        layout = QVBoxLayout(self)\n",
    "        layout.addWidget(treeView)\n",
    "        self.setLayout(layout)\n",
    "\n",
    "\n",
    "\n",
    "app = QApplication(sys.argv)\n",
    "\n",
    "myWindow = MyWindow()\n",
    "myWindow.show()\n",
    "\n",
    "sys.exit(app.exec())"
   ],
   "metadata": {
    "collapsed": false
   }
  },
  {
   "cell_type": "code",
   "execution_count": 2,
   "outputs": [
    {
     "ename": "SystemExit",
     "evalue": "0",
     "output_type": "error",
     "traceback": [
      "An exception has occurred, use %tb to see the full traceback.\n",
      "\u001B[0;31mSystemExit\u001B[0m\u001B[0;31m:\u001B[0m 0\n"
     ]
    },
    {
     "name": "stderr",
     "output_type": "stream",
     "text": [
      "/home/pengfei/.cache/pypoetry/virtualenvs/python-desktop-app-framework-xY3vli_t-py3.8/lib/python3.8/site-packages/IPython/core/interactiveshell.py:3441: UserWarning: To exit: use 'exit', 'quit', or Ctrl-D.\n",
      "  warn(\"To exit: use 'exit', 'quit', or Ctrl-D.\", stacklevel=1)\n"
     ]
    }
   ],
   "source": [
    "import sys\n",
    "from PyQt6.QtWidgets import QApplication, QMainWindow, QTreeWidget, QTreeWidgetItem\n",
    "from PyQt6.QtCore import Qt,QSize\n",
    "from PyQt6.QtGui import QIcon, QAction\n",
    "\n",
    "\n",
    "class MainWindow(QMainWindow):\n",
    "    def __init__(self, *args, **kwargs):\n",
    "        super().__init__(*args, **kwargs)\n",
    "        self.setWindowTitle('PyQt QTreeWidget')\n",
    "        self.setGeometry(100, 100, 400, 200)\n",
    "\n",
    "        # create tree widget\n",
    "        tree = QTreeWidget(self)\n",
    "\n",
    "        # setup column number\n",
    "        tree.setColumnCount(2)\n",
    "        # set up header\n",
    "        tree.setHeaderLabels(['Departments', 'Employees'])\n",
    "\n",
    "        # build data model\n",
    "        departments = ['Sales','Marketing','HR']\n",
    "        employees = {\n",
    "            'Sales': ['John','Jane','Peter'],\n",
    "            'Marketing': ['Alice','Bob'],\n",
    "            'HR': ['David'],\n",
    "        }\n",
    "\n",
    "        # addition data to the tree\n",
    "        for department in departments:\n",
    "            # Create a tree widget item for each department\n",
    "            department_item = QTreeWidgetItem(tree)\n",
    "            # set the item name with department name\n",
    "            department_item.setText(0,department)\n",
    "            # set the child\n",
    "            for employee in employees[department]:\n",
    "                employee_item   = QTreeWidgetItem(tree)\n",
    "                employee_item.setText(1,employee)\n",
    "\n",
    "                department_item.addChild(employee_item)\n",
    "\n",
    "        # place the tree on the main window\n",
    "        self.setCentralWidget(tree)\n",
    "\n",
    "\n",
    "\n",
    "\n",
    "app = QApplication(sys.argv)\n",
    "window = MainWindow()\n",
    "window.show()\n",
    "sys.exit(app.exec())"
   ],
   "metadata": {
    "collapsed": false
   }
  },
  {
   "cell_type": "markdown",
   "source": [
    "## 19.3 Multi column QTreeWidget\n",
    "\n",
    "We can also have multiple columns in a tree widget"
   ],
   "metadata": {
    "collapsed": false
   }
  },
  {
   "cell_type": "code",
   "execution_count": null,
   "outputs": [],
   "source": [
    "import sys\n",
    "from PyQt6.QtWidgets import QApplication, QMainWindow, QTreeWidget, QTreeWidgetItem\n",
    "\n",
    "\n",
    "class MainWindow(QMainWindow):\n",
    "    def __init__(self, *args, **kwargs):\n",
    "        super().__init__(*args, **kwargs)\n",
    "        self.setWindowTitle('PyQt QTreeWidget')\n",
    "        self.setGeometry(100, 100, 400, 200)\n",
    "\n",
    "        # create a new tree widget\n",
    "        tree = QTreeWidget(self)\n",
    "        # specify the tree column number\n",
    "        tree.setColumnCount(2)\n",
    "        # specify the tree column name\n",
    "        tree.setHeaderLabels(['Column1', 'Column2'])\n",
    "\n",
    "        col1Values = ['Sales', 'Marketing', 'HR']\n",
    "        employees = {\n",
    "            'Sales': ['John', 'Jane', 'Peter'],\n",
    "            'Marketing': ['Alice', 'Bob'],\n",
    "            'HR': ['David'],\n",
    "        }\n",
    "\n",
    "        # addition data to the tree\n",
    "        for value in col1Values:\n",
    "            col1Item = QTreeWidgetItem(tree)\n",
    "            col1Item.setText(0, value)\n",
    "            # set the child\n",
    "            for employee in employees[value]:\n",
    "                col2Item = QTreeWidgetItem(tree)\n",
    "                col2Item.setText(1, employee)\n",
    "\n",
    "                col1Item.addChild(col2Item)\n",
    "\n",
    "        # place the tree on the main window\n",
    "        self.setCentralWidget(tree)\n",
    "\n",
    "\n",
    "if __name__ == '__main__':\n",
    "    app = QApplication(sys.argv)\n",
    "    window = MainWindow()\n",
    "    window.show()\n",
    "    sys.exit(app.exec())"
   ],
   "metadata": {
    "collapsed": false
   }
  }
 ],
 "metadata": {
  "kernelspec": {
   "display_name": "Python 3",
   "language": "python",
   "name": "python3"
  },
  "language_info": {
   "codemirror_mode": {
    "name": "ipython",
    "version": 2
   },
   "file_extension": ".py",
   "mimetype": "text/x-python",
   "name": "python",
   "nbconvert_exporter": "python",
   "pygments_lexer": "ipython2",
   "version": "2.7.6"
  }
 },
 "nbformat": 4,
 "nbformat_minor": 0
}
