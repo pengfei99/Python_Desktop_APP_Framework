{
 "cells": [
  {
   "cell_type": "markdown",
   "source": [
    "# QTreeWidget\n",
    "\n",
    "The QTreeWidget class allows you to create a tree view widget that consists of items. The items of the tree have parent/child relationships. The QTreeWidgetItem class represents the item of the tree."
   ],
   "metadata": {
    "collapsed": false
   }
  },
  {
   "cell_type": "code",
   "execution_count": null,
   "outputs": [],
   "source": [],
   "metadata": {
    "collapsed": false
   }
  },
  {
   "cell_type": "code",
   "execution_count": 2,
   "outputs": [
    {
     "ename": "SystemExit",
     "evalue": "0",
     "output_type": "error",
     "traceback": [
      "An exception has occurred, use %tb to see the full traceback.\n",
      "\u001B[0;31mSystemExit\u001B[0m\u001B[0;31m:\u001B[0m 0\n"
     ]
    },
    {
     "name": "stderr",
     "output_type": "stream",
     "text": [
      "/home/pengfei/.cache/pypoetry/virtualenvs/python-desktop-app-framework-xY3vli_t-py3.8/lib/python3.8/site-packages/IPython/core/interactiveshell.py:3441: UserWarning: To exit: use 'exit', 'quit', or Ctrl-D.\n",
      "  warn(\"To exit: use 'exit', 'quit', or Ctrl-D.\", stacklevel=1)\n"
     ]
    }
   ],
   "source": [
    "import sys\n",
    "\n",
    "from PyQt6.QtCore import Qt\n",
    "from PyQt6.QtWidgets import QTreeWidgetItem, QApplication, QTreeWidget\n",
    "\n",
    "\n",
    "class MyWindow(QTreeWidget):\n",
    "    def __init__(self):\n",
    "        super().__init__()\n",
    "\n",
    "        self.setColumnCount(1)\n",
    "        self.insertTopLevelItems(0, [QTreeWidgetItem(None, [\"Tables\"])])\n",
    "\n",
    "        root = self.topLevelItem(0)\n",
    "\n",
    "        for i in range(10):\n",
    "            node = QTreeWidgetItem(None, [\"Item\" + str(i)])\n",
    "            root.addChild(node)\n",
    "\n",
    "        self.itemDoubleClicked.connect(self.processItem)\n",
    "\n",
    "    def processItem(self, item, column):\n",
    "        print(\">>> \" + str(item) + \" - \" + item.data(column, Qt.DisplayRole))\n",
    "\n",
    "\n",
    "if __name__ == \"__main__\":\n",
    "    app = QApplication(sys.argv)\n",
    "\n",
    "    myWindow = MyWindow()\n",
    "    myWindow.show()\n",
    "\n",
    "    sys.exit(app.exec())"
   ],
   "metadata": {
    "collapsed": false
   }
  },
  {
   "cell_type": "code",
   "execution_count": 3,
   "outputs": [
    {
     "name": "stderr",
     "output_type": "stream",
     "text": [
      "qt.qpa.xcb: X server does not support XInput 2\n",
      "inotify_add_watch(/root) failed: (Permission denied)\n"
     ]
    },
    {
     "ename": "SystemExit",
     "evalue": "0",
     "output_type": "error",
     "traceback": [
      "An exception has occurred, use %tb to see the full traceback.\n",
      "\u001B[0;31mSystemExit\u001B[0m\u001B[0;31m:\u001B[0m 0\n"
     ]
    },
    {
     "name": "stderr",
     "output_type": "stream",
     "text": [
      "/home/pengfei/.cache/pypoetry/virtualenvs/python-desktop-app-framework-xY3vli_t-py3.8/lib/python3.8/site-packages/IPython/core/interactiveshell.py:3441: UserWarning: To exit: use 'exit', 'quit', or Ctrl-D.\n",
      "  warn(\"To exit: use 'exit', 'quit', or Ctrl-D.\", stacklevel=1)\n"
     ]
    }
   ],
   "source": [
    "from PyQt6.QtGui import QFileSystemModel\n",
    "import sys\n",
    "\n",
    "from PyQt6.QtCore import QDir\n",
    "from PyQt6.QtWidgets import QWidget, QTreeView, QVBoxLayout,  QApplication\n",
    "\n",
    "\n",
    "class MyWindow(QWidget):\n",
    "    def __init__(self):\n",
    "        super().__init__()\n",
    "\n",
    "        treeModel = QFileSystemModel()\n",
    "        treeModel.setRootPath(QDir.currentPath())\n",
    "\n",
    "        treeView = QTreeView()\n",
    "        treeView.setModel(treeModel)\n",
    "\n",
    "        layout = QVBoxLayout(self)\n",
    "        layout.addWidget(treeView)\n",
    "        self.setLayout(layout)\n",
    "\n",
    "\n",
    "if __name__ == \"__main__\":\n",
    "    app = QApplication(sys.argv)\n",
    "\n",
    "    myWindow = MyWindow()\n",
    "    myWindow.show()\n",
    "\n",
    "    sys.exit(app.exec())"
   ],
   "metadata": {
    "collapsed": false
   }
  },
  {
   "cell_type": "code",
   "execution_count": 1,
   "outputs": [
    {
     "name": "stderr",
     "output_type": "stream",
     "text": [
      "qt.qpa.xcb: X server does not support XInput 2\n"
     ]
    },
    {
     "ename": "SystemExit",
     "evalue": "0",
     "output_type": "error",
     "traceback": [
      "An exception has occurred, use %tb to see the full traceback.\n",
      "\u001B[0;31mSystemExit\u001B[0m\u001B[0;31m:\u001B[0m 0\n"
     ]
    },
    {
     "name": "stderr",
     "output_type": "stream",
     "text": [
      "/home/pengfei/.cache/pypoetry/virtualenvs/python-desktop-app-framework-xY3vli_t-py3.8/lib/python3.8/site-packages/IPython/core/interactiveshell.py:3441: UserWarning: To exit: use 'exit', 'quit', or Ctrl-D.\n",
      "  warn(\"To exit: use 'exit', 'quit', or Ctrl-D.\", stacklevel=1)\n"
     ]
    }
   ],
   "source": [
    "import sys\n",
    "from PyQt6.QtWidgets import QApplication, QMainWindow, QTreeWidget, QTreeWidgetItem\n",
    "from PyQt6.QtCore import Qt,QSize\n",
    "from PyQt6.QtGui import QIcon, QAction\n",
    "\n",
    "\n",
    "class MainWindow(QMainWindow):\n",
    "    def __init__(self, *args, **kwargs):\n",
    "        super().__init__(*args, **kwargs)\n",
    "        self.setWindowTitle('PyQt QTreeWidget')\n",
    "        self.setGeometry(100, 100, 400, 200)\n",
    "\n",
    "        # create tree widget\n",
    "        tree = QTreeWidget(self)\n",
    "\n",
    "        # setup column number\n",
    "        tree.setColumnCount(2)\n",
    "        # set up header\n",
    "        tree.setHeaderLabels(['Departments', 'Employees'])\n",
    "\n",
    "        departments = ['Sales','Marketing','HR']\n",
    "        employees = {\n",
    "            'Sales': ['John','Jane','Peter'],\n",
    "            'Marketing': ['Alice','Bob'],\n",
    "            'HR': ['David'],\n",
    "        }\n",
    "\n",
    "        # addition data to the tree\n",
    "        for department in departments:\n",
    "            department_item = QTreeWidgetItem(tree)\n",
    "            department_item.setText(0,department)\n",
    "            # set the child\n",
    "            for employee in employees[department]:\n",
    "                employee_item   = QTreeWidgetItem(tree)\n",
    "                employee_item.setText(1,employee)\n",
    "\n",
    "                department_item.addChild(employee_item)\n",
    "\n",
    "        # place the tree on the main window\n",
    "        self.setCentralWidget(tree)\n",
    "\n",
    "\n",
    "\n",
    "if __name__ == '__main__':\n",
    "    app = QApplication(sys.argv)\n",
    "    window = MainWindow()\n",
    "    window.show()\n",
    "    sys.exit(app.exec())"
   ],
   "metadata": {
    "collapsed": false
   }
  }
 ],
 "metadata": {
  "kernelspec": {
   "display_name": "Python 3",
   "language": "python",
   "name": "python3"
  },
  "language_info": {
   "codemirror_mode": {
    "name": "ipython",
    "version": 2
   },
   "file_extension": ".py",
   "mimetype": "text/x-python",
   "name": "python",
   "nbconvert_exporter": "python",
   "pygments_lexer": "ipython2",
   "version": "2.7.6"
  }
 },
 "nbformat": 4,
 "nbformat_minor": 0
}
