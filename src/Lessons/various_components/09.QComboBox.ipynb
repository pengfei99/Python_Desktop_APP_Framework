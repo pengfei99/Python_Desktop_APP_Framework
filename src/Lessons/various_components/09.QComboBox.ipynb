{
 "cells": [
  {
   "cell_type": "markdown",
   "source": [
    "# 9. QComboBox\n",
    "\n",
    "A combobox provides you with a list of options so that you can select one of them. A combobox is also known as a dropdown or select widget.\n",
    "\n",
    "## 9.1 Create a combobox\n",
    "\n",
    "1. Create a combobox object\n",
    "2. Insert item in the combo object\n",
    "\n",
    "You can use two method to insert items:\n",
    "\n",
    "- addItem()  takes a string label and a data value and appends it to the end of the list.\n",
    "- insertItem()  works like the addItem() method except that it takes an index for the first argument and adds the item at that index to the list.\n",
    "\n",
    "- Also, you can pass a list of options to the addItems() or insertItems() method at once."
   ],
   "metadata": {
    "collapsed": false
   }
  },
  {
   "cell_type": "code",
   "execution_count": 1,
   "outputs": [
    {
     "name": "stderr",
     "output_type": "stream",
     "text": [
      "qt.qpa.xcb: X server does not support XInput 2\n"
     ]
    },
    {
     "ename": "SystemExit",
     "evalue": "0",
     "output_type": "error",
     "traceback": [
      "An exception has occurred, use %tb to see the full traceback.\n",
      "\u001B[0;31mSystemExit\u001B[0m\u001B[0;31m:\u001B[0m 0\n"
     ]
    },
    {
     "name": "stderr",
     "output_type": "stream",
     "text": [
      "/home/pengfei/.cache/pypoetry/virtualenvs/python-desktop-app-framework-xY3vli_t-py3.8/lib/python3.8/site-packages/IPython/core/interactiveshell.py:3441: UserWarning: To exit: use 'exit', 'quit', or Ctrl-D.\n",
      "  warn(\"To exit: use 'exit', 'quit', or Ctrl-D.\", stacklevel=1)\n"
     ]
    }
   ],
   "source": [
    "import sys\n",
    "from PyQt6.QtWidgets import QApplication, QWidget, QRadioButton, QLabel, QVBoxLayout, QComboBox\n",
    "from PyQt6.QtCore import Qt\n",
    "\n",
    "\n",
    "class MainWindow(QWidget):\n",
    "    def __init__(self, *args, **kwargs):\n",
    "        super().__init__(*args, **kwargs)\n",
    "\n",
    "        self.setWindowTitle('PyQt QComboBox')\n",
    "        self.setMinimumWidth(300)\n",
    "\n",
    "        # create a grid layout\n",
    "        layout = QVBoxLayout()\n",
    "        # apply layout to the widget\n",
    "        self.setLayout(layout)\n",
    "\n",
    "        # create a text label\n",
    "        cb_label = QLabel('Please select a platform:', self)\n",
    "\n",
    "        # create a combobox\n",
    "        self.cb_platform = QComboBox(self)\n",
    "        # insert items into the combobox\n",
    "        self.cb_platform.addItem('Android')\n",
    "        self.cb_platform.addItem('iOS')\n",
    "        self.cb_platform.addItem('Windows')\n",
    "        # insert by using insertItem as the 1st element\n",
    "        self.cb_platform.insertItem(1,\"ToTo\")\n",
    "\n",
    "        # add them to layout\n",
    "        layout.addWidget(cb_label)\n",
    "        layout.addWidget(self.cb_platform)\n",
    "\n",
    "        # show the window\n",
    "        self.show()\n",
    "\n",
    "\n",
    "\n",
    "app = QApplication(sys.argv)\n",
    "window = MainWindow()\n",
    "sys.exit(app.exec())"
   ],
   "metadata": {
    "collapsed": false
   }
  },
  {
   "cell_type": "markdown",
   "source": [
    "## 9.2 Connect ComboBox to slot\n",
    "\n",
    "The combobox box can connect to a slot by using **activated.connect()**"
   ],
   "metadata": {
    "collapsed": false
   }
  },
  {
   "cell_type": "code",
   "execution_count": 2,
   "outputs": [
    {
     "ename": "SystemExit",
     "evalue": "0",
     "output_type": "error",
     "traceback": [
      "An exception has occurred, use %tb to see the full traceback.\n",
      "\u001B[0;31mSystemExit\u001B[0m\u001B[0;31m:\u001B[0m 0\n"
     ]
    },
    {
     "name": "stderr",
     "output_type": "stream",
     "text": [
      "/home/pengfei/.cache/pypoetry/virtualenvs/python-desktop-app-framework-xY3vli_t-py3.8/lib/python3.8/site-packages/IPython/core/interactiveshell.py:3441: UserWarning: To exit: use 'exit', 'quit', or Ctrl-D.\n",
      "  warn(\"To exit: use 'exit', 'quit', or Ctrl-D.\", stacklevel=1)\n"
     ]
    }
   ],
   "source": [
    "import sys\n",
    "from PyQt6.QtWidgets import QApplication, QWidget, QRadioButton, QLabel, QVBoxLayout, QComboBox\n",
    "from PyQt6.QtCore import Qt\n",
    "\n",
    "\n",
    "class MainWindow(QWidget):\n",
    "    def __init__(self, *args, **kwargs):\n",
    "        super().__init__(*args, **kwargs)\n",
    "\n",
    "        self.setWindowTitle('PyQt QComboBox')\n",
    "        self.setMinimumWidth(300)\n",
    "\n",
    "        # create a grid layout\n",
    "        layout = QVBoxLayout()\n",
    "        self.setLayout(layout)\n",
    "\n",
    "        cb_label = QLabel('Please select a platform:', self)\n",
    "\n",
    "        # create a combobox\n",
    "        self.cb_platform = QComboBox(self)\n",
    "        self.cb_platform.addItem('Android')\n",
    "        self.cb_platform.addItem('iOS')\n",
    "        self.cb_platform.addItem('Windows')\n",
    "\n",
    "        # connect the combo box to the slot function update\n",
    "        self.cb_platform.activated.connect(self.update)\n",
    "\n",
    "        # add a text label to print the result\n",
    "        self.result_label = QLabel('', self)\n",
    "\n",
    "        layout.addWidget(cb_label)\n",
    "        layout.addWidget(self.cb_platform)\n",
    "        layout.addWidget(self.result_label)\n",
    "\n",
    "        # show the window\n",
    "        self.show()\n",
    "\n",
    "    # slot function for combo box, when combobox is selected, this function will be called\n",
    "    def update(self):\n",
    "        self.result_label.setText(\n",
    "            f'You selected {self.cb_platform.currentText()}')\n",
    "\n",
    "\n",
    "\n",
    "app = QApplication(sys.argv)\n",
    "window = MainWindow()\n",
    "sys.exit(app.exec())"
   ],
   "metadata": {
    "collapsed": false
   }
  }
 ],
 "metadata": {
  "kernelspec": {
   "display_name": "Python 3",
   "language": "python",
   "name": "python3"
  },
  "language_info": {
   "codemirror_mode": {
    "name": "ipython",
    "version": 2
   },
   "file_extension": ".py",
   "mimetype": "text/x-python",
   "name": "python",
   "nbconvert_exporter": "python",
   "pygments_lexer": "ipython2",
   "version": "2.7.6"
  }
 },
 "nbformat": 4,
 "nbformat_minor": 0
}
