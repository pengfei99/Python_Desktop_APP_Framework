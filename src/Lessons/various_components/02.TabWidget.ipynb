{
 "cells": [
  {
   "cell_type": "markdown",
   "source": [
    "# 2 TabWidget\n",
    "\n",
    "TabWidget allows us to have multiple UI within the same window"
   ],
   "metadata": {
    "collapsed": false
   }
  },
  {
   "cell_type": "markdown",
   "source": [
    "## 2.1 First Tab"
   ],
   "metadata": {
    "collapsed": false
   }
  },
  {
   "cell_type": "code",
   "execution_count": 1,
   "outputs": [],
   "source": [
    "\n",
    "import sys\n",
    "from PyQt6.QtWidgets import QWidget, QGridLayout, QLabel, QTabWidget, QApplication\n",
    "\n"
   ],
   "metadata": {
    "collapsed": false
   }
  },
  {
   "cell_type": "code",
   "execution_count": 2,
   "outputs": [
    {
     "name": "stderr",
     "output_type": "stream",
     "text": [
      "qt.qpa.xcb: X server does not support XInput 2\n"
     ]
    },
    {
     "ename": "SystemExit",
     "evalue": "0",
     "output_type": "error",
     "traceback": [
      "An exception has occurred, use %tb to see the full traceback.\n",
      "\u001B[0;31mSystemExit\u001B[0m\u001B[0;31m:\u001B[0m 0\n"
     ]
    },
    {
     "name": "stderr",
     "output_type": "stream",
     "text": [
      "/home/pengfei/.cache/pypoetry/virtualenvs/python-desktop-app-framework-xY3vli_t-py3.8/lib/python3.8/site-packages/IPython/core/interactiveshell.py:3441: UserWarning: To exit: use 'exit', 'quit', or Ctrl-D.\n",
      "  warn(\"To exit: use 'exit', 'quit', or Ctrl-D.\", stacklevel=1)\n"
     ]
    }
   ],
   "source": [
    "\n",
    "\n",
    "\n",
    "class Window(QWidget):\n",
    "    def __init__(self):\n",
    "        QWidget.__init__(self)\n",
    "        layout = QGridLayout()\n",
    "        self.setLayout(layout)\n",
    "        label1 = QLabel(\"Widget in Tab 1.\")\n",
    "        label2 = QLabel(\"Widget in Tab 2.\")\n",
    "        tabwidget = QTabWidget()\n",
    "        tabwidget.addTab(label1, \"Tab 1\")\n",
    "        tabwidget.addTab(label2, \"Tab 2\")\n",
    "        layout.addWidget(tabwidget, 0, 0)\n",
    "\n",
    "app = QApplication(sys.argv)\n",
    "screen = Window()\n",
    "screen.show()\n",
    "sys.exit(app.exec())"
   ],
   "metadata": {
    "collapsed": false
   }
  },
  {
   "cell_type": "code",
   "execution_count": null,
   "outputs": [],
   "source": [],
   "metadata": {
    "collapsed": false
   }
  }
 ],
 "metadata": {
  "kernelspec": {
   "display_name": "Python 3",
   "language": "python",
   "name": "python3"
  },
  "language_info": {
   "codemirror_mode": {
    "name": "ipython",
    "version": 2
   },
   "file_extension": ".py",
   "mimetype": "text/x-python",
   "name": "python",
   "nbconvert_exporter": "python",
   "pygments_lexer": "ipython2",
   "version": "2.7.6"
  }
 },
 "nbformat": 4,
 "nbformat_minor": 0
}
