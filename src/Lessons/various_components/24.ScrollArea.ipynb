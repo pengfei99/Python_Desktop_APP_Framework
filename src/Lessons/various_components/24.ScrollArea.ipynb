{
 "cells": [
  {
   "cell_type": "markdown",
   "source": [
    "# 24 ScrollArea\n",
    "\n",
    "When you start building apps that display long documents, large amounts of data or large numbers of widgets, it can be difficult to arrange things within a fixed-size window. Resizing the window beyond the size of the screen isn't an option, and shrinking widgets to fit can make the information unreadable.\n",
    "\n",
    "To solve this problem, GUI applications can make use of scrolling regions to allow the user to move around within the bounds of the application window while keeping widgets at their usual size. By doing this an almost unlimited amount of data or widgets can be shown, navigated and viewed within a window  although care should be taken to make sure the result is still usable!\n",
    "\n"
   ],
   "metadata": {
    "collapsed": false
   }
  },
  {
   "cell_type": "code",
   "execution_count": null,
   "outputs": [],
   "source": [
    "from PyQt6.QtWidgets import (QWidget, QLabel, QScrollArea, QVBoxLayout, QMainWindow)\n",
    "from PyQt6.QtCore import Qt\n",
    "from PyQt6 import QtWidgets\n",
    "import sys\n",
    "\n",
    "\n",
    "class MainWindow(QMainWindow):\n",
    "\n",
    "    def __init__(self):\n",
    "        super().__init__()\n",
    "        # create a scroll area, in this example, we set it as the central widget\n",
    "        # it will contain all the QLabel that we want to show\n",
    "        self.scroll = QScrollArea()\n",
    "        self.setCentralWidget(self.scroll)\n",
    "        self.setGeometry(600, 100, 1000, 900)\n",
    "        self.setWindowTitle('Scroll Area Demonstration')\n",
    "\n",
    "        # Widget that contains the collection of Vertical Box\n",
    "        self.widget = QWidget()\n",
    "        # set the main layout of the widget\n",
    "        self.vbox = QVBoxLayout()\n",
    "        self.widget.setLayout(self.vbox)\n",
    "\n",
    "        self.initUI()\n",
    "\n",
    "    def initUI(self):\n",
    "        # add items to the main layout\n",
    "        for i in range(1, 50):\n",
    "            object = QLabel(\"TextLabel\")\n",
    "            self.vbox.addWidget(object)\n",
    "\n",
    "        # Scroll Area Properties\n",
    "        self.scroll.setVerticalScrollBarPolicy(Qt.ScrollBarPolicy.ScrollBarAlwaysOn)\n",
    "        self.scroll.setHorizontalScrollBarPolicy(Qt.ScrollBarPolicy.ScrollBarAlwaysOff)\n",
    "        self.scroll.setWidgetResizable(True)\n",
    "\n",
    "        # ScrollArea itself can't contain all the widget, we must associate it with another\n",
    "        # widget, after the association, the widget become scrollable\n",
    "        self.scroll.setWidget(self.widget)\n",
    "\n",
    "        self.show()\n",
    "        return\n",
    "\n",
    "def main():\n",
    "    app = QtWidgets.QApplication(sys.argv)\n",
    "    main = MainWindow()\n",
    "    sys.exit(app.exec())\n",
    "\n",
    "\n",
    "if __name__ == '__main__':\n",
    "    main()\n"
   ],
   "metadata": {
    "collapsed": false
   }
  }
 ],
 "metadata": {
  "kernelspec": {
   "display_name": "Python 3",
   "language": "python",
   "name": "python3"
  },
  "language_info": {
   "codemirror_mode": {
    "name": "ipython",
    "version": 2
   },
   "file_extension": ".py",
   "mimetype": "text/x-python",
   "name": "python",
   "nbconvert_exporter": "python",
   "pygments_lexer": "ipython2",
   "version": "2.7.6"
  }
 },
 "nbformat": 4,
 "nbformat_minor": 0
}
