{
 "cells": [
  {
   "cell_type": "markdown",
   "source": [
    "# Context menus\n",
    "\n",
    "**Context menus are small context-sensitive menus which typically appear when right clicking on an item of the QT window**. Qt has support for generating these menus, and widgets have a `specific event` used to trigger them. If you are not familiar with `signal, slot or event`. Go check the [L08_Signals_slots.ipynb](../L08_Signals_slots.ipynb)\n",
    "\n",
    "\n",
    "## A simple example\n",
    "\n",
    "In the following example we're going to intercept the `.contextMenuEvent` of the `QMainWindow`. This event is fired whenever a context menu is about to be shown, and is passed a single value event of type **QContextMenuEvent**.\n",
    "\n",
    "To intercept the event, we simply override the method **contextMenuEvent** with our new method of the same name. So our implementation of **contextMenuEvent** will handle all events of this type.\n",
    "\n",
    "Inside the `contextMenuEvent` method, we create a **QMenu instance** and add three actions to it (action1, action2, and action3).\n",
    "\n",
    "When the `contextMenuEvent` is triggered, we call the **exec** method of the `QMenu instance` to display the context menu at the global position of the event. `The selected action is returned by the exec method`, and we can check which action was selected using if statements."
   ],
   "metadata": {
    "collapsed": false
   }
  },
  {
   "cell_type": "code",
   "execution_count": 2,
   "outputs": [
    {
     "name": "stdout",
     "output_type": "stream",
     "text": [
      "Action 1\n",
      "Action 2\n",
      "Action 3\n"
     ]
    },
    {
     "data": {
      "text/plain": "0"
     },
     "execution_count": 2,
     "metadata": {},
     "output_type": "execute_result"
    }
   ],
   "source": [
    "import sys\n",
    "\n",
    "from PyQt6.QtCore import Qt\n",
    "from PyQt6.QtGui import QAction\n",
    "from PyQt6.QtWidgets import QApplication, QLabel, QMainWindow, QMenu, QWidget, QVBoxLayout\n",
    "\n",
    "\n",
    "class MainWindow(QMainWindow):\n",
    "    def __init__(self):\n",
    "        super().__init__()\n",
    "        self.setWindowTitle(\"My App\")\n",
    "        # create a widget with a vbox layout\n",
    "        mainWidget = QWidget()\n",
    "        layout = QVBoxLayout()\n",
    "        mainWidget.setLayout(layout)\n",
    "        # set the widget as central widget of the window\n",
    "        self.setCentralWidget(mainWidget)\n",
    "\n",
    "        #\n",
    "        self.output = QLabel(\"Right-click me!\",self)\n",
    "        layout.addWidget(self.output)\n",
    "\n",
    "    def contextMenuEvent(self, event):\n",
    "        contextMenu = QMenu(self)\n",
    "        action1 = contextMenu.addAction(\"Action 1\")\n",
    "        action2 = contextMenu.addAction(\"Action 2\")\n",
    "        action3 = contextMenu.addAction(\"Action 3\")\n",
    "\n",
    "        action=contextMenu.exec(event.globalPos())\n",
    "        print(action.text())\n",
    "        if action == action1:\n",
    "            self.output.setText(\"Action 1 is selected\")\n",
    "        elif action == action2:\n",
    "            self.output.setText(\"Action 2 is selected\")\n",
    "        elif action == action3:\n",
    "            self.output.setText(\"Action 3 is selected\")\n",
    "        else:\n",
    "            self.output.setText(\"Unknown action\")\n",
    "\n",
    "\n",
    "app = QApplication(sys.argv)\n",
    "\n",
    "window = MainWindow()\n",
    "window.show()\n",
    "\n",
    "app.exec()"
   ],
   "metadata": {
    "collapsed": false
   }
  },
  {
   "cell_type": "markdown",
   "source": [
    "If you run the above code and right-click within the window, you'll see a context menu appear. You can set up .triggered slots on your menu actions as normal (and re-use actions defined for menus and toolbars)."
   ],
   "metadata": {
    "collapsed": false
   }
  },
  {
   "cell_type": "code",
   "execution_count": null,
   "outputs": [],
   "source": [],
   "metadata": {
    "collapsed": false
   }
  }
 ],
 "metadata": {
  "kernelspec": {
   "display_name": "Python 3",
   "language": "python",
   "name": "python3"
  },
  "language_info": {
   "codemirror_mode": {
    "name": "ipython",
    "version": 2
   },
   "file_extension": ".py",
   "mimetype": "text/x-python",
   "name": "python",
   "nbconvert_exporter": "python",
   "pygments_lexer": "ipython2",
   "version": "2.7.6"
  }
 },
 "nbformat": 4,
 "nbformat_minor": 0
}
