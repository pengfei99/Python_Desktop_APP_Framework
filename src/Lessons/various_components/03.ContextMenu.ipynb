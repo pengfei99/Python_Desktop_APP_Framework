{
 "cells": [
  {
   "cell_type": "markdown",
   "source": [
    "# Context menus\n",
    "\n",
    "**Context menus are small context-sensitive menus which typically appear when right clicking on an item of the QT window**. Qt has support for generating these menus, and widgets have a `specific event` used to trigger them. If you are not familiar with `signal, slot or event`. Go check the [L08_Signals_slots.ipynb](../L08_Signals_slots.ipynb)\n",
    "\n",
    "\n",
    "## A simple example\n",
    "\n",
    "In the following example we're going to intercept the `.contextMenuEvent` of the `QMainWindow`. This event is fired whenever a context menu is about to be shown, and is passed a single value event of type **QContextMenuEvent**.\n",
    "\n",
    "To intercept the event, we simply override the method **contextMenuEvent** with our new method of the same name. So our implementation of **contextMenuEvent** will handle all events of this type.\n",
    "\n",
    "Inside the `contextMenuEvent` method, we create a **QMenu instance** and add three actions to it (action1, action2, and action3).\n",
    "\n",
    "When the `contextMenuEvent` is triggered, we call the **exec** method of the `QMenu instance` to display the context menu at the global position of the event. `The selected action is returned by the exec method`, and we can check which action was selected using if statements."
   ],
   "metadata": {
    "collapsed": false
   }
  },
  {
   "cell_type": "code",
   "execution_count": 2,
   "outputs": [
    {
     "name": "stdout",
     "output_type": "stream",
     "text": [
      "Action 1\n",
      "Action 2\n",
      "Action 3\n"
     ]
    },
    {
     "data": {
      "text/plain": "0"
     },
     "execution_count": 2,
     "metadata": {},
     "output_type": "execute_result"
    }
   ],
   "source": [
    "import sys\n",
    "\n",
    "from PyQt6.QtCore import Qt\n",
    "from PyQt6.QtGui import QAction\n",
    "from PyQt6.QtWidgets import QApplication, QLabel, QMainWindow, QMenu, QWidget, QVBoxLayout\n",
    "\n",
    "\n",
    "class MainWindow(QMainWindow):\n",
    "    def __init__(self):\n",
    "        super().__init__()\n",
    "        self.setWindowTitle(\"My App\")\n",
    "        # create a widget with a vbox layout\n",
    "        mainWidget = QWidget()\n",
    "        layout = QVBoxLayout()\n",
    "        mainWidget.setLayout(layout)\n",
    "        # set the widget as central widget of the window\n",
    "        self.setCentralWidget(mainWidget)\n",
    "\n",
    "        #\n",
    "        self.output = QLabel(\"Right-click me!\",self)\n",
    "        layout.addWidget(self.output)\n",
    "\n",
    "    def contextMenuEvent(self, event):\n",
    "        contextMenu = QMenu(self)\n",
    "        action1 = contextMenu.addAction(\"Action 1\")\n",
    "        action2 = contextMenu.addAction(\"Action 2\")\n",
    "        action3 = contextMenu.addAction(\"Action 3\")\n",
    "\n",
    "        action=contextMenu.exec(event.globalPos())\n",
    "        print(action.text())\n",
    "        if action == action1:\n",
    "            self.output.setText(\"Action 1 is selected\")\n",
    "        elif action == action2:\n",
    "            self.output.setText(\"Action 2 is selected\")\n",
    "        elif action == action3:\n",
    "            self.output.setText(\"Action 3 is selected\")\n",
    "        else:\n",
    "            self.output.setText(\"Unknown action\")\n",
    "\n",
    "\n",
    "app = QApplication(sys.argv)\n",
    "\n",
    "window = MainWindow()\n",
    "window.show()\n",
    "\n",
    "app.exec()"
   ],
   "metadata": {
    "collapsed": false
   }
  },
  {
   "cell_type": "markdown",
   "source": [
    "If you run the above code and right-click within the window, you'll see a context menu appear. You can set up .triggered slots on your menu actions as normal (and re-use actions defined for menus and toolbars)."
   ],
   "metadata": {
    "collapsed": false
   }
  },
  {
   "cell_type": "markdown",
   "source": [
    "## A more realistic example\n",
    "\n",
    "In this example, we create a QMainWindow and a QTableView. When we right click on a cell of the table view, a contextMenu will be shown. If user select an action, a corresponding action will be executed."
   ],
   "metadata": {
    "collapsed": false
   }
  },
  {
   "cell_type": "code",
   "execution_count": null,
   "outputs": [
    {
     "name": "stderr",
     "output_type": "stream",
     "text": [
      "qt.qpa.xcb: X server does not support XInput 2\n"
     ]
    },
    {
     "name": "stdout",
     "output_type": "stream",
     "text": [
      "0 0\n",
      "Action 2 triggered for item at: 0 0 with value 1\n",
      "0 1\n",
      "Action 1 triggered for item at: 0 1 with value 2\n",
      "2 1\n",
      "Action 2 triggered for item at: 2 1 with value 8\n"
     ]
    }
   ],
   "source": [
    "from PyQt6.QtCore import QAbstractTableModel\n",
    "from PyQt6.QtWidgets import QApplication, QMainWindow, QTableView, QMenu, QLabel, QWidget, QVBoxLayout\n",
    "\n",
    "class MyTableModel(QAbstractTableModel):\n",
    "    def __init__(self, data):\n",
    "        super().__init__()\n",
    "        self.data = data\n",
    "\n",
    "    def rowCount(self, parent=None):\n",
    "        return len(self.data)\n",
    "\n",
    "    def columnCount(self, parent=None):\n",
    "        return len(self.data[0])\n",
    "\n",
    "    def data(self, index, role=0):\n",
    "        \"\"\"\n",
    "        this function is called when the table view populate the widget\n",
    "        Parameters\n",
    "        ----------\n",
    "        index :\n",
    "        role :\n",
    "\n",
    "        Returns\n",
    "        -------\n",
    "\n",
    "        \"\"\"\n",
    "        if role == 0:\n",
    "            return str(self.data[index.row()][index.column()])\n",
    "\n",
    "    def getValue(self, index):\n",
    "        \"\"\"\n",
    "        This function is called when we want to get the cell value with an given index\n",
    "        Parameters\n",
    "        ----------\n",
    "        index :\n",
    "\n",
    "        Returns\n",
    "        -------\n",
    "\n",
    "        \"\"\"\n",
    "        return self.data[index.row()][index.column()]\n",
    "\n",
    "class MyTableView(QTableView):\n",
    "    def __init__(self, data):\n",
    "        super().__init__()\n",
    "        self.setModel(MyTableModel(data))\n",
    "\n",
    "    def contextMenuEvent(self, event):\n",
    "        # Get the index of the clicked item\n",
    "        selectedIndex = self.indexAt(event.pos())\n",
    "\n",
    "        if selectedIndex.isValid():\n",
    "            contextMenu = QMenu(self)\n",
    "\n",
    "            # Create actions for the context menu\n",
    "            action1 = contextMenu.addAction(\"Action 1\")\n",
    "            action2 = contextMenu.addAction(\"Action 2\")\n",
    "\n",
    "            # Connect the actions to your desired slots or functions\n",
    "            action1.triggered.connect(lambda: self.onAction1Triggered(selectedIndex))\n",
    "            action2.triggered.connect(lambda: self.onAction2Triggered(selectedIndex))\n",
    "\n",
    "\n",
    "            # Show the context menu at the event's global position\n",
    "            contextMenu.exec(event.globalPos())\n",
    "\n",
    "    def onAction1Triggered(self, index):\n",
    "        # Handle Action 1 for the clicked item\n",
    "        itemValue = self.model().getValue(index)\n",
    "        print(f\"Action 1 triggered for item at: {index.row()} {index.column()} with value {itemValue}\")\n",
    "\n",
    "    def onAction2Triggered(self, index):\n",
    "        # Handle Action 2 for the clicked item\n",
    "        itemValue = self.model().getValue(index)\n",
    "        print(f\"Action 2 triggered for item at: {index.row()} {index.column()} with value {itemValue}\")\n",
    "\n",
    "class MainWindow(QMainWindow):\n",
    "    LABEL_TXT= \"The selected data cell:\"\n",
    "    def __init__(self):\n",
    "        super().__init__()\n",
    "        self.setWindowTitle(\"My App\")\n",
    "\n",
    "        self.data = [[1, 2, 3], [4, 5, 6], [7, 8, 9]]\n",
    "\n",
    "        # create a table view\n",
    "        self.tableView = MyTableView(self.data)\n",
    "        self.setCentralWidget(self.tableView)\n",
    "        # second item is a qlabel\n",
    "        self.output = QLabel(MainWindow.LABEL_TXT)\n",
    "\n",
    "        # create a widget with a vbox layout\n",
    "        mainWidget = QWidget()\n",
    "        layout = QVBoxLayout()\n",
    "\n",
    "        # add table\n",
    "        layout.addWidget(self.tableView)\n",
    "        # add second button\n",
    "        layout.addWidget(self.output)\n",
    "\n",
    "        mainWidget.setLayout(layout)\n",
    "        # set the widget as central widget of the window\n",
    "        self.setCentralWidget(mainWidget)\n",
    "\n",
    "    def handleCustomSignal(self, index):\n",
    "        self.output.setText(f\"{MainWindow.LABEL_TXT} rowNumber: {index.row()}, columnNumber: {index.column()}\")\n",
    "\n",
    "app = QApplication([])\n",
    "window = MainWindow()\n",
    "\n",
    "\n",
    "window.show()\n",
    "app.exec()\n"
   ],
   "metadata": {
    "collapsed": false,
    "pycharm": {
     "is_executing": true
    }
   }
  }
 ],
 "metadata": {
  "kernelspec": {
   "display_name": "Python 3",
   "language": "python",
   "name": "python3"
  },
  "language_info": {
   "codemirror_mode": {
    "name": "ipython",
    "version": 2
   },
   "file_extension": ".py",
   "mimetype": "text/x-python",
   "name": "python",
   "nbconvert_exporter": "python",
   "pygments_lexer": "ipython2",
   "version": "2.7.6"
  }
 },
 "nbformat": 4,
 "nbformat_minor": 0
}
