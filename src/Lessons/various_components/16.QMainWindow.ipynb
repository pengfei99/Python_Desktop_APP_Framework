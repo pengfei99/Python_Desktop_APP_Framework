{
 "cells": [
  {
   "cell_type": "markdown",
   "metadata": {
    "collapsed": false
   },
   "source": [
    "# QMainWindow\n",
    "\n",
    " We have learned how to use `QWidget` to create the main window for applications. The QWidget works fine for simple applications but doesn’t support common features of full-blown desktop applications like menu bars, toolbars, and status bars.\n",
    "\n",
    "**QMainWindow** supports a menu bar, toolbars, and status bar out of the box. So instead of subclassing the QWidget class, you can create the main window by inheriting it from the QMainWindow class\n",
    "\n",
    "Below figure shows the main sections of a QMainWindow widget\n",
    "![Qt_MainWindow_layout.png](../../../image/Qt_MainWindow_layout.png)\n",
    "\n",
    "> Note that you should not set a layout for the QMainWindow. If you do so, you’ll break the preset arrangement of the widgets."
   ]
  },
  {
   "cell_type": "markdown",
   "metadata": {
    "collapsed": false
   },
   "source": [
    "## 1. Basic configuration\n",
    "\n",
    "To use a QMainWindow object, you need to setup below basic config\n",
    "- WindowTitle\n",
    "- WindowIcon\n",
    "- CentralWidget\n",
    "- Set the geometry\n",
    "\n",
    "### Window title\n",
    "\n",
    "To set the title for the main window, you use the setWindowTitle() method.\n",
    "\n",
    "```python\n",
    "self.setWindowTitle('DataValidator')\n",
    "\n",
    "```\n",
    "\n",
    "### Set the window icon\n",
    "To set the icon for the window, you use the `setWindowIcon()` method.\n",
    "\n",
    "```python\n",
    " self.setWindowIcon(QIcon('./assets/editor.png'))\n",
    "\n",
    "```\n",
    "1. create a **QIcon** and pass in the image path ./assets/editor.png\n",
    "2. pass the QIcon object to the `setWindowIcon()` method to set the icon for the window.\n",
    "\n",
    "### The central widget\n",
    "\n",
    "A **QMainWindow** has one and only one `central widget`. To set a widget as a central widget, you use the `setCentralWidget()` method of the QMainWindow object.\n",
    "\n",
    "### Set the geometry\n",
    "\n",
    "The geometry defines the coordinate of the window (x,y) or (top, left) and the window’s width and height.\n",
    "\n",
    "Below figure shows an example\n",
    "![QT_MainWindow_Geometry.png](../../../image/QT_MainWindow_Geometry.png)\n",
    "\n",
    "```python\n",
    "# the window will appear at (100, 100) with a width of 500px and height of 300px\n",
    "self.setGeometry(100, 100, 500, 300)\n",
    "```\n",
    "\n",
    "Below code shows a simple example with above example"
   ]
  },
  {
   "cell_type": "code",
   "execution_count": 1,
   "metadata": {
    "collapsed": false
   },
   "outputs": [
    {
     "name": "stderr",
     "output_type": "stream",
     "text": [
      "qt.qpa.xcb: X server does not support XInput 2\n"
     ]
    },
    {
     "ename": "SystemExit",
     "evalue": "0",
     "output_type": "error",
     "traceback": [
      "An exception has occurred, use %tb to see the full traceback.\n",
      "\u001B[0;31mSystemExit\u001B[0m\u001B[0;31m:\u001B[0m 0\n"
     ]
    },
    {
     "name": "stderr",
     "output_type": "stream",
     "text": [
      "/home/pengfei/.cache/pypoetry/virtualenvs/python-desktop-app-framework-xY3vli_t-py3.8/lib/python3.8/site-packages/IPython/core/interactiveshell.py:3441: UserWarning: To exit: use 'exit', 'quit', or Ctrl-D.\n",
      "  warn(\"To exit: use 'exit', 'quit', or Ctrl-D.\", stacklevel=1)\n"
     ]
    }
   ],
   "source": [
    "import sys,pathlib\n",
    "from PyQt6.QtWidgets import QApplication, QMainWindow, QTextEdit, QToolBar, QStatusBar\n",
    "from PyQt6.QtGui import QIcon, QAction\n",
    "\n",
    "\n",
    "class MainWindow(QMainWindow):\n",
    "    def __init__(self, *args, **kwargs):\n",
    "        super().__init__(*args, **kwargs)\n",
    "        iconPath=pathlib.Path.cwd().parent.parent / 'resources' / 'casd_favicon.png'\n",
    "        self.setWindowTitle('DataValidator')\n",
    "        self.setWindowIcon(QIcon(str(iconPath)))\n",
    "        self.setGeometry(100, 100, 1024, 768)\n",
    "\n",
    "        self.text_edit = QTextEdit(self)\n",
    "        self.setCentralWidget(self.text_edit)\n",
    "\n",
    "        self.show()\n",
    "\n",
    "\n",
    "\n",
    "app = QApplication(sys.argv)\n",
    "window = MainWindow()\n",
    "sys.exit(app.exec())\n"
   ]
  },
  {
   "cell_type": "markdown",
   "metadata": {
    "collapsed": false
   },
   "source": [
    "## 2. Add Menu bar\n",
    "\n",
    "As we mentioned before, QMainWindow provides a menu bar, we only need to populate it. Below is an example:\n",
    "\n",
    "```python\n",
    "# get the menubar object of the main window\n",
    "menu_bar=self.menuBar()\n",
    "\n",
    "# The addMenu() method returns a QMenu object that represents a drop-down submenu.\n",
    "# The string that we pass to the addMenu() method is for labeling the menu in the menu bar\n",
    "file_menu=menu_bar.addMenu('&File')\n",
    "edit_menu=menu_bar.addMenu('&Edit')\n",
    "help_menu=menu_bar.addMenu('&Help')\n",
    "```\n",
    "\n",
    "The character & will underscore the character of the menu label when you press the ALT key. For example, &File will underscore the letter F."
   ]
  },
  {
   "cell_type": "code",
   "execution_count": 1,
   "metadata": {
    "collapsed": false
   },
   "outputs": [
    {
     "name": "stderr",
     "output_type": "stream",
     "text": [
      "qt.qpa.xcb: X server does not support XInput 2\n"
     ]
    },
    {
     "ename": "SystemExit",
     "evalue": "0",
     "output_type": "error",
     "traceback": [
      "An exception has occurred, use %tb to see the full traceback.\n",
      "\u001B[0;31mSystemExit\u001B[0m\u001B[0;31m:\u001B[0m 0\n"
     ]
    },
    {
     "name": "stderr",
     "output_type": "stream",
     "text": [
      "/home/pengfei/.cache/pypoetry/virtualenvs/python-desktop-app-framework-xY3vli_t-py3.8/lib/python3.8/site-packages/IPython/core/interactiveshell.py:3441: UserWarning: To exit: use 'exit', 'quit', or Ctrl-D.\n",
      "  warn(\"To exit: use 'exit', 'quit', or Ctrl-D.\", stacklevel=1)\n"
     ]
    }
   ],
   "source": [
    "import sys,pathlib\n",
    "from PyQt6.QtWidgets import QApplication, QMainWindow, QTextEdit, QToolBar, QStatusBar\n",
    "from PyQt6.QtGui import QIcon, QAction\n",
    "\n",
    "\n",
    "class MainWindow(QMainWindow):\n",
    "    def __init__(self, *args, **kwargs):\n",
    "        super().__init__(*args, **kwargs)\n",
    "        # basic setup\n",
    "        iconPath=pathlib.Path.cwd().parent.parent / 'resources' / 'casd_favicon.png'\n",
    "        self.setWindowTitle('DataValidator')\n",
    "        self.setWindowIcon(QIcon(str(iconPath)))\n",
    "        self.setGeometry(100, 100, 1024, 768)\n",
    "\n",
    "        # Menu bar setup\n",
    "        menu_bar=self.menuBar()\n",
    "\n",
    "        file_menu=menu_bar.addMenu('&File')\n",
    "        edit_menu=menu_bar.addMenu('&Edit')\n",
    "        help_menu=menu_bar.addMenu('&Help')\n",
    "\n",
    "        self.text_edit = QTextEdit(self)\n",
    "        self.setCentralWidget(self.text_edit)\n",
    "\n",
    "        self.show()\n",
    "\n",
    "\n",
    "\n",
    "app = QApplication(sys.argv)\n",
    "window = MainWindow()\n",
    "sys.exit(app.exec())\n"
   ]
  },
  {
   "cell_type": "markdown",
   "metadata": {
    "collapsed": false
   },
   "source": [
    "## Add action to menu\n",
    "\n",
    "To add menu items to a menu, you need to create actions. An action is an object of the QAction class that represents the functionality of the application.\n",
    "\n",
    "An action object requires a name and a callback to function properly. In addition, an action may contain an icon and a keyboard shortcut.\n",
    "\n",
    "To create an action, you can call the addAction() method of a QMenu. For example, the following adds three actions to the File menu:\n",
    "\n",
    "```python\n",
    "file_menu.addAction('New', lambda: self.text_edit.clear())\n",
    "file_menu.addAction('Open', lambda: print('Open'))\n",
    "file_menu.addAction('Exit', self.destroy)\n",
    "```\n",
    "\n",
    "In below code, we add three actions to file_menu and two actions for edit_menu"
   ]
  },
  {
   "cell_type": "code",
   "execution_count": 1,
   "metadata": {
    "collapsed": false
   },
   "outputs": [
    {
     "name": "stderr",
     "output_type": "stream",
     "text": [
      "qt.qpa.xcb: X server does not support XInput 2\n"
     ]
    },
    {
     "ename": "SystemExit",
     "evalue": "0",
     "output_type": "error",
     "traceback": [
      "An exception has occurred, use %tb to see the full traceback.\n",
      "\u001B[0;31mSystemExit\u001B[0m\u001B[0;31m:\u001B[0m 0\n"
     ]
    },
    {
     "name": "stderr",
     "output_type": "stream",
     "text": [
      "/home/pengfei/.cache/pypoetry/virtualenvs/python-desktop-app-framework-xY3vli_t-py3.8/lib/python3.8/site-packages/IPython/core/interactiveshell.py:3441: UserWarning: To exit: use 'exit', 'quit', or Ctrl-D.\n",
      "  warn(\"To exit: use 'exit', 'quit', or Ctrl-D.\", stacklevel=1)\n"
     ]
    }
   ],
   "source": [
    "import sys,pathlib\n",
    "from PyQt6.QtWidgets import QApplication, QMainWindow, QTextEdit, QToolBar, QStatusBar\n",
    "from PyQt6.QtGui import QIcon, QAction\n",
    "\n",
    "\n",
    "class MainWindow(QMainWindow):\n",
    "    def __init__(self, *args, **kwargs):\n",
    "        super().__init__(*args, **kwargs)\n",
    "        # basic setup\n",
    "        iconPath=pathlib.Path.cwd().parent.parent / 'resources'\n",
    "        self.setWindowTitle('DataValidator')\n",
    "        self.setWindowIcon(QIcon(str(iconPath / 'casd_favicon.png')))\n",
    "        self.setGeometry(100, 100, 1024, 768)\n",
    "\n",
    "        # set up centralWidget\n",
    "        self.text_edit = QTextEdit(self)\n",
    "        self.setCentralWidget(self.text_edit)\n",
    "\n",
    "        # Menu bar setup\n",
    "        menu_bar=self.menuBar()\n",
    "\n",
    "        # Add three menu\n",
    "        file_menu=menu_bar.addMenu('&File')\n",
    "        edit_menu=menu_bar.addMenu('&Edit')\n",
    "        help_menu=menu_bar.addMenu('&Help')\n",
    "\n",
    "        # Add three action to file_menu\n",
    "        file_menu.addAction('New', lambda: self.text_edit.clear())\n",
    "        file_menu.addAction('Open', lambda: print('Open'))\n",
    "        file_menu.addAction('Exit', self.destroy)\n",
    "\n",
    "        # Add two action to edit_menu\n",
    "        undo_action = QAction(QIcon(str(iconPath / 'undo.png')), 'Undo', self)\n",
    "        undo_action.setShortcut('Ctrl+Z')\n",
    "        undo_action.triggered.connect(self.text_edit.undo)\n",
    "        edit_menu.addAction(undo_action)\n",
    "\n",
    "        redo_action = QAction(QIcon(str(iconPath / 'redo.png')), 'Redo', self)\n",
    "        redo_action.setShortcut('Ctrl+Y')\n",
    "        redo_action.triggered.connect(self.text_edit.redo)\n",
    "        edit_menu.addAction(redo_action)\n",
    "\n",
    "        self.show()\n",
    "\n",
    "\n",
    "\n",
    "app = QApplication(sys.argv)\n",
    "window = MainWindow()\n",
    "sys.exit(app.exec())\n"
   ]
  },
  {
   "cell_type": "markdown",
   "metadata": {
    "collapsed": false
   },
   "source": [
    "## Adding a toolbar\n",
    "\n",
    "**A toolbar is a bar of icons and/or text that expose the most commonly used function of the application.** To add a toolbar to the application:\n",
    "\n",
    "1. Create toolbar object\n",
    "2. add toolbar object to main window\n",
    "3. add action to each toolbar item\n",
    "\n",
    "Below is an example of how to add undo and redo action to the toolbar"
   ]
  },
  {
   "cell_type": "code",
   "execution_count": 1,
   "metadata": {
    "collapsed": false
   },
   "outputs": [
    {
     "name": "stderr",
     "output_type": "stream",
     "text": [
      "qt.qpa.xcb: X server does not support XInput 2\n"
     ]
    },
    {
     "ename": "SystemExit",
     "evalue": "0",
     "output_type": "error",
     "traceback": [
      "An exception has occurred, use %tb to see the full traceback.\n",
      "\u001B[0;31mSystemExit\u001B[0m\u001B[0;31m:\u001B[0m 0\n"
     ]
    },
    {
     "name": "stderr",
     "output_type": "stream",
     "text": [
      "/home/pengfei/.cache/pypoetry/virtualenvs/python-desktop-app-framework-xY3vli_t-py3.8/lib/python3.8/site-packages/IPython/core/interactiveshell.py:3441: UserWarning: To exit: use 'exit', 'quit', or Ctrl-D.\n",
      "  warn(\"To exit: use 'exit', 'quit', or Ctrl-D.\", stacklevel=1)\n"
     ]
    }
   ],
   "source": [
    "import sys,pathlib\n",
    "from PyQt6.QtWidgets import QApplication, QMainWindow, QTextEdit, QToolBar, QStatusBar\n",
    "from PyQt6.QtGui import QIcon, QAction\n",
    "\n",
    "\n",
    "class MainWindow(QMainWindow):\n",
    "    def __init__(self, *args, **kwargs):\n",
    "        super().__init__(*args, **kwargs)\n",
    "        # basic setup\n",
    "        iconPath=pathlib.Path.cwd().parent.parent / 'resources'\n",
    "        self.setWindowTitle('DataValidator')\n",
    "        self.setWindowIcon(QIcon(str(iconPath / 'casd_favicon.png')))\n",
    "        self.setGeometry(100, 100, 1024, 768)\n",
    "\n",
    "        # set up centralWidget\n",
    "        self.text_edit = QTextEdit(self)\n",
    "        self.setCentralWidget(self.text_edit)\n",
    "\n",
    "        # Menu bar setup\n",
    "        menu_bar=self.menuBar()\n",
    "\n",
    "        # Add three menu\n",
    "        file_menu=menu_bar.addMenu('&File')\n",
    "        edit_menu=menu_bar.addMenu('&Edit')\n",
    "        help_menu=menu_bar.addMenu('&Help')\n",
    "\n",
    "        # Add three action to file_menu\n",
    "        file_menu.addAction('New', lambda: self.text_edit.clear())\n",
    "        file_menu.addAction('Open', lambda: print('Open'))\n",
    "        file_menu.addAction('Exit', self.destroy)\n",
    "\n",
    "        # Add two action to edit_menu\n",
    "        undo_action = QAction(QIcon(str(iconPath / 'undo.png')), 'Undo', self)\n",
    "        undo_action.setShortcut('Ctrl+Z')\n",
    "        # link to the textEdit slot undo (provided by Qt)\n",
    "        undo_action.triggered.connect(self.text_edit.undo)\n",
    "        edit_menu.addAction(undo_action)\n",
    "\n",
    "        redo_action = QAction(QIcon(str(iconPath / 'redo.png')), 'Redo', self)\n",
    "        redo_action.setShortcut('Ctrl+Y')\n",
    "        redo_action.triggered.connect(self.text_edit.redo)\n",
    "        edit_menu.addAction(redo_action)\n",
    "\n",
    "        # Create a toolbar and add it to the MainWindow\n",
    "        toolbar=QToolBar(\"Main toolbar\")\n",
    "        self.addToolBar(toolbar)\n",
    "\n",
    "        # add action to toolbar\n",
    "        toolbar.addAction(undo_action)\n",
    "        toolbar.addAction(redo_action)\n",
    "\n",
    "        self.show()\n",
    "\n",
    "\n",
    "\n",
    "app = QApplication(sys.argv)\n",
    "window = MainWindow()\n",
    "sys.exit(app.exec())\n"
   ]
  },
  {
   "cell_type": "markdown",
   "metadata": {
    "collapsed": false
   },
   "source": [
    "## Adding a status bar\n",
    "\n",
    "A status bar is a bar located at the bottom of the main window. Typically, a status bar displays short text messages and/or informational widgets.\n",
    "\n",
    "To add a status bar to the application, you create a `QStatusBar` object and set it to the main window using the `setStatusBar()` method:"
   ]
  },
  {
   "cell_type": "code",
   "execution_count": 1,
   "metadata": {
    "collapsed": false
   },
   "outputs": [
    {
     "name": "stderr",
     "output_type": "stream",
     "text": [
      "qt.qpa.xcb: X server does not support XInput 2\n"
     ]
    },
    {
     "ename": "SystemExit",
     "evalue": "0",
     "output_type": "error",
     "traceback": [
      "An exception has occurred, use %tb to see the full traceback.\n",
      "\u001B[0;31mSystemExit\u001B[0m\u001B[0;31m:\u001B[0m 0\n"
     ]
    },
    {
     "name": "stderr",
     "output_type": "stream",
     "text": [
      "/home/pengfei/.cache/pypoetry/virtualenvs/python-desktop-app-framework-xY3vli_t-py3.8/lib/python3.8/site-packages/IPython/core/interactiveshell.py:3441: UserWarning: To exit: use 'exit', 'quit', or Ctrl-D.\n",
      "  warn(\"To exit: use 'exit', 'quit', or Ctrl-D.\", stacklevel=1)\n"
     ]
    }
   ],
   "source": [
    "import sys,pathlib\n",
    "from PyQt6.QtWidgets import QApplication, QMainWindow, QTextEdit, QToolBar, QStatusBar\n",
    "from PyQt6.QtGui import QIcon, QAction\n",
    "\n",
    "\n",
    "class MainWindow(QMainWindow):\n",
    "    def __init__(self, *args, **kwargs):\n",
    "        super().__init__(*args, **kwargs)\n",
    "        # basic setup\n",
    "        iconPath=pathlib.Path.cwd().parent.parent / 'resources'\n",
    "        self.setWindowTitle('DataValidator')\n",
    "        self.setWindowIcon(QIcon(str(iconPath / 'casd_favicon.png')))\n",
    "        self.setGeometry(100, 100, 1024, 768)\n",
    "\n",
    "        # set up centralWidget\n",
    "        self.text_edit = QTextEdit(self)\n",
    "        self.setCentralWidget(self.text_edit)\n",
    "\n",
    "        # Menu bar setup\n",
    "        menu_bar=self.menuBar()\n",
    "\n",
    "        # Add three menu\n",
    "        file_menu=menu_bar.addMenu('&File')\n",
    "        edit_menu=menu_bar.addMenu('&Edit')\n",
    "        help_menu=menu_bar.addMenu('&Help')\n",
    "\n",
    "        # Add three action to file_menu\n",
    "        file_menu.addAction('New', lambda: self.text_edit.clear())\n",
    "        file_menu.addAction('Open', lambda: print('Open'))\n",
    "        file_menu.addAction('Exit', self.destroy)\n",
    "\n",
    "        # Add two action to edit_menu\n",
    "        undo_action = QAction(QIcon(str(iconPath / 'undo.png')), 'Undo', self)\n",
    "        undo_action.setShortcut('Ctrl+Z')\n",
    "        # link to the textEdit slot undo (provided by Qt)\n",
    "        undo_action.triggered.connect(self.text_edit.undo)\n",
    "        edit_menu.addAction(undo_action)\n",
    "\n",
    "        redo_action = QAction(QIcon(str(iconPath / 'redo.png')), 'Redo', self)\n",
    "        redo_action.setShortcut('Ctrl+Y')\n",
    "        redo_action.triggered.connect(self.text_edit.redo)\n",
    "        edit_menu.addAction(redo_action)\n",
    "\n",
    "        # Create a toolbar and add it to the MainWindow\n",
    "        toolbar=QToolBar(\"Main toolbar\")\n",
    "        self.addToolBar(toolbar)\n",
    "\n",
    "        # add action to toolbar\n",
    "        toolbar.addAction(undo_action)\n",
    "        toolbar.addAction(redo_action)\n",
    "\n",
    "        # setup a status bar\n",
    "        self.status_bar = QStatusBar()\n",
    "        self.setStatusBar(self.status_bar)\n",
    "        self.status_bar.showMessage('Awesome data validator v1.0')\n",
    "\n",
    "\n",
    "        self.show()\n",
    "\n",
    "\n",
    "\n",
    "app = QApplication(sys.argv)\n",
    "window = MainWindow()\n",
    "sys.exit(app.exec())\n"
   ]
  },
  {
   "cell_type": "markdown",
   "metadata": {},
   "source": [
    "## Center the main window\n",
    "\n",
    "To center the main window, we need to follow below steps:\n",
    "1. Get main window current geometry (e.g. starting point, width, length)\n",
    "2. Get the geometry of the display device (e.g. monitor, smartphone)\n",
    "3. Get the center of the display device\n",
    "4. Move main window to the center\n",
    "\n",
    "\n",
    "Below is an example\n"
   ]
  },
  {
   "cell_type": "code",
   "execution_count": 1,
   "metadata": {},
   "outputs": [
    {
     "name": "stderr",
     "output_type": "stream",
     "text": [
      "qt.qpa.xcb: X server does not support XInput 2\n"
     ]
    },
    {
     "ename": "SystemExit",
     "evalue": "0",
     "output_type": "error",
     "traceback": [
      "An exception has occurred, use %tb to see the full traceback.\n",
      "\u001B[0;31mSystemExit\u001B[0m\u001B[0;31m:\u001B[0m 0\n"
     ]
    },
    {
     "name": "stderr",
     "output_type": "stream",
     "text": [
      "/home/pengfei/.cache/pypoetry/virtualenvs/python-desktop-app-framework-xY3vli_t-py3.8/lib/python3.8/site-packages/IPython/core/interactiveshell.py:3441: UserWarning: To exit: use 'exit', 'quit', or Ctrl-D.\n",
      "  warn(\"To exit: use 'exit', 'quit', or Ctrl-D.\", stacklevel=1)\n"
     ]
    }
   ],
   "source": [
    "import sys,pathlib\n",
    "from PyQt6.QtWidgets import QApplication, QMainWindow, QTextEdit, QToolBar, QStatusBar\n",
    "from PyQt6.QtGui import QIcon, QAction\n",
    "\n",
    "\n",
    "class MainWindow(QMainWindow):\n",
    "    def __init__(self, *args, **kwargs):\n",
    "        super().__init__(*args, **kwargs)\n",
    "        # basic setup\n",
    "        iconPath=pathlib.Path.cwd().parent.parent / 'resources'\n",
    "        self.setWindowTitle('DataValidator')\n",
    "        self.setWindowIcon(QIcon(str(iconPath / 'casd_favicon.png')))\n",
    "        self.resize(1024, 768)\n",
    "        self.center()\n",
    "\n",
    "        # set up centralWidget\n",
    "        self.text_edit = QTextEdit(self)\n",
    "        self.setCentralWidget(self.text_edit)\n",
    "\n",
    "        # Menu bar setup\n",
    "        menu_bar=self.menuBar()\n",
    "\n",
    "        # Add three menu\n",
    "        file_menu=menu_bar.addMenu('&File')\n",
    "        edit_menu=menu_bar.addMenu('&Edit')\n",
    "        help_menu=menu_bar.addMenu('&Help')\n",
    "\n",
    "        # Add three action to file_menu\n",
    "        file_menu.addAction('New', lambda: self.text_edit.clear())\n",
    "        file_menu.addAction('Open', lambda: print('Open'))\n",
    "        file_menu.addAction('Exit', self.destroy)\n",
    "\n",
    "        # Add two action to edit_menu\n",
    "        undo_action = QAction(QIcon(str(iconPath / 'undo.png')), 'Undo', self)\n",
    "        undo_action.setShortcut('Ctrl+Z')\n",
    "        # link to the textEdit slot undo (provided by Qt)\n",
    "        undo_action.triggered.connect(self.text_edit.undo)\n",
    "        edit_menu.addAction(undo_action)\n",
    "\n",
    "        redo_action = QAction(QIcon(str(iconPath / 'redo.png')), 'Redo', self)\n",
    "        redo_action.setShortcut('Ctrl+Y')\n",
    "        redo_action.triggered.connect(self.text_edit.redo)\n",
    "        edit_menu.addAction(redo_action)\n",
    "\n",
    "        # Create a toolbar and add it to the MainWindow\n",
    "        toolbar=QToolBar(\"Main toolbar\")\n",
    "        self.addToolBar(toolbar)\n",
    "\n",
    "        # add action to toolbar\n",
    "        toolbar.addAction(undo_action)\n",
    "        toolbar.addAction(redo_action)\n",
    "\n",
    "        # setup a status bar\n",
    "        self.status_bar = QStatusBar()\n",
    "        self.setStatusBar(self.status_bar)\n",
    "        self.status_bar.showMessage('Awesome data validator v1.0')\n",
    "\n",
    "\n",
    "        self.show()\n",
    "\n",
    "    def center(self):\n",
    "        # get a rectangle of the current window geometry\n",
    "        current_geo=self.frameGeometry()\n",
    "        # get the center point of the monitor screen \n",
    "        device_center=self.screen().availableGeometry().center()\n",
    "        # move the rectangle object to device center without changing widgth and length\n",
    "        current_geo.moveCenter(device_center)\n",
    "        # ask main window to use the top-left point of the rectangle as the starting point\n",
    "        self.move(current_geo.topLeft())\n",
    "\n",
    "\n",
    "\n",
    "app = QApplication(sys.argv)\n",
    "window = MainWindow()\n",
    "sys.exit(app.exec())"
   ]
  }
 ],
 "metadata": {
  "kernelspec": {
   "display_name": "Python 3",
   "language": "python",
   "name": "python3"
  },
  "language_info": {
   "codemirror_mode": {
    "name": "ipython",
    "version": 2
   },
   "file_extension": ".py",
   "mimetype": "text/x-python",
   "name": "python",
   "nbconvert_exporter": "python",
   "pygments_lexer": "ipython2",
   "version": "2.7.6"
  }
 },
 "nbformat": 4,
 "nbformat_minor": 0
}
