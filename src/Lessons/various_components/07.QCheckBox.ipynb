{
 "cells": [
  {
   "cell_type": "markdown",
   "source": [
    "# 7. Check box\n",
    "\n",
    "The QCheckBox class allows you to create a checkbox widget, which can be switched on or off. To create a checkbox using the QCheckBox class, you follow these steps\n",
    "\n",
    "1. Create the checkBox object\n",
    "\n",
    "\n",
    "## 7.1 First example\n"
   ],
   "metadata": {
    "collapsed": false
   }
  },
  {
   "cell_type": "code",
   "execution_count": 1,
   "outputs": [
    {
     "name": "stderr",
     "output_type": "stream",
     "text": [
      "qt.qpa.xcb: X server does not support XInput 2\n"
     ]
    },
    {
     "ename": "SystemExit",
     "evalue": "0",
     "output_type": "error",
     "traceback": [
      "An exception has occurred, use %tb to see the full traceback.\n",
      "\u001B[0;31mSystemExit\u001B[0m\u001B[0;31m:\u001B[0m 0\n"
     ]
    },
    {
     "name": "stderr",
     "output_type": "stream",
     "text": [
      "/home/pengfei/.cache/pypoetry/virtualenvs/python-desktop-app-framework-xY3vli_t-py3.8/lib/python3.8/site-packages/IPython/core/interactiveshell.py:3441: UserWarning: To exit: use 'exit', 'quit', or Ctrl-D.\n",
      "  warn(\"To exit: use 'exit', 'quit', or Ctrl-D.\", stacklevel=1)\n"
     ]
    }
   ],
   "source": [
    "import sys\n",
    "from PyQt6.QtWidgets import QApplication, QWidget, QCheckBox, QGridLayout\n",
    "from PyQt6.QtCore import Qt\n",
    "\n",
    "\n",
    "class MainWindow(QWidget):\n",
    "    def __init__(self, *args, **kwargs):\n",
    "        super().__init__(*args, **kwargs)\n",
    "\n",
    "        self.setWindowTitle('PyQt QCheckBox')\n",
    "        self.setGeometry(100, 100, 320, 210)\n",
    "\n",
    "        # create a grid layout\n",
    "        layout = QGridLayout()\n",
    "        self.setLayout(layout)\n",
    "\n",
    "        # create a checkbox\n",
    "        checkbox = QCheckBox('I agree', self)\n",
    "\n",
    "        layout.addWidget(checkbox, 0, 0, Qt.AlignmentFlag.AlignCenter)\n",
    "\n",
    "        # show the window\n",
    "        self.show()\n",
    "\n",
    "\n",
    "\n",
    "app = QApplication(sys.argv)\n",
    "window = MainWindow()\n",
    "sys.exit(app.exec())"
   ],
   "metadata": {
    "collapsed": false
   }
  },
  {
   "cell_type": "markdown",
   "source": [
    "## 7.2 Handle checkbox signal\n",
    "\n",
    "A checkbox emits the `stateChanged` signal whenever you check or uncheck it.\n",
    "\n",
    "If you want to do something when the checkbox is checked or unchecked, you can connect a slot to the `stateChanged` signal.\n"
   ],
   "metadata": {
    "collapsed": false
   }
  },
  {
   "cell_type": "code",
   "execution_count": null,
   "outputs": [
    {
     "name": "stderr",
     "output_type": "stream",
     "text": [
      "qt.qpa.xcb: X server does not support XInput 2\n"
     ]
    }
   ],
   "source": [
    "import sys\n",
    "from PyQt6.QtWidgets import QApplication, QWidget, QCheckBox, QGridLayout, QTextBrowser\n",
    "from PyQt6.QtCore import Qt\n",
    "\n",
    "\n",
    "class MainWindow(QWidget):\n",
    "    def __init__(self, *args, **kwargs):\n",
    "        super().__init__(*args, **kwargs)\n",
    "\n",
    "        self.setWindowTitle('PyQt QCheckBox')\n",
    "        self.setGeometry(100, 100, 320, 210)\n",
    "\n",
    "        # create a text area to print state\n",
    "        self.text_edit = QTextBrowser()\n",
    "\n",
    "        # create a grid layout\n",
    "        layout = QGridLayout()\n",
    "        self.setLayout(layout)\n",
    "\n",
    "        # create a checkbox\n",
    "        checkbox = QCheckBox('I agree', self)\n",
    "        # connect the signal to slot function\n",
    "        checkbox.stateChanged.connect(self.on_checkbox_changed)\n",
    "\n",
    "        layout.addWidget(checkbox, 0, 0, Qt.AlignmentFlag.AlignCenter)\n",
    "\n",
    "\n",
    "        layout.addWidget(self.text_edit,0,1,Qt.AlignmentFlag.AlignCenter)\n",
    "        # show the window\n",
    "        self.show()\n",
    "\n",
    "    # value contains the state value of the checkbox\n",
    "    def on_checkbox_changed(self, value):\n",
    "        # create a state object by using value\n",
    "        state = Qt.CheckState(value)\n",
    "        if state == Qt.CheckState.Checked:\n",
    "            self.text_edit.setText(\"Checked\")\n",
    "        elif state ==Qt.CheckState.Unchecked:\n",
    "            self.text_edit.setText(\"Unchecked\")\n",
    "\n",
    "\n",
    "\n",
    "app = QApplication(sys.argv)\n",
    "window = MainWindow()\n",
    "sys.exit(app.exec())"
   ],
   "metadata": {
    "collapsed": false,
    "pycharm": {
     "is_executing": true
    }
   }
  },
  {
   "cell_type": "markdown",
   "source": [
    "## 7.3 Setting checked or unchecked of PyQt QCheckBox programmatically\n",
    "\n",
    "The `QCheckBox` class has the `setChecked()` method that allows you to check or uncheck a checkbox programmatically.\n",
    "\n",
    "If you pass `True` to the `setChecked()` method, the checkbox will be checked. However, if you pass `False` to the `setCheck()` method, the checkbox will be unchecked.\n",
    "\n",
    "Also, you can use the `setCheckState()` method of the `QCheckBox` class to set the state of the checkbox. The `setCheckState()` method accepts one of three state values of the `Qt.CheckState` enum."
   ],
   "metadata": {
    "collapsed": false
   }
  },
  {
   "cell_type": "code",
   "execution_count": 1,
   "outputs": [
    {
     "name": "stderr",
     "output_type": "stream",
     "text": [
      "qt.qpa.xcb: X server does not support XInput 2\n"
     ]
    },
    {
     "ename": "SystemExit",
     "evalue": "0",
     "output_type": "error",
     "traceback": [
      "An exception has occurred, use %tb to see the full traceback.\n",
      "\u001B[0;31mSystemExit\u001B[0m\u001B[0;31m:\u001B[0m 0\n"
     ]
    },
    {
     "name": "stderr",
     "output_type": "stream",
     "text": [
      "/home/pengfei/.cache/pypoetry/virtualenvs/python-desktop-app-framework-xY3vli_t-py3.8/lib/python3.8/site-packages/IPython/core/interactiveshell.py:3441: UserWarning: To exit: use 'exit', 'quit', or Ctrl-D.\n",
      "  warn(\"To exit: use 'exit', 'quit', or Ctrl-D.\", stacklevel=1)\n"
     ]
    }
   ],
   "source": [
    "import sys\n",
    "from PyQt6.QtWidgets import QApplication, QWidget, QCheckBox, QPushButton, QGridLayout\n",
    "from PyQt6.QtCore import Qt\n",
    "\n",
    "\n",
    "class MainWindow(QWidget):\n",
    "    def __init__(self, *args, **kwargs):\n",
    "        super().__init__(*args, **kwargs)\n",
    "\n",
    "        self.setWindowTitle('PyQt QCheckBox')\n",
    "        self.setGeometry(100, 100, 320, 210)\n",
    "\n",
    "        # create a grid layout\n",
    "        layout = QGridLayout()\n",
    "        self.setLayout(layout)\n",
    "\n",
    "        # create a checkbox\n",
    "        self.checkbox = QCheckBox('I agree', self)\n",
    "\n",
    "\n",
    "        # create two buttons which will change the state of the checkbox\n",
    "        check_button = QPushButton('Check', self)\n",
    "        check_button.clicked.connect(self.check)\n",
    "\n",
    "        uncheck_button = QPushButton('Uncheck', self)\n",
    "        uncheck_button.clicked.connect(self.uncheck)\n",
    "\n",
    "        layout.addWidget(self.checkbox, 0, 0, 0, 2,\n",
    "                         Qt.AlignmentFlag.AlignCenter)\n",
    "        layout.addWidget(check_button, 1, 0)\n",
    "        layout.addWidget(uncheck_button, 1, 1)\n",
    "\n",
    "        # show the window\n",
    "        self.show()\n",
    "\n",
    "    def check(self):\n",
    "        self.checkbox.setChecked(True)\n",
    "\n",
    "    def uncheck(self):\n",
    "        self.checkbox.setChecked(False)\n",
    "\n",
    "\n",
    "app = QApplication(sys.argv)\n",
    "window = MainWindow()\n",
    "sys.exit(app.exec())"
   ],
   "metadata": {
    "collapsed": false
   }
  },
  {
   "cell_type": "markdown",
   "source": [
    "## 7.4 Creating a tristate checkbox\n",
    "Besides checked and unchecked, a `QCheckBox` supports the third state that indicates “no change”. In this case, a checkbox has three states:\n",
    "\n",
    "- Checked\n",
    "- Unchecked\n",
    "- Partially checked\n",
    "\n",
    "\n",
    "In practice, you use a tristate checkbox to give the user the option of neither checking nor unchecking the checkbox."
   ],
   "metadata": {
    "collapsed": false
   }
  },
  {
   "cell_type": "code",
   "execution_count": null,
   "outputs": [],
   "source": [
    "import sys\n",
    "from PyQt6.QtWidgets import QApplication, QWidget, QCheckBox,  QGridLayout\n",
    "from PyQt6.QtCore import Qt\n",
    "\n",
    "\n",
    "class MainWindow(QWidget):\n",
    "    def __init__(self, *args, **kwargs):\n",
    "        super().__init__(*args, **kwargs)\n",
    "\n",
    "        self.setWindowTitle('PyQt QCheckBox')\n",
    "        self.setGeometry(100, 100, 320, 210)\n",
    "\n",
    "        # create a grid layout\n",
    "        layout = QGridLayout()\n",
    "        self.setLayout(layout)\n",
    "\n",
    "        # create a tristate checkbox\n",
    "        self.checkbox = QCheckBox('A Tristate Checkbox', self)\n",
    "        # setup Tristate to true to have 3 state.\n",
    "        self.checkbox.setTristate(True)\n",
    "\n",
    "        layout.addWidget(self.checkbox, 0, 0, Qt.AlignmentFlag.AlignCenter)\n",
    "\n",
    "        # show the window\n",
    "        self.show()\n",
    "\n",
    "\n",
    "\n",
    "app = QApplication(sys.argv)\n",
    "window = MainWindow()\n",
    "sys.exit(app.exec())"
   ],
   "metadata": {
    "collapsed": false,
    "pycharm": {
     "is_executing": true
    }
   }
  },
  {
   "cell_type": "markdown",
   "source": [
    "## 7.5 Multiple Choice checkbox\n",
    "\n",
    "In below example, we take a list of options, for each option, we create a checkbox. User can choose multiple options, by clicking on the button, the selected option will be printed on the text edit.\n",
    "\n",
    "The checkbox is organized by a GridLayout, we can set the item numbers on each row by setting **row_width**."
   ],
   "metadata": {
    "collapsed": false
   }
  },
  {
   "cell_type": "code",
   "execution_count": null,
   "outputs": [],
   "source": [
    "import sys\n",
    "from PyQt6.QtWidgets import QApplication, QWidget, QCheckBox, QTextBrowser, QVBoxLayout, QGridLayout, QPushButton\n",
    "\n",
    "\n",
    "class MainWindow(QWidget):\n",
    "    def __init__(self, *args, **kwargs):\n",
    "        super().__init__(*args, **kwargs)\n",
    "\n",
    "        self.setWindowTitle('PyQt Multi choice QCheckBox')\n",
    "        self.setGeometry(100, 100, 320, 210)\n",
    "\n",
    "        # create a grid layout\n",
    "        layout = QVBoxLayout()\n",
    "        self.setLayout(layout)\n",
    "\n",
    "        # first sub layout to organize check box\n",
    "        subLayout1 = QGridLayout()\n",
    "\n",
    "        options = [\"Option1\", \"Option2\", \"Option3\", \"Option4\", \"Option5\", \"Option6\", \"Option7\", \"Option8\"]\n",
    "        row_width = 3\n",
    "        # here we set each row has 3 items, so the max row\n",
    "        row = 0\n",
    "        col = 0\n",
    "        self.checkBoxs = []\n",
    "        for option in options:\n",
    "            # create a checkbox\n",
    "            cb = QCheckBox(option, self)\n",
    "            self.checkBoxs.append(cb)\n",
    "            subLayout1.addWidget(cb, row, col)\n",
    "            col = col + 1\n",
    "            if col >= row_width:\n",
    "                row = row + 1\n",
    "                col = 0\n",
    "\n",
    "        # second sub layout to organize text and button\n",
    "        subLayout2 = QVBoxLayout()\n",
    "        # create a text area to print state\n",
    "        self.text_edit = QTextBrowser()\n",
    "        # create a button to get the status of checkbox\n",
    "        self.btn = QPushButton(\"Get config\", self)\n",
    "        self.btn.clicked.connect(self.getConfig)\n",
    "        subLayout2.addWidget(self.text_edit)\n",
    "        subLayout2.addWidget(self.btn)\n",
    "\n",
    "        layout.addLayout(subLayout1)\n",
    "        layout.addLayout(subLayout2)\n",
    "        # show the window\n",
    "        self.show()\n",
    "\n",
    "    # value contains the state value of the checkbox\n",
    "    def getConfig(self):\n",
    "        # get the status of all check box\n",
    "        configList = []\n",
    "        for cb in self.checkBoxs:\n",
    "            if cb.isChecked():\n",
    "                configList.append(cb.text())\n",
    "        self.text_edit.setText(str(configList))\n",
    "\n",
    "\n",
    "app = QApplication(sys.argv)\n",
    "window = MainWindow()\n",
    "sys.exit(app.exec())\n"
   ],
   "metadata": {
    "collapsed": false,
    "pycharm": {
     "is_executing": true
    }
   }
  },
  {
   "cell_type": "code",
   "execution_count": null,
   "outputs": [],
   "source": [],
   "metadata": {
    "collapsed": false
   }
  },
  {
   "cell_type": "code",
   "execution_count": null,
   "outputs": [],
   "source": [],
   "metadata": {
    "collapsed": false
   }
  }
 ],
 "metadata": {
  "kernelspec": {
   "display_name": "Python 3",
   "language": "python",
   "name": "python3"
  },
  "language_info": {
   "codemirror_mode": {
    "name": "ipython",
    "version": 2
   },
   "file_extension": ".py",
   "mimetype": "text/x-python",
   "name": "python",
   "nbconvert_exporter": "python",
   "pygments_lexer": "ipython2",
   "version": "2.7.6"
  }
 },
 "nbformat": 4,
 "nbformat_minor": 0
}
