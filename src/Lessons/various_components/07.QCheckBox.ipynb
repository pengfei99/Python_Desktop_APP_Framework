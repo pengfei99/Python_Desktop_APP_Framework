{
 "cells": [
  {
   "cell_type": "markdown",
   "source": [
    "# 7. Check box\n",
    "\n",
    "The QCheckBox class allows you to create a checkbox widget, which can be switched on or off. To create a checkbox using the QCheckBox class, you follow these steps\n",
    "\n",
    "1. Create the checkBox object\n",
    "\n",
    "\n",
    "## 7.1 First example\n"
   ],
   "metadata": {
    "collapsed": false
   }
  },
  {
   "cell_type": "code",
   "execution_count": 1,
   "outputs": [
    {
     "name": "stderr",
     "output_type": "stream",
     "text": [
      "qt.qpa.xcb: X server does not support XInput 2\n"
     ]
    },
    {
     "ename": "SystemExit",
     "evalue": "0",
     "output_type": "error",
     "traceback": [
      "An exception has occurred, use %tb to see the full traceback.\n",
      "\u001B[0;31mSystemExit\u001B[0m\u001B[0;31m:\u001B[0m 0\n"
     ]
    },
    {
     "name": "stderr",
     "output_type": "stream",
     "text": [
      "/home/pengfei/.cache/pypoetry/virtualenvs/python-desktop-app-framework-xY3vli_t-py3.8/lib/python3.8/site-packages/IPython/core/interactiveshell.py:3441: UserWarning: To exit: use 'exit', 'quit', or Ctrl-D.\n",
      "  warn(\"To exit: use 'exit', 'quit', or Ctrl-D.\", stacklevel=1)\n"
     ]
    }
   ],
   "source": [
    "import sys\n",
    "from PyQt6.QtWidgets import QApplication, QWidget, QCheckBox, QGridLayout\n",
    "from PyQt6.QtCore import Qt\n",
    "\n",
    "\n",
    "class MainWindow(QWidget):\n",
    "    def __init__(self, *args, **kwargs):\n",
    "        super().__init__(*args, **kwargs)\n",
    "\n",
    "        self.setWindowTitle('PyQt QCheckBox')\n",
    "        self.setGeometry(100, 100, 320, 210)\n",
    "\n",
    "        # create a grid layout\n",
    "        layout = QGridLayout()\n",
    "        self.setLayout(layout)\n",
    "\n",
    "        # create a checkbox\n",
    "        checkbox = QCheckBox('I agree', self)\n",
    "\n",
    "        layout.addWidget(checkbox, 0, 0, Qt.AlignmentFlag.AlignCenter)\n",
    "\n",
    "        # show the window\n",
    "        self.show()\n",
    "\n",
    "\n",
    "\n",
    "app = QApplication(sys.argv)\n",
    "window = MainWindow()\n",
    "sys.exit(app.exec())"
   ],
   "metadata": {
    "collapsed": false
   }
  },
  {
   "cell_type": "markdown",
   "source": [
    "## 7.2 Handle checkbox signal\n",
    "\n",
    "A checkbox emits the `stateChanged` signal whenever you check or uncheck it.\n",
    "\n",
    "If you want to do something when the checkbox is checked or unchecked, you can connect a slot to the `stateChanged` signal.\n"
   ],
   "metadata": {
    "collapsed": false
   }
  },
  {
   "cell_type": "code",
   "execution_count": null,
   "outputs": [
    {
     "name": "stderr",
     "output_type": "stream",
     "text": [
      "qt.qpa.xcb: X server does not support XInput 2\n"
     ]
    },
    {
     "ename": "AttributeError",
     "evalue": "'MainWindow' object has no attribute 'text_edit'",
     "output_type": "error",
     "traceback": [
      "\u001B[0;31m---------------------------------------------------------------------------\u001B[0m",
      "\u001B[0;31mAttributeError\u001B[0m                            Traceback (most recent call last)",
      "Cell \u001B[0;32mIn[1], line 35\u001B[0m, in \u001B[0;36mMainWindow.on_checkbox_changed\u001B[0;34m(self, value)\u001B[0m\n\u001B[1;32m     33\u001B[0m state \u001B[38;5;241m=\u001B[39m Qt\u001B[38;5;241m.\u001B[39mCheckState(value)\n\u001B[1;32m     34\u001B[0m \u001B[38;5;28;01mif\u001B[39;00m state \u001B[38;5;241m==\u001B[39m Qt\u001B[38;5;241m.\u001B[39mCheckState\u001B[38;5;241m.\u001B[39mChecked:\n\u001B[0;32m---> 35\u001B[0m     \u001B[38;5;28;43mself\u001B[39;49m\u001B[38;5;241;43m.\u001B[39;49m\u001B[43mtext_edit\u001B[49m\u001B[38;5;241m.\u001B[39msetText(\u001B[38;5;124m\"\u001B[39m\u001B[38;5;124mChecked\u001B[39m\u001B[38;5;124m\"\u001B[39m)\n\u001B[1;32m     36\u001B[0m \u001B[38;5;28;01melif\u001B[39;00m state \u001B[38;5;241m==\u001B[39mQt\u001B[38;5;241m.\u001B[39mCheckState\u001B[38;5;241m.\u001B[39mUnchecked:\n\u001B[1;32m     37\u001B[0m     \u001B[38;5;28mself\u001B[39m\u001B[38;5;241m.\u001B[39mtext_edit\u001B[38;5;241m.\u001B[39msetText(\u001B[38;5;124m\"\u001B[39m\u001B[38;5;124mUnchecked\u001B[39m\u001B[38;5;124m\"\u001B[39m)\n",
      "\u001B[0;31mAttributeError\u001B[0m: 'MainWindow' object has no attribute 'text_edit'"
     ]
    }
   ],
   "source": [
    "import sys\n",
    "from PyQt6.QtWidgets import QApplication, QWidget, QCheckBox, QGridLayout, QTextEdit\n",
    "from PyQt6.QtCore import Qt\n",
    "\n",
    "\n",
    "class MainWindow(QWidget):\n",
    "    def __init__(self, *args, **kwargs):\n",
    "        super().__init__(*args, **kwargs)\n",
    "\n",
    "        self.setWindowTitle('PyQt QCheckBox')\n",
    "        self.setGeometry(100, 100, 320, 210)\n",
    "\n",
    "        # create a text area to print state\n",
    "        self.text_edit = QTextEdit(self)\n",
    "\n",
    "        # create a grid layout\n",
    "        layout = QGridLayout()\n",
    "        self.setLayout(layout)\n",
    "\n",
    "        # create a checkbox\n",
    "        checkbox = QCheckBox('I agree', self)\n",
    "        # connect the signal to slot function\n",
    "        checkbox.stateChanged.connect(self.on_checkbox_changed)\n",
    "\n",
    "        layout.addWidget(checkbox, 0, 0, Qt.AlignmentFlag.AlignCenter)\n",
    "        # layout.addWidget(text_edit,0,0,Qt.AlignmentFlag.AlignCenter)\n",
    "        # show the window\n",
    "        self.show()\n",
    "\n",
    "    # value contains the state value of the checkbox\n",
    "    def on_checkbox_changed(self, value):\n",
    "        # create a state object by using value\n",
    "        state = Qt.CheckState(value)\n",
    "        if state == Qt.CheckState.Checked:\n",
    "            self.text_edit.setText(\"Checked\")\n",
    "        elif state ==Qt.CheckState.Unchecked:\n",
    "            self.text_edit.setText(\"Unchecked\")\n",
    "\n",
    "\n",
    "\n",
    "app = QApplication(sys.argv)\n",
    "window = MainWindow()\n",
    "sys.exit(app.exec())"
   ],
   "metadata": {
    "collapsed": false,
    "pycharm": {
     "is_executing": true
    }
   }
  }
 ],
 "metadata": {
  "kernelspec": {
   "display_name": "Python 3",
   "language": "python",
   "name": "python3"
  },
  "language_info": {
   "codemirror_mode": {
    "name": "ipython",
    "version": 2
   },
   "file_extension": ".py",
   "mimetype": "text/x-python",
   "name": "python",
   "nbconvert_exporter": "python",
   "pygments_lexer": "ipython2",
   "version": "2.7.6"
  }
 },
 "nbformat": 4,
 "nbformat_minor": 0
}
