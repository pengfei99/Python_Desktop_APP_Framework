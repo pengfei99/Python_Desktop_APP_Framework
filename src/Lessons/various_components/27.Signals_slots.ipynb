{
 "cells": [
  {
   "cell_type": "markdown",
   "source": [
    "# Signals and Slots\n",
    "\n",
    "Let's start with the definition of the Signals and Slots:\n",
    "\n",
    "**Signals**\n",
    "\n",
    "**Signals are notifications emitted by widgets when something happens**. That something can be any number of things, for example:\n",
    "   - pressing a button\n",
    "   - the text of an input box changing,\n",
    "   - the text of the window changing.\n",
    "\n",
    "Many signals are initiated by user action, but this is not a rule.\n",
    "\n",
    "> In addition to notifying about something happening, signals can also send data to provide additional context about what happened.\n",
    "\n",
    "**PyQt provides many signals by default, but we can also create our own custom signals.**\n",
    "\n",
    "**Slots**\n",
    "\n",
    "**Slots is the name Qt uses for the receivers of signals**. In Python `any function (or method)` in your application can be used as a slot -- simply by connecting the signal to it. If the signal sends data, then the receiving function will receive that data too. Many Qt widgets also have their own built-in slots, meaning you can hook Qt widgets together directly.\n",
    "\n",
    "\n",
    "## 1 Manage Signals\n",
    "\n",
    "Let's start with some default signals. For a QPushButton, when it pushed, a default signal **clicked** will be sent. To treat this signal we need to connect the signal to a slot(function)."
   ],
   "metadata": {
    "collapsed": false
   }
  },
  {
   "cell_type": "code",
   "execution_count": 2,
   "outputs": [
    {
     "name": "stdout",
     "output_type": "stream",
     "text": [
      "Button clicked\n",
      "Button clicked\n"
     ]
    },
    {
     "data": {
      "text/plain": "0"
     },
     "execution_count": 2,
     "metadata": {},
     "output_type": "execute_result"
    }
   ],
   "source": [
    "import sys\n",
    "from PyQt6.QtWidgets import QApplication, QMainWindow, QPushButton, QVBoxLayout, QWidget\n",
    "\n",
    "\n",
    "class MainWindow(QMainWindow):\n",
    "    def __init__(self):\n",
    "        super().__init__()\n",
    "        self.setWindowTitle(\"My App\")\n",
    "        button = QPushButton(\"click me\")\n",
    "        button.setCheckable(True)\n",
    "        # connect the signal clicked to slot buttonClicked\n",
    "        button.clicked.connect(self.buttonClicked)\n",
    "\n",
    "        # create a widget with a vbox layout\n",
    "        mainWidget = QWidget()\n",
    "        layout = QVBoxLayout()\n",
    "        mainWidget.setLayout(layout)\n",
    "        # set the widget as central widget of the window\n",
    "        self.setCentralWidget(mainWidget)\n",
    "\n",
    "        # add button to layout\n",
    "        layout.addWidget(button)\n",
    "\n",
    "\n",
    "    @staticmethod\n",
    "    def buttonClicked():\n",
    "        print(\"Button clicked\")\n",
    "\n",
    "app = QApplication(sys.argv)\n",
    "window = MainWindow()\n",
    "window.show()\n",
    "\n",
    "app.exec()"
   ],
   "metadata": {
    "collapsed": false
   }
  },
  {
   "cell_type": "markdown",
   "source": [
    "## 2. Receiving data\n",
    "\n",
    "Signal can also carry data to provide more information about what happened. For example, the **.clicked** signal can carry a bool value which represent the state of the button (toggled or not). In the above example, as our function(slot) ignored this data. In below example, we will rewrite a new slot called `showButtonState` to pick up the state data.\n",
    "\n",
    "Try to run below example, you should see output such as:\n",
    "\n",
    "```text\n",
    "Button clicked with stat checked True\n",
    "Button clicked with stat checked False\n",
    "Button clicked with stat checked True\n",
    "Button clicked with stat checked False\n",
    "Button clicked with stat checked True\n",
    "Button clicked with stat checked False\n",
    "```"
   ],
   "metadata": {
    "collapsed": false
   }
  },
  {
   "cell_type": "code",
   "execution_count": 3,
   "outputs": [
    {
     "name": "stderr",
     "output_type": "stream",
     "text": [
      "qt.qpa.xcb: X server does not support XInput 2\n"
     ]
    },
    {
     "name": "stdout",
     "output_type": "stream",
     "text": [
      "Button clicked with stat checked True\n",
      "Button clicked with stat checked False\n",
      "Button clicked with stat checked True\n",
      "Button clicked with stat checked False\n",
      "Button clicked with stat checked True\n",
      "Button clicked with stat checked False\n",
      "Button clicked with stat checked True\n"
     ]
    },
    {
     "data": {
      "text/plain": "0"
     },
     "execution_count": 3,
     "metadata": {},
     "output_type": "execute_result"
    }
   ],
   "source": [
    "import sys\n",
    "from PyQt6.QtWidgets import QApplication, QMainWindow, QPushButton, QVBoxLayout, QWidget\n",
    "\n",
    "\n",
    "class MainWindow(QMainWindow):\n",
    "    def __init__(self):\n",
    "        super().__init__()\n",
    "        self.setWindowTitle(\"My App\")\n",
    "        button = QPushButton(\"click me\")\n",
    "        button.setCheckable(True)\n",
    "        # connect the click signal to slot showButtonState, which can handle the carried data\n",
    "        button.clicked.connect(self.showButtonState)\n",
    "\n",
    "        # create a widget with a vbox layout\n",
    "        mainWidget = QWidget()\n",
    "        layout = QVBoxLayout()\n",
    "        mainWidget.setLayout(layout)\n",
    "        # set the widget as central widget of the window\n",
    "        self.setCentralWidget(mainWidget)\n",
    "\n",
    "        # add button to layout\n",
    "        layout.addWidget(button)\n",
    "\n",
    "\n",
    "    @staticmethod\n",
    "    def showButtonState(checked:bool):\n",
    "        print(f\"Button clicked with stat checked {checked}\")\n",
    "\n",
    "app = QApplication(sys.argv)\n",
    "window = MainWindow()\n",
    "window.show()\n",
    "\n",
    "app.exec()"
   ],
   "metadata": {
    "collapsed": false
   }
  },
  {
   "cell_type": "markdown",
   "source": [
    "## Storing data\n",
    "\n",
    "Once the carried data of a signal is captured by a slot, the data can be stored in any python variable. It's a good practice to store the data in a variable, to avoid accessing the widget to get the current state. Let's retake the above example, and store the data in a class attribute called **buttonIsChecked**"
   ],
   "metadata": {
    "collapsed": false
   }
  },
  {
   "cell_type": "code",
   "execution_count": null,
   "outputs": [
    {
     "name": "stderr",
     "output_type": "stream",
     "text": [
      "qt.qpa.xcb: X server does not support XInput 2\n"
     ]
    },
    {
     "name": "stdout",
     "output_type": "stream",
     "text": [
      "Button clicked with stat checked True\n",
      "Button clicked with stat checked False\n",
      "Button clicked with stat checked True\n",
      "Button clicked with stat checked False\n"
     ]
    }
   ],
   "source": [
    "import sys\n",
    "from PyQt6.QtWidgets import QApplication, QMainWindow, QPushButton, QVBoxLayout, QWidget\n",
    "\n",
    "\n",
    "class MainWindow(QMainWindow):\n",
    "    def __init__(self):\n",
    "        super().__init__()\n",
    "        self.setWindowTitle(\"My App\")\n",
    "        button = QPushButton(\"click me\")\n",
    "        button.setCheckable(True)\n",
    "        # connect the click signal to slot showButtonState, which can handle the carried data\n",
    "        button.clicked.connect(self.showButtonState)\n",
    "\n",
    "        # create a widget with a vbox layout\n",
    "        mainWidget = QWidget()\n",
    "        layout = QVBoxLayout()\n",
    "        mainWidget.setLayout(layout)\n",
    "        # set the widget as central widget of the window\n",
    "        self.setCentralWidget(mainWidget)\n",
    "\n",
    "        # add button to layout\n",
    "        layout.addWidget(button)\n",
    "        # add a lae\n",
    "\n",
    "        # create a class attribute to store the button state send by signal\n",
    "        self.buttonIsChecked = True\n",
    "\n",
    "    def showButtonState(self, checked:bool):\n",
    "        self.buttonIsChecked = checked\n",
    "        print(f\"Button clicked with stat checked {self.buttonIsChecked}\")\n",
    "\n",
    "app = QApplication(sys.argv)\n",
    "window = MainWindow()\n",
    "window.show()\n",
    "\n",
    "app.exec()"
   ],
   "metadata": {
    "collapsed": false,
    "pycharm": {
     "is_executing": true
    }
   }
  },
  {
   "cell_type": "code",
   "execution_count": null,
   "outputs": [],
   "source": [],
   "metadata": {
    "collapsed": false
   }
  }
 ],
 "metadata": {
  "kernelspec": {
   "display_name": "Python 3",
   "language": "python",
   "name": "python3"
  },
  "language_info": {
   "codemirror_mode": {
    "name": "ipython",
    "version": 2
   },
   "file_extension": ".py",
   "mimetype": "text/x-python",
   "name": "python",
   "nbconvert_exporter": "python",
   "pygments_lexer": "ipython2",
   "version": "2.7.6"
  }
 },
 "nbformat": 4,
 "nbformat_minor": 0
}
