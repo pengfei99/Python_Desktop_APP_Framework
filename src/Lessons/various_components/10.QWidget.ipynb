{
 "cells": [
  {
   "cell_type": "markdown",
   "source": [
    "# 10. QWidget\n",
    "\n",
    "A QWidget is the base class of all other widgets. A QWidget is a blank area to hold other widgets. Therefore, it is useful as a container for organizing child widgets.\n",
    "\n",
    "## 10.1 Create a QWidget\n",
    "\n",
    "The following shows how to create a `QWidget` object inside the main window or a `parent widget`:\n",
    "\n",
    "```python\n",
    "widget = QWidget(parent)\n",
    "\n",
    "```\n",
    "\n",
    "The `parent` can be the `main window object or parent widget object` to which the QWidget object belongs.\n",
    "\n",
    "Providing the parent widget as an argument of the `QWidget` ensures that the child widgets are garbage collected when the parent is and limits its visibility to only the parent widget."
   ],
   "metadata": {
    "collapsed": false
   }
  },
  {
   "cell_type": "code",
   "execution_count": 1,
   "outputs": [
    {
     "name": "stderr",
     "output_type": "stream",
     "text": [
      "qt.qpa.xcb: X server does not support XInput 2\n"
     ]
    },
    {
     "ename": "SystemExit",
     "evalue": "0",
     "output_type": "error",
     "traceback": [
      "An exception has occurred, use %tb to see the full traceback.\n",
      "\u001B[0;31mSystemExit\u001B[0m\u001B[0;31m:\u001B[0m 0\n"
     ]
    },
    {
     "name": "stderr",
     "output_type": "stream",
     "text": [
      "/home/pengfei/.cache/pypoetry/virtualenvs/python-desktop-app-framework-xY3vli_t-py3.8/lib/python3.8/site-packages/IPython/core/interactiveshell.py:3441: UserWarning: To exit: use 'exit', 'quit', or Ctrl-D.\n",
      "  warn(\"To exit: use 'exit', 'quit', or Ctrl-D.\", stacklevel=1)\n"
     ]
    }
   ],
   "source": [
    "import sys\n",
    "from PyQt6.QtWidgets import QApplication, QWidget,  QLineEdit,  QFormLayout,  QHBoxLayout\n",
    "\n",
    "\n",
    "class MainWindow(QWidget):\n",
    "    def __init__(self, *args, **kwargs):\n",
    "        super().__init__(*args, **kwargs)\n",
    "\n",
    "        self.setWindowTitle('PyQt Widget Demo')\n",
    "\n",
    "        # create an layout and assign it to the QWidget\n",
    "        layout = QHBoxLayout()\n",
    "        self.setLayout(layout)\n",
    "\n",
    "        # person pane\n",
    "        # create a sub QWidget, which use the main window as parent\n",
    "        # here self is the reference of the main window\n",
    "        person_pane = QWidget(self)\n",
    "        # add a form layout to the sub QWidget\n",
    "        form_layout = QFormLayout()\n",
    "        person_pane.setLayout(form_layout)\n",
    "\n",
    "        # add rows to the form layout\n",
    "        form_layout.addRow('First Name:', QLineEdit(person_pane))\n",
    "        form_layout.addRow('Last Name:', QLineEdit(person_pane))\n",
    "        form_layout.addRow('Date of Birth:', QLineEdit(person_pane))\n",
    "        form_layout.addRow('Email Address:', QLineEdit(person_pane))\n",
    "        form_layout.addRow('Phone Number:', QLineEdit(person_pane))\n",
    "\n",
    "        # add the subwidget to the main window layout\n",
    "        layout.addWidget(person_pane)\n",
    "\n",
    "        # address pane\n",
    "        address_pane = QWidget(self)\n",
    "        form_layout = QFormLayout()\n",
    "        address_pane.setLayout(form_layout)\n",
    "        form_layout.addRow('Street:', QLineEdit(address_pane))\n",
    "        form_layout.addRow('City:', QLineEdit(address_pane))\n",
    "        form_layout.addRow('State/Province:', QLineEdit(address_pane))\n",
    "        form_layout.addRow('Zip Code:', QLineEdit(address_pane))\n",
    "        form_layout.addRow('Country:', QLineEdit(address_pane))\n",
    "        layout.addWidget(address_pane)\n",
    "\n",
    "        # show the window\n",
    "        self.show()\n",
    "\n",
    "\n",
    "\n",
    "app = QApplication(sys.argv)\n",
    "window = MainWindow()\n",
    "sys.exit(app.exec())"
   ],
   "metadata": {
    "collapsed": false
   }
  }
 ],
 "metadata": {
  "kernelspec": {
   "display_name": "Python 3",
   "language": "python",
   "name": "python3"
  },
  "language_info": {
   "codemirror_mode": {
    "name": "ipython",
    "version": 2
   },
   "file_extension": ".py",
   "mimetype": "text/x-python",
   "name": "python",
   "nbconvert_exporter": "python",
   "pygments_lexer": "ipython2",
   "version": "2.7.6"
  }
 },
 "nbformat": 4,
 "nbformat_minor": 0
}
