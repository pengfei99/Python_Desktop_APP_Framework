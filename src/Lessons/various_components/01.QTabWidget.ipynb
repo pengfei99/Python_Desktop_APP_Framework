{
 "cells": [
  {
   "cell_type": "markdown",
   "source": [
    "# 5. The QTabWidget\n",
    "\n",
    "Tabs allow you to display related information on separate labeled pages. Tabs are useful for dividing complex interfaces into smaller pages that are easier for users to digest.\n",
    "\n",
    "## 5.1 Create a tab widget\n",
    "\n",
    "To create a tab widget, you use the QTabWidget class. The steps for using the QTabWidget is as follows:\n",
    "1. create the QTabWidget object\n",
    "2. create a page by using the QWidget object as the container and add child widgets to the QWidget\n",
    "3. Add a page to the tab widget by using addTab() method"
   ],
   "metadata": {
    "collapsed": false
   }
  },
  {
   "cell_type": "code",
   "execution_count": null,
   "outputs": [],
   "source": [
    "import sys\n",
    "from PyQt6.QtWidgets import QApplication, QWidget, QLabel\n",
    "class Window(QWidget):\n",
    "    def __init__(self):\n",
    "        QWidget.__init__(self)\n",
    "        layout = QGridLayout()\n",
    "        self.setLayout(layout)\n",
    "        label1 = QLabel(\"Widget in Tab 1.\")\n",
    "        label2 = QLabel(\"Widget in Tab 2.\")\n",
    "        tabwidget = QTabWidget()\n",
    "        tabwidget.addTab(label1, \"Tab 1\")\n",
    "        tabwidget.addTab(label2, \"Tab 2\")\n",
    "        layout.addWidget(tabwidget, 0, 0)\n",
    "\n",
    "app = QApplication(sys.argv)\n",
    "screen = Window()\n",
    "screen.show()\n",
    "sys.exit(app.exec())"
   ],
   "metadata": {
    "collapsed": false
   }
  },
  {
   "cell_type": "code",
   "execution_count": 1,
   "outputs": [
    {
     "name": "stderr",
     "output_type": "stream",
     "text": [
      "qt.qpa.xcb: X server does not support XInput 2\n"
     ]
    },
    {
     "ename": "SystemExit",
     "evalue": "0",
     "output_type": "error",
     "traceback": [
      "An exception has occurred, use %tb to see the full traceback.\n",
      "\u001B[0;31mSystemExit\u001B[0m\u001B[0;31m:\u001B[0m 0\n"
     ]
    },
    {
     "name": "stderr",
     "output_type": "stream",
     "text": [
      "/home/pengfei/.cache/pypoetry/virtualenvs/python-desktop-app-framework-xY3vli_t-py3.8/lib/python3.8/site-packages/IPython/core/interactiveshell.py:3441: UserWarning: To exit: use 'exit', 'quit', or Ctrl-D.\n",
      "  warn(\"To exit: use 'exit', 'quit', or Ctrl-D.\", stacklevel=1)\n"
     ]
    }
   ],
   "source": [
    "import sys\n",
    "from PyQt6.QtWidgets import QApplication, QWidget,  QFormLayout, QGridLayout, QTabWidget, QLineEdit, QDateEdit, QPushButton\n",
    "from PyQt6.QtCore import Qt\n",
    "\n",
    "\n",
    "class MainWindow(QWidget):\n",
    "    def __init__(self, *args, **kwargs):\n",
    "        super().__init__(*args, **kwargs)\n",
    "\n",
    "        self.setWindowTitle('PyQt QTabWidget')\n",
    "\n",
    "        main_layout = QGridLayout(self)\n",
    "        self.setLayout(main_layout)\n",
    "\n",
    "        # 1. create a tab widget\n",
    "        tab = QTabWidget(self)\n",
    "\n",
    "        # 2.1 personal page\n",
    "        personal_page = QWidget(self)\n",
    "        layout = QFormLayout()\n",
    "        personal_page.setLayout(layout)\n",
    "        layout.addRow('First Name:', QLineEdit(self))\n",
    "        layout.addRow('Last Name:', QLineEdit(self))\n",
    "        layout.addRow('DOB:', QDateEdit(self))\n",
    "\n",
    "        # 2.2 contact pane\n",
    "        contact_page = QWidget(self)\n",
    "        layout = QFormLayout()\n",
    "        contact_page.setLayout(layout)\n",
    "        layout.addRow('Phone Number:', QLineEdit(self))\n",
    "        layout.addRow('Email Address:', QLineEdit(self))\n",
    "\n",
    "        # 3. add pane to the tab widget\n",
    "        tab.addTab(personal_page, 'Personal Info')\n",
    "        tab.addTab(contact_page, 'Contact Info')\n",
    "\n",
    "        main_layout.addWidget(tab, 0, 0, 2, 1)\n",
    "        main_layout.addWidget(QPushButton('Save'), 2, 0,\n",
    "                              alignment=Qt.AlignmentFlag.AlignLeft)\n",
    "        main_layout.addWidget(QPushButton('Cancel'), 2, 0,\n",
    "                              alignment=Qt.AlignmentFlag.AlignRight)\n",
    "\n",
    "        # 4. Set options of the QTabWidget\n",
    "        # set movable\n",
    "        tab.setMovable(True)\n",
    "        # set closable\n",
    "        tab.setTabsClosable(True)\n",
    "        # set tab shape\n",
    "        tab.setTabShape(QTabWidget.TabShape.Triangular)\n",
    "        # set tab poisition\n",
    "        tab.setTabPosition(QTabWidget.TabPosition.West)\n",
    "\n",
    "\n",
    "        self.show()\n",
    "\n",
    "\n",
    "if __name__ == '__main__':\n",
    "    app = QApplication(sys.argv)\n",
    "    window = MainWindow()\n",
    "    sys.exit(app.exec())"
   ],
   "metadata": {
    "collapsed": false
   }
  },
  {
   "cell_type": "markdown",
   "source": [
    "## 5.2 Useful options\n",
    "\n",
    "### 5.2.1 Movable\n",
    "\n",
    "To make the tab movable, you set the movable property to True\n",
    "\n",
    "```python\n",
    "# set Movable at the creation of the tab widget\n",
    "tab = QTabWidget(self,movable=True)\n",
    "\n",
    "# you can call the setMovable() after creation\n",
    "tab.setMovable(True)\n",
    "```\n",
    "\n",
    "### 5.2.2 Closable\n",
    "\n",
    "If the tabsClosable is true, the tabs will display a close button on tabs.\n",
    "\n",
    "```python\n",
    "# set closable at the creation of the tab widget\n",
    "tab = QTabWidget(self,tabsClosable=True)\n",
    "\n",
    "# you can call the setTabsClosable() after creation\n",
    "tab.setTabsClosable(True)\n",
    "```\n",
    "\n",
    "### 5.2.3 Tab shape\n",
    "\n",
    "The tab has two shapes rounded & triangular. The rounded is the default.\n",
    "\n",
    "```python\n",
    "# set TabShape at the creation of the tab widget\n",
    "tab = QTabWidget(self,tabShape=QTabWidget.TabShape.Triangular)\n",
    "\n",
    "# you can call the setTabShape() after creation\n",
    "tab.setTabShape(QTabWidget.TabShape.Triangular)\n",
    "```\n",
    "\n",
    "### 5.2.4 Tab position\n",
    "\n",
    "Tabs can have four positions determined by the TabPosition enum:\n",
    "- North\n",
    "- South\n",
    "- West\n",
    "- East\n",
    "\n",
    "```python\n",
    "# set tab position at the creation of the tab widget\n",
    "tab = QTabWidget(self,tabPosition=QTabWidget.TabPosition.West)\n",
    "\n",
    "# you can call the setTabPosition() after creation\n",
    "tab.setTabPosition(QTabWidget.TabPosition.West)\n",
    "```"
   ],
   "metadata": {
    "collapsed": false
   }
  }
 ],
 "metadata": {
  "kernelspec": {
   "display_name": "Python 3",
   "language": "python",
   "name": "python3"
  },
  "language_info": {
   "codemirror_mode": {
    "name": "ipython",
    "version": 2
   },
   "file_extension": ".py",
   "mimetype": "text/x-python",
   "name": "python",
   "nbconvert_exporter": "python",
   "pygments_lexer": "ipython2",
   "version": "2.7.6"
  }
 },
 "nbformat": 4,
 "nbformat_minor": 0
}
