{
 "cells": [
  {
   "cell_type": "markdown",
   "source": [
    "# 23 Multiple windows\n",
    "\n",
    "A typical GUI application may have multiple windows. Tabbed and stacked widgets allow to activate one such window at a time. However, many a times this approach may not be useful as view of other windows is hidden.\n",
    "\n",
    "One way to display multiple windows simultaneously is to create them as independent windows. This is called as `SDI (single Document Interface)`. This requires more memory resources as each window may have its own menu system, toolbar, etc.\n",
    "\n",
    "`MDI (Multiple Document Interface)` applications consume lesser memory resources. The sub windows are laid down inside main container with relation to each other. The container widget is called `QMdiArea`.\n",
    "\n",
    "QMdiArea widget generally occupies the central widget of QMainWondow object. Child windows in this area are instances of QMdiSubWindow class. It is possible to set any QWidget as the internal widget of subWindow object. Sub-windows in the MDI area can be arranged in cascaded or tile fashion.\n",
    "\n",
    "The following table lists important methods of QMdiArea class and QMdiSubWindow class:\n",
    "- addSubWindow(): Adds a widget as a new subwindow in MDI area\n",
    "- removeSubWindow(): Removes a widget that is internal widget of a subwindow\n",
    "- setActiveSubWindow(): Activates a subwindow\n",
    "- cascadeSubWindows(): Arranges subwindows in MDiArea in a cascaded fashion\n",
    "- tileSubWindows(): Arranges subwindows in MDiArea in a tiled fashion\n",
    "- closeActiveSubWindow(): Closes the active subwindow\n",
    "- subWindowList(): Returns the list of subwindows in MDI Area\n",
    "- setWidget(): Sets a QWidget as an internal widget of a QMdiSubwindow instance\n",
    "\n",
    "## 23.1 A simple example\n",
    "\n",
    "In below example, first we create a **QMdiArea**. Then each time when we click new, we will create a new **QMdiSubWindow** of the main QMdiArea.\n",
    "\n",
    "We can organize the `subWindow` in mode `cascade` or `tiled`."
   ],
   "metadata": {
    "collapsed": false
   }
  },
  {
   "cell_type": "code",
   "execution_count": 1,
   "outputs": [
    {
     "name": "stderr",
     "output_type": "stream",
     "text": [
      "qt.qpa.xcb: X server does not support XInput 2\n"
     ]
    },
    {
     "name": "stdout",
     "output_type": "stream",
     "text": [
      "triggered\n",
      "triggered\n",
      "triggered\n",
      "triggered\n",
      "triggered\n",
      "triggered\n",
      "triggered\n",
      "triggered\n",
      "triggered\n",
      "triggered\n"
     ]
    },
    {
     "ename": "SystemExit",
     "evalue": "0",
     "output_type": "error",
     "traceback": [
      "An exception has occurred, use %tb to see the full traceback.\n",
      "\u001B[0;31mSystemExit\u001B[0m\u001B[0;31m:\u001B[0m 0\n"
     ]
    },
    {
     "name": "stderr",
     "output_type": "stream",
     "text": [
      "/home/pengfei/.cache/pypoetry/virtualenvs/python-desktop-app-framework-xY3vli_t-py3.8/lib/python3.8/site-packages/IPython/core/interactiveshell.py:3441: UserWarning: To exit: use 'exit', 'quit', or Ctrl-D.\n",
      "  warn(\"To exit: use 'exit', 'quit', or Ctrl-D.\", stacklevel=1)\n"
     ]
    }
   ],
   "source": [
    "from PyQt6.QtWidgets import QMainWindow, QMdiArea, QApplication, QMdiSubWindow, QTextEdit\n",
    "import sys\n",
    "from PyQt6.QtGui import *\n",
    "\n",
    "class MainWindow(QMainWindow):\n",
    "   count = 0\n",
    "\n",
    "   def __init__(self, parent = None):\n",
    "      super().__init__(parent)\n",
    "      self.mdi = QMdiArea()\n",
    "      self.setCentralWidget(self.mdi)\n",
    "      bar = self.menuBar()\n",
    "\n",
    "      file = bar.addMenu(\"File\")\n",
    "      file.addAction(\"New\")\n",
    "      file.addAction(\"cascade\")\n",
    "      file.addAction(\"Tiled\")\n",
    "      file.triggered[QAction].connect(self.windowaction)\n",
    "      self.setWindowTitle(\"MDI demo\")\n",
    "\n",
    "   def windowaction(self, q):\n",
    "       print(\"triggered\")\n",
    "       if q.text() == \"New\":\n",
    "          MainWindow.count = MainWindow.count+1\n",
    "          sub = QMdiSubWindow()\n",
    "          sub.setWidget(QTextEdit())\n",
    "          sub.setWindowTitle(\"subwindow\"+str(MainWindow.count))\n",
    "          self.mdi.addSubWindow(sub)\n",
    "          sub.show()\n",
    "\n",
    "       if q.text() == \"cascade\":\n",
    "          self.mdi.cascadeSubWindows()\n",
    "\n",
    "       if q.text() == \"Tiled\":\n",
    "          self.mdi.tileSubWindows()\n",
    "\n",
    "def main():\n",
    "  app = QApplication(sys.argv)\n",
    "  ex = MainWindow()\n",
    "  ex.show()\n",
    "  sys.exit(app.exec())\n",
    "\n",
    "if __name__ == '__main__':\n",
    "  main()"
   ],
   "metadata": {
    "collapsed": false
   }
  },
  {
   "cell_type": "code",
   "execution_count": null,
   "outputs": [],
   "source": [],
   "metadata": {
    "collapsed": false
   }
  },
  {
   "cell_type": "code",
   "execution_count": null,
   "outputs": [],
   "source": [],
   "metadata": {
    "collapsed": false
   }
  }
 ],
 "metadata": {
  "kernelspec": {
   "display_name": "Python 3",
   "language": "python",
   "name": "python3"
  },
  "language_info": {
   "codemirror_mode": {
    "name": "ipython",
    "version": 2
   },
   "file_extension": ".py",
   "mimetype": "text/x-python",
   "name": "python",
   "nbconvert_exporter": "python",
   "pygments_lexer": "ipython2",
   "version": "2.7.6"
  }
 },
 "nbformat": 4,
 "nbformat_minor": 0
}
