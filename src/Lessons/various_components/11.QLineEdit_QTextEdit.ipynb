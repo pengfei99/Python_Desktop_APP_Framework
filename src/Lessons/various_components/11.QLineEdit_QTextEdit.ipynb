{
 "cells": [
  {
   "cell_type": "markdown",
   "source": [
    "# 11. LineEdit and TextEdit\n",
    "\n",
    "In this section, we will learn how to use LineEdit and TextEdit to create a widget that edits and displays both plain and rich text\n",
    "\n"
   ],
   "metadata": {
    "collapsed": false
   }
  },
  {
   "cell_type": "markdown",
   "source": [
    "## 11.1 QLineEdit\n",
    "\n",
    "The PyQt `QLineEdit` allows you to create a single-line text-entry widget. Typically, you’ll use the QLineEdit in a `data-entry form`.\n",
    "\n",
    "In practice, you often use the QLineEdit widget with a `QLabel` widget.\n",
    "\n",
    "A QLineEdit takes two import optional argument:\n",
    "1. parent widget,\n",
    "2. default string value\n",
    "\n",
    "It also takes many useful configuration options:\n",
    "\n",
    "| Property\t           | Type\t               | Description                                                  |\n",
    "|---------------------|---------------------|--------------------------------------------------------------|\n",
    "| text\t               | string\t             | The content of the line edit                                 |\n",
    "| readOnly\t           | Boolean\t            | True or False. If True, the line edit cannot be edited       |\n",
    "| clearButtonEnabled\t | Boolean\t            | True to add a clear button                                   |\n",
    "| placeholderText\t    | string\t             | The text that appears when the line edit is empty            |\n",
    "| maxLength\t          | integer\t            | Specify the maximum number of characters that can be entered |\n",
    "| echoMode\t           | QLineEdit.EchoMode\t | Change the way the text displays e.g., password              |\n",
    "\n",
    "The following program shows how to create a QLineEdit"
   ],
   "metadata": {
    "collapsed": false
   }
  },
  {
   "cell_type": "code",
   "execution_count": 1,
   "outputs": [
    {
     "name": "stderr",
     "output_type": "stream",
     "text": [
      "qt.qpa.xcb: X server does not support XInput 2\n"
     ]
    },
    {
     "ename": "SystemExit",
     "evalue": "0",
     "output_type": "error",
     "traceback": [
      "An exception has occurred, use %tb to see the full traceback.\n",
      "\u001B[0;31mSystemExit\u001B[0m\u001B[0;31m:\u001B[0m 0\n"
     ]
    },
    {
     "name": "stderr",
     "output_type": "stream",
     "text": [
      "/home/pengfei/.cache/pypoetry/virtualenvs/python-desktop-app-framework-xY3vli_t-py3.8/lib/python3.8/site-packages/IPython/core/interactiveshell.py:3441: UserWarning: To exit: use 'exit', 'quit', or Ctrl-D.\n",
      "  warn(\"To exit: use 'exit', 'quit', or Ctrl-D.\", stacklevel=1)\n"
     ]
    }
   ],
   "source": [
    "import sys\n",
    "from PyQt6.QtWidgets import (\n",
    "    QApplication,\n",
    "    QWidget,\n",
    "    QLineEdit,\n",
    "    QVBoxLayout\n",
    ")\n",
    "\n",
    "\n",
    "class MainWindow(QWidget):\n",
    "    def __init__(self, *args, **kwargs):\n",
    "        super().__init__(*args, **kwargs)\n",
    "\n",
    "        # set title and position of the main QWidget\n",
    "        self.setWindowTitle('PyQt QLineEdit Widget')\n",
    "        self.setGeometry(100, 100, 320, 210)\n",
    "\n",
    "         # create a QLineEdit,\n",
    "        # 1st arg: self means use main window as parent widget\n",
    "        # 2nd arg: add a default text when it's empty\n",
    "        # 3rd arg: add a clear button, it appears only after user enter something\n",
    "        search_box = QLineEdit(\n",
    "            self,\n",
    "            placeholderText='Enter a keyword to search...',\n",
    "            clearButtonEnabled=True\n",
    "        )\n",
    "\n",
    "        # place the widget on the window\n",
    "        layout = QVBoxLayout()\n",
    "        layout.addWidget(search_box)\n",
    "        self.setLayout(layout)\n",
    "\n",
    "        # show the window\n",
    "        self.show()\n",
    "\n",
    "\n",
    "\n",
    "app = QApplication(sys.argv)\n",
    "window = MainWindow()\n",
    "sys.exit(app.exec())"
   ],
   "metadata": {
    "collapsed": false
   }
  },
  {
   "cell_type": "markdown",
   "source": [
    "## 11.2 Use QLineEdit to create a password entry\n",
    "\n",
    "We can use **echoMode=QLineEdit.EchoMode.Password** option to change QLineEdit printing option."
   ],
   "metadata": {
    "collapsed": false
   }
  },
  {
   "cell_type": "code",
   "execution_count": 1,
   "outputs": [
    {
     "name": "stderr",
     "output_type": "stream",
     "text": [
      "qt.qpa.xcb: X server does not support XInput 2\n"
     ]
    },
    {
     "ename": "SystemExit",
     "evalue": "0",
     "output_type": "error",
     "traceback": [
      "An exception has occurred, use %tb to see the full traceback.\n",
      "\u001B[0;31mSystemExit\u001B[0m\u001B[0;31m:\u001B[0m 0\n"
     ]
    },
    {
     "name": "stderr",
     "output_type": "stream",
     "text": [
      "/home/pengfei/.cache/pypoetry/virtualenvs/python-desktop-app-framework-xY3vli_t-py3.8/lib/python3.8/site-packages/IPython/core/interactiveshell.py:3441: UserWarning: To exit: use 'exit', 'quit', or Ctrl-D.\n",
      "  warn(\"To exit: use 'exit', 'quit', or Ctrl-D.\", stacklevel=1)\n"
     ]
    }
   ],
   "source": [
    "import sys\n",
    "from PyQt6.QtWidgets import (\n",
    "    QApplication,\n",
    "    QWidget,\n",
    "    QLineEdit,\n",
    "    QVBoxLayout\n",
    ")\n",
    "\n",
    "\n",
    "class MainWindow(QWidget):\n",
    "    def __init__(self, *args, **kwargs):\n",
    "        super().__init__(*args, **kwargs)\n",
    "\n",
    "        self.setWindowTitle('PyQt QLineEdit Widget')\n",
    "        self.setGeometry(100, 100, 320, 210)\n",
    "\n",
    "        password = QLineEdit(self, echoMode=QLineEdit.EchoMode.Password, clearButtonEnabled=True)\n",
    "\n",
    "        # place the widget on the window\n",
    "        layout = QVBoxLayout()\n",
    "        layout.addWidget(password)\n",
    "        self.setLayout(layout)\n",
    "\n",
    "        # show the window\n",
    "        self.show()\n",
    "\n",
    "\n",
    "\n",
    "app = QApplication(sys.argv)\n",
    "window = MainWindow()\n",
    "sys.exit(app.exec())"
   ],
   "metadata": {
    "collapsed": false
   }
  },
  {
   "cell_type": "markdown",
   "source": [
    "## 11.3 Auto complete options\n",
    "\n",
    "QLineEdit widget can call a `QCompleter` widget to create an auto-complete feature. A QCompleter widget contains a list of strings which will be used for autocomplete feature.\n",
    "\n",
    "Below is an example"
   ],
   "metadata": {
    "collapsed": false
   }
  },
  {
   "cell_type": "code",
   "execution_count": null,
   "outputs": [],
   "source": [
    "import sys\n",
    "from PyQt6.QtWidgets import (\n",
    "    QApplication,\n",
    "    QWidget,\n",
    "    QLineEdit,\n",
    "    QVBoxLayout,\n",
    "    QCompleter\n",
    ")\n",
    "\n",
    "\n",
    "class MainWindow(QWidget):\n",
    "    def __init__(self, *args, **kwargs):\n",
    "        super().__init__(*args, **kwargs)\n",
    "\n",
    "        self.setWindowTitle('PyQt QLineEdit Widget')\n",
    "        self.setGeometry(100, 100, 320, 210)\n",
    "\n",
    "        # create a Complete object with a list of string\n",
    "        # note its case-sensitive\n",
    "        common_fruits = QCompleter([\n",
    "            'Apple',\n",
    "            'Apricot',\n",
    "            'Banana',\n",
    "            'Carambola',\n",
    "            'Olive',\n",
    "            'Oranges',\n",
    "            'Papaya',\n",
    "            'Peach',\n",
    "            'Pineapple',\n",
    "            'Pomegranate',\n",
    "            'Rambutan',\n",
    "            'Ramphal',\n",
    "            'Raspberries',\n",
    "            'Rose apple',\n",
    "            'Starfruit',\n",
    "            'Strawberries',\n",
    "            'Water apple',\n",
    "        ])\n",
    "        # create a QLineEdit object\n",
    "        fruit = QLineEdit(self)\n",
    "        # assign the completer to the QLineEdit widget\n",
    "        fruit.setCompleter(common_fruits)\n",
    "\n",
    "        # place the widget on the window\n",
    "        layout = QVBoxLayout()\n",
    "        layout.addWidget(fruit)\n",
    "        self.setLayout(layout)\n",
    "\n",
    "        # show the window\n",
    "        self.show()\n",
    "\n",
    "\n",
    "\n",
    "app = QApplication(sys.argv)\n",
    "window = MainWindow()\n",
    "sys.exit(app.exec())"
   ],
   "metadata": {
    "collapsed": false,
    "pycharm": {
     "is_executing": true
    }
   }
  },
  {
   "cell_type": "markdown",
   "source": [
    "## 11.4 Get text of the QLineEdit\n",
    "\n"
   ],
   "metadata": {
    "collapsed": false
   }
  },
  {
   "cell_type": "code",
   "execution_count": null,
   "outputs": [],
   "source": [
    "import sys\n",
    "from PyQt6.QtWidgets import (\n",
    "    QApplication,\n",
    "    QWidget,\n",
    "    QLineEdit,\n",
    "    QVBoxLayout, QPushButton, QLabel\n",
    ")\n",
    "\n",
    "\n",
    "class MainWindow(QWidget):\n",
    "    def __init__(self, *args, **kwargs):\n",
    "        super().__init__(*args, **kwargs)\n",
    "\n",
    "        # set title and position of the main QWidget\n",
    "        self.setWindowTitle('PyQt QLineEdit Widget')\n",
    "        self.setGeometry(100, 100, 320, 210)\n",
    "\n",
    "         # create a QLineEdit,\n",
    "        # 1st arg: self means use main window as parent widget\n",
    "        # 2nd arg: add a default text when it's empty\n",
    "        # 3rd arg: add a clear button, it appears only after user enter something\n",
    "        self.search_box = QLineEdit(\n",
    "            self,\n",
    "            placeholderText='Enter a keyword to search...',\n",
    "            clearButtonEnabled=True\n",
    "        )\n",
    "\n",
    "        # create a button\n",
    "        bt=QPushButton('Get text')\n",
    "        bt.clicked.connect(self.get_text)\n",
    "\n",
    "        # create a label\n",
    "        self.result=QLabel(\"\")\n",
    "\n",
    "        # place the widget on the window\n",
    "        layout = QVBoxLayout()\n",
    "        layout.addWidget(self.search_box)\n",
    "        layout.addWidget(bt)\n",
    "        layout.addWidget(self.result)\n",
    "        self.setLayout(layout)\n",
    "\n",
    "        # show the window\n",
    "        self.show()\n",
    "\n",
    "    def get_text(self):\n",
    "        search_text=self.search_box.text()\n",
    "        if search_text:\n",
    "            self.result.setText(f\"searching for {search_text}\")\n",
    "        else:\n",
    "            self.result.setText(\"You need to enter something for me to search\")\n",
    "\n",
    "\n",
    "\n",
    "app = QApplication(sys.argv)\n",
    "window = MainWindow()\n",
    "sys.exit(app.exec())"
   ],
   "metadata": {
    "collapsed": false,
    "pycharm": {
     "is_executing": true
    }
   }
  },
  {
   "cell_type": "code",
   "execution_count": null,
   "outputs": [],
   "source": [],
   "metadata": {
    "collapsed": false
   }
  },
  {
   "cell_type": "code",
   "execution_count": null,
   "outputs": [],
   "source": [],
   "metadata": {
    "collapsed": false
   }
  }
 ],
 "metadata": {
  "kernelspec": {
   "display_name": "Python 3",
   "language": "python",
   "name": "python3"
  },
  "language_info": {
   "codemirror_mode": {
    "name": "ipython",
    "version": 2
   },
   "file_extension": ".py",
   "mimetype": "text/x-python",
   "name": "python",
   "nbconvert_exporter": "python",
   "pygments_lexer": "ipython2",
   "version": "2.7.6"
  }
 },
 "nbformat": 4,
 "nbformat_minor": 0
}
