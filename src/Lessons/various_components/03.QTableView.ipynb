{
 "cells": [
  {
   "cell_type": "markdown",
   "source": [
    "# 3. Table view\n",
    "\n",
    "In this tutorial we'll look at how to use **QTableView** from PyQt6, including how to model your data, format values for display and add conditional formatting.\n",
    "\n",
    "`QTableView` is a Qt view widget which presents data in a spreadsheet-like table view. Like all widgets in the Model View Architecture, this uses a separate model to provide data and presentation information to the view. Data in the model can be updated as required, and the view notified of these changes to redraw/display the changes. By customising the model it is possible to have a huge amount of control over how the data is presented.\n",
    "\n",
    "## 3.1 First Table view model\n",
    "\n",
    "Below code shows an example of the table view model application with some dummy data. This is a basic application structure:\n",
    "1. create a custom table model by subclassing the `QAbstractTableModel`, must implement\n",
    "   - data():\n",
    "   - rowCount():\n",
    "   - columnCount():\n",
    "2."
   ],
   "metadata": {
    "collapsed": false
   }
  },
  {
   "cell_type": "code",
   "execution_count": 1,
   "outputs": [
    {
     "name": "stderr",
     "output_type": "stream",
     "text": [
      "qt.qpa.xcb: X server does not support XInput 2\n"
     ]
    },
    {
     "data": {
      "text/plain": "0"
     },
     "execution_count": 1,
     "metadata": {},
     "output_type": "execute_result"
    }
   ],
   "source": [
    "import sys\n",
    "from PyQt6 import QtCore, QtWidgets\n",
    "from PyQt6.QtCore import Qt\n",
    "# model class subclass the QAbstractTableModel\n",
    "# it has a 2D data structure with rows and columns\n",
    "class TableModel(QtCore.QAbstractTableModel):\n",
    "    \"\"\"\n",
    "\n",
    "    \"\"\"\n",
    "    def __init__(self, data):\n",
    "        super(TableModel, self).__init__()\n",
    "        self._data = data\n",
    "\n",
    "    # return the data which view requires\n",
    "    def data(self, index, role):\n",
    "        # in this example, we only treat DisplayRole\n",
    "        if role == Qt.ItemDataRole.DisplayRole:\n",
    "            # See below for the nested-list data structure.\n",
    "            # .row() indexes into the outer list,\n",
    "            # .column() indexes into the sub-list\n",
    "            return self._data[index.row()][index.column()]\n",
    "\n",
    "    # return the row count of current data store\n",
    "    def rowCount(self, index):\n",
    "        # The length of the outer list.\n",
    "        return len(self._data)\n",
    "\n",
    "    def columnCount(self, index):\n",
    "        # The following takes the first sub-list, and returns\n",
    "        # the length (only works if all rows are an equal length)\n",
    "        return len(self._data[0])\n",
    "\n",
    "\n",
    "class MainWindow(QtWidgets.QMainWindow):\n",
    "    def __init__(self):\n",
    "        super().__init__()\n",
    "        self.setWindowTitle(\"Table view with custom model\")\n",
    "        self.setGeometry(100,100,800,600)\n",
    "\n",
    "        # create a table view\n",
    "        self.table = QtWidgets.QTableView()\n",
    "\n",
    "        # use nested list as a 2-dimensional data store\n",
    "        data = [\n",
    "          [4, 9, 2],\n",
    "          [1, 0, 0],\n",
    "          [3, 5, 0],\n",
    "          [3, 3, 2],\n",
    "          [7, 8, 9],\n",
    "        ]\n",
    "\n",
    "        self.model = TableModel(data)\n",
    "        self.table.setModel(self.model)\n",
    "\n",
    "        self.setCentralWidget(self.table)\n",
    "\n",
    "\n",
    "app=QtWidgets.QApplication(sys.argv)\n",
    "window=MainWindow()\n",
    "window.show()\n",
    "app.exec()"
   ],
   "metadata": {
    "collapsed": false
   }
  },
  {
   "cell_type": "code",
   "execution_count": null,
   "outputs": [],
   "source": [],
   "metadata": {
    "collapsed": false
   }
  },
  {
   "cell_type": "markdown",
   "source": [
    "## 3.2 Formatting numbers and dates\n",
    "\n",
    "The view expect the data returned by the model for display is string type. For int, and float values, the default string representation is enough. But for complex python types such as date, the default format will not work. You must format them to string yourself.\n",
    "\n",
    "Below is a simple custom formatter which looks up the values in our data table, and displays them in a number of different ways depending on the Python type of the data.\n",
    "\n",
    "```python\n",
    "def data(self, index, role):\n",
    "    if role == Qt.ItemDataRole.DisplayRole:\n",
    "        # Get the raw value\n",
    "        value = self._data[index.row()][index.column()]\n",
    "\n",
    "        # Perform per-type checks and render accordingly.\n",
    "        if isinstance(value, datetime):\n",
    "            # Render time to YYY-MM-DD.\n",
    "            return value.strftime(\"%Y-%m-%d\")\n",
    "\n",
    "        if isinstance(value, float):\n",
    "            # Render float to 2 dp\n",
    "            return \"%.2f\" % value\n",
    "\n",
    "        if isinstance(value, str):\n",
    "            # Render strings with quotes\n",
    "            return '\"%s\"' % value\n",
    "\n",
    "        # Default (anything not captured above: e.g. int)\n",
    "        return value\n",
    "\n",
    "```"
   ],
   "metadata": {
    "collapsed": false
   }
  },
  {
   "cell_type": "code",
   "execution_count": 2,
   "outputs": [
    {
     "name": "stderr",
     "output_type": "stream",
     "text": [
      "qt.qpa.xcb: X server does not support XInput 2\n"
     ]
    },
    {
     "data": {
      "text/plain": "0"
     },
     "execution_count": 2,
     "metadata": {},
     "output_type": "execute_result"
    }
   ],
   "source": [
    "from datetime import datetime\n",
    "\n",
    "\n",
    "# model class subclass the QAbstractTableModel\n",
    "# it has a 2D data structure with rows and columns\n",
    "class TableModel(QtCore.QAbstractTableModel):\n",
    "    \"\"\"\n",
    "\n",
    "    \"\"\"\n",
    "    def __init__(self, data):\n",
    "        super(TableModel, self).__init__()\n",
    "        self._data = data\n",
    "\n",
    "    # return the data which view requires\n",
    "    def data(self, index, role):\n",
    "        # in this example, we only treat DisplayRole\n",
    "        if role == Qt.ItemDataRole.DisplayRole:\n",
    "           # Get the raw value\n",
    "            value = self._data[index.row()][index.column()]\n",
    "\n",
    "            # Perform per-type checks and render accordingly.\n",
    "            if isinstance(value, datetime):\n",
    "                # Render time to YYY-MM-DD.\n",
    "                return value.strftime(\"%Y-%m-%d\")\n",
    "\n",
    "            if isinstance(value, float):\n",
    "                # Render float to 2 dp\n",
    "                return \"%.2f\" % value\n",
    "\n",
    "            if isinstance(value, str):\n",
    "                # Render strings with quotes\n",
    "                return '\"%s\"' % value\n",
    "\n",
    "            # Default (anything not captured above: e.g. int)\n",
    "            return value\n",
    "\n",
    "    # return the row count of current data store\n",
    "    def rowCount(self, index):\n",
    "        # The length of the outer list.\n",
    "        return len(self._data)\n",
    "\n",
    "    def columnCount(self, index):\n",
    "        # The following takes the first sub-list, and returns\n",
    "        # the length (only works if all rows are an equal length)\n",
    "        return len(self._data[0])\n",
    "\n",
    "\n",
    "class MainWindow(QtWidgets.QMainWindow):\n",
    "    def __init__(self):\n",
    "        super().__init__()\n",
    "\n",
    "        # create a table view\n",
    "        self.table = QtWidgets.QTableView()\n",
    "\n",
    "        # use nested list as a 2-dimensional data store\n",
    "        data = [\n",
    "            [4, 9, 2],\n",
    "            [1, -1, 'hello'],\n",
    "            [3.023, 5, -5],\n",
    "            [3, 3, datetime(2017,10,1)],\n",
    "            [7.555, 8, 9],\n",
    "        ]\n",
    "\n",
    "        self.model = TableModel(data)\n",
    "        self.table.setModel(self.model)\n",
    "\n",
    "        self.setCentralWidget(self.table)\n",
    "\n",
    "\n",
    "app=QtWidgets.QApplication(sys.argv)\n",
    "window=MainWindow()\n",
    "window.show()\n",
    "app.exec()"
   ],
   "metadata": {
    "collapsed": false
   }
  },
  {
   "cell_type": "markdown",
   "source": [
    "## 3.3 Customize QTableView\n",
    "\n",
    "Using colors and icons to highlight cells in data tables can help make data easier to find and understand, or help users to select or mark data of interest. Qt allows for complete control of all of these from the model, by responding to the relevant role on the data method.\n",
    "\n",
    "Need to complete https://www.pythonguis.com/tutorials/pyqt6-qtableview-modelviews-numpy-pandas/"
   ],
   "metadata": {
    "collapsed": false
   }
  },
  {
   "cell_type": "code",
   "execution_count": null,
   "outputs": [],
   "source": [],
   "metadata": {
    "collapsed": false
   }
  },
  {
   "cell_type": "markdown",
   "source": [
    "## 3.4 Use Pandas as data source\n",
    "\n",
    "In previous example, we use a 2D list as our data source. Here we want to use a pandas dataframe as the data source"
   ],
   "metadata": {
    "collapsed": false
   }
  },
  {
   "cell_type": "code",
   "execution_count": 3,
   "outputs": [
    {
     "data": {
      "text/plain": "0"
     },
     "execution_count": 3,
     "metadata": {},
     "output_type": "execute_result"
    }
   ],
   "source": [
    "import pandas as pd\n",
    "\n",
    "class TableModel(QtCore.QAbstractTableModel):\n",
    "\n",
    "    def __init__(self, data):\n",
    "        super(TableModel, self).__init__()\n",
    "        self._data = data\n",
    "\n",
    "    def data(self, index, role):\n",
    "        if role == Qt.ItemDataRole.DisplayRole:\n",
    "            value = self._data.iloc[index.row(), index.column()]\n",
    "            return str(value)\n",
    "\n",
    "    def rowCount(self, index):\n",
    "        return self._data.shape[0]\n",
    "\n",
    "    def columnCount(self, index):\n",
    "        return self._data.shape[1]\n",
    "\n",
    "    def headerData(self, section, orientation, role):\n",
    "        # section is the index of the column/row.\n",
    "        if role == Qt.ItemDataRole.DisplayRole:\n",
    "            if orientation == Qt.Orientation.Horizontal:\n",
    "                return str(self._data.columns[section])\n",
    "\n",
    "            if orientation == Qt.Orientation.Vertical:\n",
    "                return str(self._data.index[section])\n",
    "\n",
    "\n",
    "class MainWindow(QtWidgets.QMainWindow):\n",
    "\n",
    "    def __init__(self):\n",
    "        super().__init__()\n",
    "\n",
    "        self.table = QtWidgets.QTableView()\n",
    "\n",
    "        data = pd.DataFrame([\n",
    "          [1, 9, 2],\n",
    "          [1, 0, -1],\n",
    "          [3, 5, 2],\n",
    "          [3, 3, 2],\n",
    "          [5, 8, 9],\n",
    "        ], columns = ['A', 'B', 'C'], index=['Row 1', 'Row 2', 'Row 3', 'Row 4', 'Row 5'])\n",
    "\n",
    "        self.model = TableModel(data)\n",
    "        self.table.setModel(self.model)\n",
    "\n",
    "        self.setCentralWidget(self.table)\n",
    "\n",
    "\n",
    "app=QtWidgets.QApplication(sys.argv)\n",
    "window=MainWindow()\n",
    "window.show()\n",
    "app.exec()"
   ],
   "metadata": {
    "collapsed": false
   }
  },
  {
   "cell_type": "markdown",
   "source": [],
   "metadata": {
    "collapsed": false
   }
  }
 ],
 "metadata": {
  "kernelspec": {
   "display_name": "Python 3",
   "language": "python",
   "name": "python3"
  },
  "language_info": {
   "codemirror_mode": {
    "name": "ipython",
    "version": 2
   },
   "file_extension": ".py",
   "mimetype": "text/x-python",
   "name": "python",
   "nbconvert_exporter": "python",
   "pygments_lexer": "ipython2",
   "version": "2.7.6"
  }
 },
 "nbformat": 4,
 "nbformat_minor": 0
}
