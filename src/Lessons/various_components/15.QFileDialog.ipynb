{
 "cells": [
  {
   "cell_type": "markdown",
   "source": [
    "# 15. QFileDialog\n",
    "\n",
    "The QFileDialog class creates a file dialog widget that allows users to traverse the file system and select one or more files or a directory.\n",
    "\n",
    "## 15.1 Simple example\n",
    "\n",
    "Below is an example, when you click on button Browse, the slot `open_file_dialog` will be triggered.\n",
    "In this slot, we create first"
   ],
   "metadata": {
    "collapsed": false
   }
  },
  {
   "cell_type": "code",
   "execution_count": 1,
   "outputs": [
    {
     "name": "stderr",
     "output_type": "stream",
     "text": [
      "qt.qpa.xcb: X server does not support XInput 2\n"
     ]
    },
    {
     "ename": "SystemExit",
     "evalue": "0",
     "output_type": "error",
     "traceback": [
      "An exception has occurred, use %tb to see the full traceback.\n",
      "\u001B[0;31mSystemExit\u001B[0m\u001B[0;31m:\u001B[0m 0\n"
     ]
    },
    {
     "name": "stderr",
     "output_type": "stream",
     "text": [
      "/home/pengfei/.cache/pypoetry/virtualenvs/python-desktop-app-framework-xY3vli_t-py3.8/lib/python3.8/site-packages/IPython/core/interactiveshell.py:3441: UserWarning: To exit: use 'exit', 'quit', or Ctrl-D.\n",
      "  warn(\"To exit: use 'exit', 'quit', or Ctrl-D.\", stacklevel=1)\n"
     ]
    }
   ],
   "source": [
    "import sys\n",
    "from PyQt6.QtWidgets import (\n",
    "    QApplication,\n",
    "    QWidget,\n",
    "    QFileDialog,\n",
    "    QGridLayout,\n",
    "    QPushButton,\n",
    "    QLabel,\n",
    "    QListWidget\n",
    ")\n",
    "from pathlib import Path\n",
    "\n",
    "\n",
    "class MainWindow(QWidget):\n",
    "    def __init__(self, *args, **kwargs):\n",
    "        super().__init__(*args, **kwargs)\n",
    "\n",
    "        self.setWindowTitle('PyQt File Dialog')\n",
    "        self.setGeometry(100, 100, 300, 150)\n",
    "\n",
    "        layout = QGridLayout()\n",
    "        self.setLayout(layout)\n",
    "\n",
    "        # add a button to trigger the QFileDialog\n",
    "        file_browser_btn = QPushButton('Browse')\n",
    "        # link the button with slot open_file_dialog\n",
    "        file_browser_btn.clicked.connect(self.open_file_dialog)\n",
    "\n",
    "        self.file_list = QListWidget(self)\n",
    "\n",
    "        layout.addWidget(QLabel('Selected files:'), 0, 0)\n",
    "        layout.addWidget(self.file_list, 1, 0)\n",
    "        layout.addWidget(file_browser_btn, 2 ,0)\n",
    "\n",
    "        self.show()\n",
    "\n",
    "    def open_file_dialog(self):\n",
    "        dialog = QFileDialog(self)\n",
    "        # .exec() is true when user clicked on ok\n",
    "        if dialog.exec():\n",
    "            # get selected files\n",
    "            filenames = dialog.selectedFiles()\n",
    "            if filenames:\n",
    "                self.file_list.addItems([str(Path(filename)) for filename in filenames])\n",
    "        else:\n",
    "            self.file_list.addItem(\"User Cancel the event\")\n",
    "\n",
    "\n",
    "app = QApplication(sys.argv)\n",
    "window = MainWindow()\n",
    "sys.exit(app.exec())"
   ],
   "metadata": {
    "collapsed": false
   }
  },
  {
   "cell_type": "markdown",
   "source": [
    "## 15.2 Useful options\n",
    "\n",
    "QFileDialog allows you to set many options during its creation.\n",
    "\n",
    "### FileMode\n",
    "\n",
    "It has two possible values, `ExistingFiles` allow users to select existing files, `AnyFile` allows user to create new file and folder. The default value is `AnyFile`.\n",
    "\n",
    "It can be set by calling `dialog.setFileMode(QFileDialog.FileMode.ExistingFiles)`. The open button can not be clicked if the file does not exist yet.\n",
    "\n",
    "### Filtering file types\n",
    "\n",
    "To specify which types of files users are expected to select, you can use the setNameFilter() method. For example, the following filter expects users to select only `PNG and JPEG` files\n",
    "\n",
    "```python\n",
    "dialog.setNameFilter(\"Images (*.png *.jpg)\")\n",
    "\n",
    "# To use multiple filters, you need to separate each with two semicolons\n",
    "dialog.setNameFilter(\"Images (*.png  *.jpg);;Vector (*.svg)\")\n",
    "\n",
    "```\n",
    "\n",
    "Note this only checks the file extension, so if you rename a .txt to .jpg. It will find it.\n",
    "\n",
    "### ViewMode\n",
    "\n",
    "The `QFileDialog` has two view modes\n",
    "- list: The list view shows the contents of the current directory as a list of files and directory names\n",
    "- detail: The detail view displays additional information such as file sizes and modified dates.\n",
    "\n",
    "To set the view mode, you use the setViewMode() method:\n",
    "```python\n",
    "dialog.setViewMode(QFileDialog.Detail)\n",
    "```\n",
    "\n",
    "### Starting Directory\n",
    "\n",
    "Use the setDirectory() method to set the starting directory of the QFileDialog\n",
    "\n",
    "For example, below code will set current user' home directory as starting directory\n",
    "\n",
    "```python\n",
    "import pathlib\n",
    "dialog.setDirectory(str(pathlib.Path.home()))\n",
    "```\n",
    "\n",
    "In below code example, we will use the above four option to configure the QFileDialog\n"
   ],
   "metadata": {
    "collapsed": false
   }
  },
  {
   "cell_type": "code",
   "execution_count": 1,
   "outputs": [
    {
     "name": "stderr",
     "output_type": "stream",
     "text": [
      "qt.qpa.xcb: X server does not support XInput 2\n"
     ]
    },
    {
     "ename": "SystemExit",
     "evalue": "0",
     "output_type": "error",
     "traceback": [
      "An exception has occurred, use %tb to see the full traceback.\n",
      "\u001B[0;31mSystemExit\u001B[0m\u001B[0;31m:\u001B[0m 0\n"
     ]
    },
    {
     "name": "stderr",
     "output_type": "stream",
     "text": [
      "/home/pengfei/.cache/pypoetry/virtualenvs/python-desktop-app-framework-xY3vli_t-py3.8/lib/python3.8/site-packages/IPython/core/interactiveshell.py:3441: UserWarning: To exit: use 'exit', 'quit', or Ctrl-D.\n",
      "  warn(\"To exit: use 'exit', 'quit', or Ctrl-D.\", stacklevel=1)\n"
     ]
    }
   ],
   "source": [
    "import pathlib\n",
    "import sys\n",
    "from PyQt6.QtWidgets import (\n",
    "    QApplication,\n",
    "    QWidget,\n",
    "    QFileDialog,\n",
    "    QGridLayout,\n",
    "    QPushButton,\n",
    "    QLabel,\n",
    "    QListWidget\n",
    ")\n",
    "from pathlib import Path\n",
    "\n",
    "\n",
    "class MainWindow(QWidget):\n",
    "    def __init__(self, *args, **kwargs):\n",
    "        super().__init__(*args, **kwargs)\n",
    "\n",
    "        self.setWindowTitle('PyQt File Dialog')\n",
    "        self.setGeometry(100, 100, 300, 150)\n",
    "\n",
    "        layout = QGridLayout()\n",
    "        self.setLayout(layout)\n",
    "\n",
    "        # add a button to trigger the QFileDialog\n",
    "        file_browser_btn = QPushButton('Browse')\n",
    "        # link the button with slot open_file_dialog\n",
    "        file_browser_btn.clicked.connect(self.open_file_dialog)\n",
    "\n",
    "        self.file_list = QListWidget(self)\n",
    "\n",
    "        layout.addWidget(QLabel('Selected files:'), 0, 0)\n",
    "        layout.addWidget(self.file_list, 1, 0)\n",
    "        layout.addWidget(file_browser_btn, 2 ,0)\n",
    "\n",
    "        self.show()\n",
    "\n",
    "    def open_file_dialog(self):\n",
    "        dialog = QFileDialog(self)\n",
    "        # set starting dir\n",
    "        dialog.setDirectory(str(pathlib.Path.home()))\n",
    "\n",
    "        # set view mode as detail\n",
    "        dialog.setViewMode(QFileDialog.ViewMode.Detail)\n",
    "\n",
    "        # set filter to .py .ipynb\n",
    "        dialog.setNameFilter(\"Python (*.py *.ipynb)\")\n",
    "\n",
    "        # set file mode to existing file only\n",
    "        dialog.setFileMode(QFileDialog.FileMode.ExistingFiles)\n",
    "        # .exec() is true when user clicked on ok\n",
    "        if dialog.exec():\n",
    "            # get selected files\n",
    "            filenames = dialog.selectedFiles()\n",
    "            if filenames:\n",
    "                self.file_list.addItems([str(Path(filename)) for filename in filenames])\n",
    "        else:\n",
    "            self.file_list.addItem(\"User Cancel the event\")\n",
    "\n",
    "\n",
    "app = QApplication(sys.argv)\n",
    "window = MainWindow()\n",
    "sys.exit(app.exec())"
   ],
   "metadata": {
    "collapsed": false
   }
  },
  {
   "cell_type": "markdown",
   "source": [
    "## 15.3 Selecting a single file\n",
    "\n",
    "It’s more concise to use the static method `getOpenFileName()` of the QFileDialog class to open file dialog.\n",
    "\n",
    "Below is an example"
   ],
   "metadata": {
    "collapsed": false
   }
  },
  {
   "cell_type": "code",
   "execution_count": null,
   "outputs": [
    {
     "name": "stderr",
     "output_type": "stream",
     "text": [
      "qt.qpa.xcb: X server does not support XInput 2\n"
     ]
    }
   ],
   "source": [
    "import sys,pathlib\n",
    "from PyQt6.QtWidgets import QApplication, QMainWindow, QFileDialog, QWidget, QGridLayout,QLineEdit,QPushButton, QLabel\n",
    "from pathlib import Path\n",
    "\n",
    "class MainWindow(QWidget):\n",
    "    def __init__(self, *args, **kwargs):\n",
    "        super().__init__(*args, **kwargs)\n",
    "\n",
    "        self.setWindowTitle('PyQt File Dialog')\n",
    "        self.setGeometry(100, 100, 400, 100)\n",
    "\n",
    "        layout = QGridLayout()\n",
    "        self.setLayout(layout)\n",
    "\n",
    "        # creat a push button to trigger the open file dialog\n",
    "        file_browse = QPushButton('Browse')\n",
    "        # connect the button with the slot\n",
    "        file_browse.clicked.connect(self.open_file_dialog)\n",
    "\n",
    "        # create a QLineEdit to print the selected file path\n",
    "        self.filename_edit = QLineEdit()\n",
    "\n",
    "        # add them to the main layout\n",
    "        layout.addWidget(QLabel('File:'), 0, 0)\n",
    "        layout.addWidget(self.filename_edit, 0, 1)\n",
    "        layout.addWidget(file_browse, 0 ,2)\n",
    "\n",
    "\n",
    "        self.show()\n",
    "\n",
    "\n",
    "    def open_file_dialog(self):\n",
    "        # When user click on the ok or cancel button of the dialog, below getOpenFileName\n",
    "        # method will return two value, the first is the selected filename, the second is\n",
    "        # the value of filefilter button (e.g. Python (*.py *.ipynb);;Images (*.png *.jpg))\n",
    "        # The 1st arg : self is the parent widget of the dialog\n",
    "        # 2nd arg: is the title\n",
    "        # 3rd arg: is the starting directory\n",
    "        # 4th arg: is the file filter\n",
    "        filename, ok = QFileDialog.getOpenFileName(\n",
    "            self,\n",
    "            \"Select a File\",\n",
    "            str(pathlib.Path.home()),\n",
    "            \"Python (*.py *.ipynb);;Images (*.png *.jpg)\"\n",
    "        )\n",
    "        if filename:\n",
    "            path = Path(filename)\n",
    "            self.filename_edit.setText(str(path))\n",
    "        else:\n",
    "            self.filename_edit.setText(\"Nothing is selected\")\n",
    "\n",
    "\n",
    "\n",
    "app = QApplication(sys.argv)\n",
    "window = MainWindow()\n",
    "sys.exit(app.exec())"
   ],
   "metadata": {
    "collapsed": false,
    "pycharm": {
     "is_executing": true
    }
   }
  },
  {
   "cell_type": "markdown",
   "source": [
    "## 15.4  Selecting multiple files using the getOpenFileNames() method\n",
    "\n",
    "To allow users to select multiple files in a file dialog, you use the getOpenFileNames() method instead of the **getOpenFileName()** method.\n",
    "\n",
    "The `getOpenFileNames()` works like the `getOpenFileName()` except the `first element of the returned tuple contains a list of the selected files`.\n",
    "\n",
    "Below is an example:"
   ],
   "metadata": {
    "collapsed": false
   }
  },
  {
   "cell_type": "code",
   "execution_count": 1,
   "outputs": [
    {
     "name": "stderr",
     "output_type": "stream",
     "text": [
      "qt.qpa.xcb: X server does not support XInput 2\n"
     ]
    },
    {
     "ename": "SystemExit",
     "evalue": "0",
     "output_type": "error",
     "traceback": [
      "An exception has occurred, use %tb to see the full traceback.\n",
      "\u001B[0;31mSystemExit\u001B[0m\u001B[0;31m:\u001B[0m 0\n"
     ]
    },
    {
     "name": "stderr",
     "output_type": "stream",
     "text": [
      "/home/pengfei/.cache/pypoetry/virtualenvs/python-desktop-app-framework-xY3vli_t-py3.8/lib/python3.8/site-packages/IPython/core/interactiveshell.py:3441: UserWarning: To exit: use 'exit', 'quit', or Ctrl-D.\n",
      "  warn(\"To exit: use 'exit', 'quit', or Ctrl-D.\", stacklevel=1)\n"
     ]
    }
   ],
   "source": [
    "import sys,pathlib\n",
    "from PyQt6.QtWidgets import QApplication,  QFileDialog, QWidget, QGridLayout, QListWidget, QPushButton, QLabel\n",
    "from pathlib import Path\n",
    "\n",
    "\n",
    "class MainWindow(QWidget):\n",
    "    def __init__(self, *args, **kwargs):\n",
    "        super().__init__(*args, **kwargs)\n",
    "\n",
    "        self.setWindowTitle('PyQt File Dialog')\n",
    "        self.setGeometry(100, 100, 400, 100)\n",
    "\n",
    "        layout = QGridLayout()\n",
    "        self.setLayout(layout)\n",
    "\n",
    "        # file selection\n",
    "        file_browse = QPushButton('Browse')\n",
    "        file_browse.clicked.connect(self.open_file_dialog)\n",
    "\n",
    "        self.file_list = QListWidget(self)\n",
    "\n",
    "        layout.addWidget(QLabel('Selected Files:'), 0, 0)\n",
    "        layout.addWidget(self.file_list, 1, 0)\n",
    "        layout.addWidget(file_browse, 2, 0)\n",
    "\n",
    "        self.show()\n",
    "\n",
    "    def open_file_dialog(self):\n",
    "        filenames, _ = QFileDialog.getOpenFileNames(\n",
    "            self,\n",
    "            \"Select Files\",\n",
    "            str(pathlib.Path.home()),\n",
    "            \"Python (*.py *.ipynb)\"\n",
    "        )\n",
    "        if filenames:\n",
    "            self.file_list.addItems([str(Path(filename))\n",
    "                                     for filename in filenames])\n",
    "\n",
    "\n",
    "\n",
    "app = QApplication(sys.argv)\n",
    "window = MainWindow()\n",
    "sys.exit(app.exec())"
   ],
   "metadata": {
    "collapsed": false
   }
  },
  {
   "cell_type": "markdown",
   "source": [
    "## 15.5 Selecting a directory\n",
    "\n",
    "To open a file dialog for selecting a directory, you use the **getExistingDirectory()** method of the QFileDialog class. Below code is an example:"
   ],
   "metadata": {
    "collapsed": false
   }
  },
  {
   "cell_type": "code",
   "execution_count": 2,
   "outputs": [
    {
     "ename": "SystemExit",
     "evalue": "0",
     "output_type": "error",
     "traceback": [
      "An exception has occurred, use %tb to see the full traceback.\n",
      "\u001B[0;31mSystemExit\u001B[0m\u001B[0;31m:\u001B[0m 0\n"
     ]
    },
    {
     "name": "stderr",
     "output_type": "stream",
     "text": [
      "/home/pengfei/.cache/pypoetry/virtualenvs/python-desktop-app-framework-xY3vli_t-py3.8/lib/python3.8/site-packages/IPython/core/interactiveshell.py:3441: UserWarning: To exit: use 'exit', 'quit', or Ctrl-D.\n",
      "  warn(\"To exit: use 'exit', 'quit', or Ctrl-D.\", stacklevel=1)\n"
     ]
    }
   ],
   "source": [
    "import sys, pathlib\n",
    "from PyQt6.QtWidgets import QApplication,  QFileDialog, QWidget, QGridLayout, QLineEdit, QPushButton, QLabel\n",
    "from pathlib import Path\n",
    "\n",
    "\n",
    "class MainWindow(QWidget):\n",
    "    def __init__(self, *args, **kwargs):\n",
    "        super().__init__(*args, **kwargs)\n",
    "\n",
    "        self.setWindowTitle('PyQt File Dialog')\n",
    "        self.setGeometry(100, 100, 400, 100)\n",
    "\n",
    "        layout = QGridLayout()\n",
    "        self.setLayout(layout)\n",
    "\n",
    "        # directory selection\n",
    "        dir_btn = QPushButton('Browse')\n",
    "        dir_btn.clicked.connect(self.open_dir_dialog)\n",
    "        self.dir_name_edit = QLineEdit()\n",
    "\n",
    "        layout.addWidget(QLabel('Directory:'), 1, 0)\n",
    "        layout.addWidget(self.dir_name_edit, 1, 1)\n",
    "        layout.addWidget(dir_btn, 1, 2)\n",
    "\n",
    "        self.show()\n",
    "\n",
    "    def open_dir_dialog(self):\n",
    "        # The 1st arg : self is the parent widget of the dialog\n",
    "        # 2nd arg: is the title\n",
    "        # 3rd arg: is the starting directory\n",
    "        dir_name = QFileDialog.getExistingDirectory(self, \"Select a Directory\",str(pathlib.Path.home()))\n",
    "        if dir_name:\n",
    "            path = Path(dir_name)\n",
    "            self.dir_name_edit.setText(str(path))\n",
    "\n",
    "\n",
    "\n",
    "app = QApplication(sys.argv)\n",
    "window = MainWindow()\n",
    "sys.exit(app.exec())"
   ],
   "metadata": {
    "collapsed": false
   }
  },
  {
   "cell_type": "code",
   "execution_count": null,
   "outputs": [],
   "source": [],
   "metadata": {
    "collapsed": false
   }
  },
  {
   "cell_type": "code",
   "execution_count": null,
   "outputs": [],
   "source": [],
   "metadata": {
    "collapsed": false
   }
  }
 ],
 "metadata": {
  "kernelspec": {
   "display_name": "Python 3",
   "language": "python",
   "name": "python3"
  },
  "language_info": {
   "codemirror_mode": {
    "name": "ipython",
    "version": 2
   },
   "file_extension": ".py",
   "mimetype": "text/x-python",
   "name": "python",
   "nbconvert_exporter": "python",
   "pygments_lexer": "ipython2",
   "version": "2.7.6"
  }
 },
 "nbformat": 4,
 "nbformat_minor": 0
}
