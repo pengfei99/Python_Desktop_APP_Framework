{
 "cells": [
  {
   "cell_type": "markdown",
   "source": [
    "# 8. QRadioButton\n",
    "\n",
    "The QRadioButton class allows you to create a radio button with a label:\n",
    "\n",
    "```python\n",
    "QRadioButton(text[, parent=None])\n",
    "```\n",
    "\n",
    "A radio button has two states:\n",
    "- on (checked)\n",
    "- off (unchecked)\n",
    "\n",
    "Typically, you use radio buttons in a group. A radio button group provides you with one of many choices. By default, radio buttons in a radio button group are `auto-exclusive`. Also, radio buttons that belong to the `same parent widget, are auto-exclusive`. It means, you can check only one radio button at a time. If you check another radio button, the previously checked button is unchecked.\n",
    "\n",
    "> If you want to create multiple exclusive radio buttons, you can group them into multiple QButtonGroup widgets.\n",
    "\n",
    "## 8.1 Create a radio button"
   ],
   "metadata": {
    "collapsed": false
   }
  },
  {
   "cell_type": "code",
   "execution_count": 1,
   "outputs": [
    {
     "name": "stderr",
     "output_type": "stream",
     "text": [
      "qt.qpa.xcb: X server does not support XInput 2\n"
     ]
    },
    {
     "ename": "SystemExit",
     "evalue": "0",
     "output_type": "error",
     "traceback": [
      "An exception has occurred, use %tb to see the full traceback.\n",
      "\u001B[0;31mSystemExit\u001B[0m\u001B[0;31m:\u001B[0m 0\n"
     ]
    },
    {
     "name": "stderr",
     "output_type": "stream",
     "text": [
      "/home/pengfei/.cache/pypoetry/virtualenvs/python-desktop-app-framework-xY3vli_t-py3.8/lib/python3.8/site-packages/IPython/core/interactiveshell.py:3441: UserWarning: To exit: use 'exit', 'quit', or Ctrl-D.\n",
      "  warn(\"To exit: use 'exit', 'quit', or Ctrl-D.\", stacklevel=1)\n"
     ]
    }
   ],
   "source": [
    "import sys\n",
    "from PyQt6.QtWidgets import QApplication, QWidget, QRadioButton, QLabel, QVBoxLayout\n",
    "from PyQt6.QtCore import Qt\n",
    "\n",
    "\n",
    "class MainWindow(QWidget):\n",
    "    def __init__(self, *args, **kwargs):\n",
    "        super().__init__(*args, **kwargs)\n",
    "\n",
    "        self.setWindowTitle('PyQt QRadioButton')\n",
    "        self.setMinimumWidth(300)\n",
    "\n",
    "        # create a grid layout\n",
    "        layout = QVBoxLayout()\n",
    "\n",
    "        # set main window layout\n",
    "        self.setLayout(layout)\n",
    "\n",
    "        # add header label\n",
    "        label = QLabel('Please select a platform:', self)\n",
    "\n",
    "        # add three radio buttons\n",
    "        rb_android = QRadioButton('Android', self)\n",
    "        rb_ios = QRadioButton('iOS', self)\n",
    "        rb_windows = QRadioButton('Windows', self)\n",
    "\n",
    "        # add result label\n",
    "        self.result_label = QLabel('', self)\n",
    "\n",
    "        # add items to layout\n",
    "        layout.addWidget(label)\n",
    "        layout.addWidget(rb_android)\n",
    "        layout.addWidget(rb_ios)\n",
    "        layout.addWidget(rb_windows)\n",
    "        layout.addWidget(self.result_label)\n",
    "\n",
    "        # show the window\n",
    "        self.show()\n",
    "\n",
    "\n",
    "\n",
    "\n",
    "app = QApplication(sys.argv)\n",
    "window = MainWindow()\n",
    "sys.exit(app.exec())"
   ],
   "metadata": {
    "collapsed": false
   }
  },
  {
   "cell_type": "markdown",
   "source": [
    "## 8.2 Radio button signals\n",
    "\n",
    "A radio button emits the toggled() signal when it is switched on or off.\n",
    "\n",
    "If you want to trigger an action when the state of the radio button changes, you can connect a slot to the toggled() signal.\n",
    "\n",
    "Inside the slot, you can use isChecked() method to check whether the radio button is switched on or off."
   ],
   "metadata": {
    "collapsed": false
   }
  },
  {
   "cell_type": "code",
   "execution_count": 3,
   "outputs": [
    {
     "name": "stderr",
     "output_type": "stream",
     "text": [
      "qt.qpa.xcb: X server does not support XInput 2\n"
     ]
    },
    {
     "ename": "SystemExit",
     "evalue": "0",
     "output_type": "error",
     "traceback": [
      "An exception has occurred, use %tb to see the full traceback.\n",
      "\u001B[0;31mSystemExit\u001B[0m\u001B[0;31m:\u001B[0m 0\n"
     ]
    },
    {
     "name": "stderr",
     "output_type": "stream",
     "text": [
      "/home/pengfei/.cache/pypoetry/virtualenvs/python-desktop-app-framework-xY3vli_t-py3.8/lib/python3.8/site-packages/IPython/core/interactiveshell.py:3441: UserWarning: To exit: use 'exit', 'quit', or Ctrl-D.\n",
      "  warn(\"To exit: use 'exit', 'quit', or Ctrl-D.\", stacklevel=1)\n"
     ]
    }
   ],
   "source": [
    "import sys\n",
    "from PyQt6.QtWidgets import QApplication, QWidget, QRadioButton, QLabel, QVBoxLayout\n",
    "from PyQt6.QtCore import Qt\n",
    "\n",
    "\n",
    "class MainWindow(QWidget):\n",
    "    def __init__(self, *args, **kwargs):\n",
    "        super().__init__(*args, **kwargs)\n",
    "\n",
    "        self.setWindowTitle('PyQt QRadioButton')\n",
    "        self.setMinimumWidth(300)\n",
    "\n",
    "        # create a grid layout\n",
    "        layout = QVBoxLayout()\n",
    "\n",
    "        # set main window layout\n",
    "        self.setLayout(layout)\n",
    "\n",
    "        # add header label\n",
    "        label = QLabel('Please select a platform:', self)\n",
    "\n",
    "        # add three radio buttons\n",
    "        rb_android = QRadioButton('Android', self)\n",
    "        rb_ios = QRadioButton('iOS', self)\n",
    "        rb_windows = QRadioButton('Windows', self)\n",
    "\n",
    "        # connect radio buttons to a slot\n",
    "        rb_android.toggled.connect(self.updateLabel)\n",
    "        rb_ios.toggled.connect(self.updateLabel)\n",
    "        rb_windows.toggled.connect(self.updateLabel)\n",
    "\n",
    "        # add result label\n",
    "        self.result_label = QLabel('', self)\n",
    "\n",
    "        # add items to layout\n",
    "        layout.addWidget(label)\n",
    "        layout.addWidget(rb_android)\n",
    "        layout.addWidget(rb_ios)\n",
    "        layout.addWidget(rb_windows)\n",
    "        layout.addWidget(self.result_label)\n",
    "\n",
    "        # show the window\n",
    "        self.show()\n",
    "\n",
    "    # the slot function\n",
    "    def updateLabel(self):\n",
    "        # get the sender of the signal which is a radio button in our case\n",
    "        rb_sig=self.sender()\n",
    "\n",
    "        # the returned radio button contains the state and the label of the radio button\n",
    "        if rb_sig.isChecked():\n",
    "            # .text() returns the label of the radio button\n",
    "            self.result_label.setText(f\"You selected {rb_sig.text()}\")\n",
    "\n",
    "\n",
    "\n",
    "\n",
    "app = QApplication(sys.argv)\n",
    "window = MainWindow()\n",
    "sys.exit(app.exec())"
   ],
   "metadata": {
    "collapsed": false
   }
  }
 ],
 "metadata": {
  "kernelspec": {
   "display_name": "Python 3",
   "language": "python",
   "name": "python3"
  },
  "language_info": {
   "codemirror_mode": {
    "name": "ipython",
    "version": 2
   },
   "file_extension": ".py",
   "mimetype": "text/x-python",
   "name": "python",
   "nbconvert_exporter": "python",
   "pygments_lexer": "ipython2",
   "version": "2.7.6"
  }
 },
 "nbformat": 4,
 "nbformat_minor": 0
}
