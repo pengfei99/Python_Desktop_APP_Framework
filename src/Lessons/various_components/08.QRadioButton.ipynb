{
 "cells": [
  {
   "cell_type": "markdown",
   "source": [
    "# 8. QRadioButton\n",
    "\n",
    "The QRadioButton class allows you to create a radio button with a label:\n",
    "\n",
    "```python\n",
    "QRadioButton(text[, parent=None])\n",
    "```\n",
    "\n",
    "A radio button has two states:\n",
    "- on (checked)\n",
    "- off (unchecked)\n",
    "\n",
    "Typically, you use radio buttons in a group. A radio button group provides you with one of many choices. By default, radio buttons in a radio button group are `auto-exclusive`. Also, radio buttons that belong to the `same parent widget, are auto-exclusive`. It means, you can check only one radio button at a time. If you check another radio button, the previously checked button is unchecked.\n",
    "\n",
    "> If you want to create multiple exclusive radio buttons, you can group them into multiple QButtonGroup widgets.\n",
    "\n",
    "## 8.1 Create a radio button"
   ],
   "metadata": {
    "collapsed": false
   }
  },
  {
   "cell_type": "code",
   "execution_count": 2,
   "outputs": [
    {
     "ename": "SystemExit",
     "evalue": "0",
     "output_type": "error",
     "traceback": [
      "An exception has occurred, use %tb to see the full traceback.\n",
      "\u001B[0;31mSystemExit\u001B[0m\u001B[0;31m:\u001B[0m 0\n"
     ]
    }
   ],
   "source": [
    "import sys\n",
    "from PyQt6.QtWidgets import QApplication, QWidget, QRadioButton, QLabel, QVBoxLayout\n",
    "from PyQt6.QtCore import Qt\n",
    "\n",
    "\n",
    "class MainWindow(QWidget):\n",
    "    def __init__(self, *args, **kwargs):\n",
    "        super().__init__(*args, **kwargs)\n",
    "\n",
    "        self.setWindowTitle('PyQt QRadioButton')\n",
    "        self.setMinimumWidth(300)\n",
    "\n",
    "        # create a grid layout\n",
    "        layout = QVBoxLayout()\n",
    "\n",
    "        # set main window layout\n",
    "        self.setLayout(layout)\n",
    "\n",
    "        # add header label\n",
    "        label = QLabel('Please select a platform:', self)\n",
    "\n",
    "        # add three radio buttons\n",
    "        rb_android = QRadioButton('Android', self)\n",
    "        rb_ios = QRadioButton('iOS', self)\n",
    "        rb_windows = QRadioButton('Windows', self)\n",
    "\n",
    "        # add result label\n",
    "        self.result_label = QLabel('', self)\n",
    "\n",
    "        # add items to layout\n",
    "        layout.addWidget(label)\n",
    "        layout.addWidget(rb_android)\n",
    "        layout.addWidget(rb_ios)\n",
    "        layout.addWidget(rb_windows)\n",
    "        layout.addWidget(self.result_label)\n",
    "\n",
    "        # show the window\n",
    "        self.show()\n",
    "\n",
    "\n",
    "\n",
    "\n",
    "app = QApplication(sys.argv)\n",
    "window = MainWindow()\n",
    "sys.exit(app.exec())"
   ],
   "metadata": {
    "collapsed": false
   }
  },
  {
   "cell_type": "markdown",
   "source": [
    "## 8.2 Radio button signals\n",
    "\n",
    "A radio button emits the toggled() signal when it is switched on or off.\n",
    "\n",
    "If you want to trigger an action when the state of the radio button changes, you can connect a slot to the toggled() signal.\n",
    "\n",
    "Inside the slot, you can use isChecked() method to check whether the radio button is switched on or off."
   ],
   "metadata": {
    "collapsed": false
   }
  },
  {
   "cell_type": "code",
   "execution_count": 3,
   "outputs": [
    {
     "name": "stderr",
     "output_type": "stream",
     "text": [
      "qt.qpa.xcb: X server does not support XInput 2\n"
     ]
    },
    {
     "ename": "SystemExit",
     "evalue": "0",
     "output_type": "error",
     "traceback": [
      "An exception has occurred, use %tb to see the full traceback.\n",
      "\u001B[0;31mSystemExit\u001B[0m\u001B[0;31m:\u001B[0m 0\n"
     ]
    },
    {
     "name": "stderr",
     "output_type": "stream",
     "text": [
      "/home/pengfei/.cache/pypoetry/virtualenvs/python-desktop-app-framework-xY3vli_t-py3.8/lib/python3.8/site-packages/IPython/core/interactiveshell.py:3441: UserWarning: To exit: use 'exit', 'quit', or Ctrl-D.\n",
      "  warn(\"To exit: use 'exit', 'quit', or Ctrl-D.\", stacklevel=1)\n"
     ]
    }
   ],
   "source": [
    "import sys\n",
    "from PyQt6.QtWidgets import QApplication, QWidget, QRadioButton, QLabel, QVBoxLayout\n",
    "from PyQt6.QtCore import Qt\n",
    "\n",
    "\n",
    "class MainWindow(QWidget):\n",
    "    def __init__(self, *args, **kwargs):\n",
    "        super().__init__(*args, **kwargs)\n",
    "\n",
    "        self.setWindowTitle('PyQt QRadioButton')\n",
    "        self.setMinimumWidth(300)\n",
    "\n",
    "        # create a grid layout\n",
    "        layout = QVBoxLayout()\n",
    "\n",
    "        # set main window layout\n",
    "        self.setLayout(layout)\n",
    "\n",
    "        # add header label\n",
    "        label = QLabel('Please select a platform:', self)\n",
    "\n",
    "        # add three radio buttons\n",
    "        rb_android = QRadioButton('Android', self)\n",
    "        rb_ios = QRadioButton('iOS', self)\n",
    "        rb_windows = QRadioButton('Windows', self)\n",
    "\n",
    "        # connect radio buttons to a slot\n",
    "        rb_android.toggled.connect(self.updateLabel)\n",
    "        rb_ios.toggled.connect(self.updateLabel)\n",
    "        rb_windows.toggled.connect(self.updateLabel)\n",
    "\n",
    "        # add result label\n",
    "        self.result_label = QLabel('', self)\n",
    "\n",
    "        # add items to layout\n",
    "        layout.addWidget(label)\n",
    "        layout.addWidget(rb_android)\n",
    "        layout.addWidget(rb_ios)\n",
    "        layout.addWidget(rb_windows)\n",
    "        layout.addWidget(self.result_label)\n",
    "\n",
    "        # show the window\n",
    "        self.show()\n",
    "\n",
    "    # the slot function\n",
    "    def updateLabel(self):\n",
    "        # get the sender of the signal which is a radio button in our case\n",
    "        rb_sig=self.sender()\n",
    "\n",
    "        # the returned radio button contains the state and the label of the radio button\n",
    "        if rb_sig.isChecked():\n",
    "            # .text() returns the label of the radio button\n",
    "            self.result_label.setText(f\"You selected {rb_sig.text()}\")\n",
    "\n",
    "\n",
    "\n",
    "\n",
    "app = QApplication(sys.argv)\n",
    "window = MainWindow()\n",
    "sys.exit(app.exec())"
   ],
   "metadata": {
    "collapsed": false
   }
  },
  {
   "cell_type": "markdown",
   "source": [
    "## 8.3 Use ButtonGroup to organize RadioButton\n",
    "\n",
    "The QButtonGroup class provides a container to organize groups of button widgets."
   ],
   "metadata": {
    "collapsed": false
   }
  },
  {
   "cell_type": "code",
   "execution_count": 3,
   "outputs": [
    {
     "name": "stderr",
     "output_type": "stream",
     "text": [
      "qt.qpa.xcb: X server does not support XInput 2\n"
     ]
    },
    {
     "ename": "SystemExit",
     "evalue": "0",
     "output_type": "error",
     "traceback": [
      "An exception has occurred, use %tb to see the full traceback.\n",
      "\u001B[0;31mSystemExit\u001B[0m\u001B[0;31m:\u001B[0m 0\n"
     ]
    },
    {
     "name": "stderr",
     "output_type": "stream",
     "text": [
      "/home/pengfei/.cache/pypoetry/virtualenvs/python-desktop-app-framework-xY3vli_t-py3.8/lib/python3.8/site-packages/IPython/core/interactiveshell.py:3441: UserWarning: To exit: use 'exit', 'quit', or Ctrl-D.\n",
      "  warn(\"To exit: use 'exit', 'quit', or Ctrl-D.\", stacklevel=1)\n"
     ]
    }
   ],
   "source": [
    "from PyQt6.QtWidgets import (QWidget, QRadioButton, QHBoxLayout, QVBoxLayout,\n",
    "                             QButtonGroup, QLabel, QApplication)\n",
    "import sys\n",
    "\n",
    "\n",
    "class Example(QWidget):\n",
    "\n",
    "    def __init__(self):\n",
    "        super().__init__()\n",
    "\n",
    "        self.initUI()\n",
    "\n",
    "    def initUI(self):\n",
    "        # main layout to organize all Widget\n",
    "        vbox = QVBoxLayout()\n",
    "        # first sub layout to organize radio buttons in button group1.\n",
    "        hbox1 = QHBoxLayout()\n",
    "\n",
    "        # create button group 1, and add three radio button(e.g. large, median, small) in the bg1.\n",
    "        bg1 = QButtonGroup(self)\n",
    "\n",
    "        # we add a slot/action for each button, not the button group\n",
    "        rb1 = QRadioButton('Large', self)\n",
    "        rb1.setAutoExclusive(False)\n",
    "        rb1.toggled.connect(self.updateLabel1)\n",
    "\n",
    "        rb2 = QRadioButton('Median', self)\n",
    "        rb2.setAutoExclusive(False)\n",
    "        rb2.toggled.connect(self.updateLabel1)\n",
    "\n",
    "        rb3 = QRadioButton('Small', self)\n",
    "        rb3.setAutoExclusive(False)\n",
    "        rb3.toggled.connect(self.updateLabel1)\n",
    "\n",
    "        # second sub layout to organize radio buttons in button group2.\n",
    "        hbox2 = QHBoxLayout()\n",
    "        # create button group 2, and add three radio button(e.g. red, green, blue) in the bg2.\n",
    "        bg2 = QButtonGroup(self)\n",
    "\n",
    "        rb4 = QRadioButton('Red', self)\n",
    "        rb4.toggled.connect(self.updateLabel2)\n",
    "\n",
    "        rb5 = QRadioButton('Green', self)\n",
    "        rb5.toggled.connect(self.updateLabel2)\n",
    "\n",
    "        rb6 = QRadioButton('Blue', self)\n",
    "        rb6.toggled.connect(self.updateLabel2)\n",
    "\n",
    "        self.label1 = QLabel('', self)\n",
    "        self.label2 = QLabel('', self)\n",
    "\n",
    "        bg1.addButton(rb1)\n",
    "        bg1.addButton(rb2)\n",
    "        bg1.addButton(rb3)\n",
    "\n",
    "        bg2.addButton(rb4)\n",
    "        bg2.addButton(rb5)\n",
    "        bg2.addButton(rb6)\n",
    "\n",
    "        # add three button to first sub layout, even thought they are in bg1 container,\n",
    "        # but it does not provide any visual representation. So we need a layout to\n",
    "        # do the visual organization.\n",
    "        hbox1.addWidget(rb1)\n",
    "        hbox1.addWidget(rb2)\n",
    "        hbox1.addWidget(rb3)\n",
    "\n",
    "        hbox2.addWidget(rb4)\n",
    "        hbox2.addWidget(rb5)\n",
    "        hbox2.addWidget(rb6)\n",
    "\n",
    "        # add two sub layout of the button group to the main layout\n",
    "        vbox.addLayout(hbox1)\n",
    "        vbox.addLayout(hbox2)\n",
    "        # add two label to print the selected button\n",
    "        vbox.addWidget(self.label1)\n",
    "        vbox.addWidget(self.label2)\n",
    "\n",
    "        self.setLayout(vbox)\n",
    "\n",
    "        self.setGeometry(300, 300, 350, 250)\n",
    "        self.setWindowTitle('QRadioButton')\n",
    "        self.show()\n",
    "\n",
    "    def updateLabel1(self, _):\n",
    "\n",
    "        rbtn = self.sender()\n",
    "\n",
    "        if rbtn.isChecked() == True:\n",
    "            self.label1.setText(rbtn.text())\n",
    "\n",
    "    def updateLabel2(self, _):\n",
    "\n",
    "        rbtn = self.sender()\n",
    "\n",
    "        if rbtn.isChecked() == True:\n",
    "            self.label2.setText(rbtn.text())\n",
    "\n",
    "\n",
    "def main():\n",
    "\n",
    "    app = QApplication(sys.argv)\n",
    "    ex = Example()\n",
    "    sys.exit(app.exec())\n",
    "\n",
    "\n",
    "if __name__ == '__main__':\n",
    "    main()"
   ],
   "metadata": {
    "collapsed": false
   }
  },
  {
   "cell_type": "markdown",
   "source": [
    "## 8.4 Multiple choice radio button\n",
    "\n",
    "Radio buttons are typically used to force the user to select one of several options. So in one widget, multiple radio buttons are set to `autoExclusive` by default. If you select one button, the other buttons are deselected.\n",
    "\n",
    "If you want to be able to select multiple buttons at once, you can enter False in the `setAutoExclusive()` method. You can also use the `QButtonGroup() method if you want to place multiple exclusive button groups within a widget`. (See QButtonGroup official documentation)\n",
    "\n",
    "As with the checkbox, a toggled() signal occurs when the button changes state. You can also use the isChecked() method when you want to get the state of a particular button.\n",
    "\n",
    "> Even though with setAutoExclusive() method, you can do multiple choice radio button. But if you don't want autoExclusive, QCheckBox may be a better option. Because naturally it allows you to select multiple choice without any configuration."
   ],
   "metadata": {
    "collapsed": false
   }
  },
  {
   "cell_type": "code",
   "execution_count": 3,
   "outputs": [
    {
     "name": "stderr",
     "output_type": "stream",
     "text": [
      "qt.qpa.xcb: X server does not support XInput 2\n"
     ]
    },
    {
     "ename": "SystemExit",
     "evalue": "0",
     "output_type": "error",
     "traceback": [
      "An exception has occurred, use %tb to see the full traceback.\n",
      "\u001B[0;31mSystemExit\u001B[0m\u001B[0;31m:\u001B[0m 0\n"
     ]
    },
    {
     "name": "stderr",
     "output_type": "stream",
     "text": [
      "/home/pengfei/.cache/pypoetry/virtualenvs/python-desktop-app-framework-xY3vli_t-py3.8/lib/python3.8/site-packages/IPython/core/interactiveshell.py:3441: UserWarning: To exit: use 'exit', 'quit', or Ctrl-D.\n",
      "  warn(\"To exit: use 'exit', 'quit', or Ctrl-D.\", stacklevel=1)\n"
     ]
    }
   ],
   "source": [
    "from PyQt6.QtWidgets import (QWidget, QRadioButton, QHBoxLayout, QVBoxLayout,\n",
    "                             QButtonGroup, QLabel, QApplication)\n",
    "import sys\n",
    "\n",
    "\n",
    "class Example(QWidget):\n",
    "\n",
    "    def __init__(self):\n",
    "        super().__init__()\n",
    "\n",
    "        self.initUI()\n",
    "\n",
    "    def initUI(self):\n",
    "        # main layout to organize all Widget\n",
    "        vbox = QHBoxLayout()\n",
    "\n",
    "        # we add a slot/action for each button, not the button group\n",
    "        rb1 = QRadioButton('Large', self)\n",
    "        # when auto exclusive set to False, you can do multiple choice\n",
    "        rb1.setAutoExclusive(False)\n",
    "        rb1.toggled.connect(self.updateLabel1)\n",
    "\n",
    "        rb2 = QRadioButton('Median', self)\n",
    "        rb2.setAutoExclusive(False)\n",
    "        rb2.toggled.connect(self.updateLabel1)\n",
    "\n",
    "        rb3 = QRadioButton('Small', self)\n",
    "        rb3.setAutoExclusive(False)\n",
    "        rb3.toggled.connect(self.updateLabel1)\n",
    "\n",
    "        vbox.addWidget(rb1)\n",
    "        vbox.addWidget(rb2)\n",
    "        vbox.addWidget(rb3)\n",
    "\n",
    "        self.label1 = QLabel('', self)\n",
    "        vbox.addWidget(self.label1)\n",
    "\n",
    "        self.setLayout(vbox)\n",
    "\n",
    "        self.setGeometry(300, 300, 350, 250)\n",
    "        self.setWindowTitle('QRadioButton')\n",
    "        self.show()\n",
    "\n",
    "    def updateLabel1(self, _):\n",
    "\n",
    "        rbtn = self.sender()\n",
    "\n",
    "        if rbtn.isChecked() == True:\n",
    "            self.label1.setText(rbtn.text())\n",
    "\n",
    "\n",
    "\n",
    "def main():\n",
    "\n",
    "    app = QApplication(sys.argv)\n",
    "    ex = Example()\n",
    "    sys.exit(app.exec())\n",
    "\n",
    "\n",
    "if __name__ == '__main__':\n",
    "    main()"
   ],
   "metadata": {
    "collapsed": false
   }
  }
 ],
 "metadata": {
  "kernelspec": {
   "display_name": "Python 3",
   "language": "python",
   "name": "python3"
  },
  "language_info": {
   "codemirror_mode": {
    "name": "ipython",
    "version": 2
   },
   "file_extension": ".py",
   "mimetype": "text/x-python",
   "name": "python",
   "nbconvert_exporter": "python",
   "pygments_lexer": "ipython2",
   "version": "2.7.6"
  }
 },
 "nbformat": 4,
 "nbformat_minor": 0
}
