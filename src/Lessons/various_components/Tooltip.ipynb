{
 "cells": [
  {
   "cell_type": "markdown",
   "source": [
    "# Tooltip\n",
    "\n",
    "Tooltip allows you to show a description message on a button, when your mouse hover on the button"
   ],
   "metadata": {
    "collapsed": false
   }
  },
  {
   "cell_type": "code",
   "execution_count": 1,
   "outputs": [
    {
     "name": "stderr",
     "output_type": "stream",
     "text": [
      "qt.qpa.xcb: X server does not support XInput 2\n"
     ]
    },
    {
     "ename": "SystemExit",
     "evalue": "0",
     "output_type": "error",
     "traceback": [
      "An exception has occurred, use %tb to see the full traceback.\n",
      "\u001B[0;31mSystemExit\u001B[0m\u001B[0;31m:\u001B[0m 0\n"
     ]
    },
    {
     "name": "stderr",
     "output_type": "stream",
     "text": [
      "/home/pengfei/.cache/pypoetry/virtualenvs/python-desktop-app-framework-xY3vli_t-py3.8/lib/python3.8/site-packages/IPython/core/interactiveshell.py:3441: UserWarning: To exit: use 'exit', 'quit', or Ctrl-D.\n",
      "  warn(\"To exit: use 'exit', 'quit', or Ctrl-D.\", stacklevel=1)\n"
     ]
    }
   ],
   "source": [
    "from PyQt6.QtGui import QFont\n",
    "import sys\n",
    "from PyQt6.QtWidgets import QWidget, QPushButton, QApplication, QToolTip\n",
    "\n",
    "\n",
    "class ToolTip(QWidget):\n",
    "\n",
    "    def __init__(self):\n",
    "        super().__init__()\n",
    "\n",
    "        # setup font for tool tip text\n",
    "        QToolTip.setFont(QFont('SansSerif', 10))\n",
    "\n",
    "        # create a button\n",
    "        qbtn = QPushButton('Quit', self)\n",
    "        qbtn.clicked.connect(QApplication.instance().quit)\n",
    "\n",
    "        # set up a tool tip message\n",
    "        qbtn.setToolTip(\"This button will <b>close</b> the program\")\n",
    "\n",
    "        # we can resize and move it to other place\n",
    "        # qbtn.resize(qbtn.sizeHint())\n",
    "        # qbtn.move(50, 50)\n",
    "\n",
    "        self.setGeometry(300, 300, 350, 250)\n",
    "        self.setWindowTitle('Quit button')\n",
    "        self.show()\n",
    "\n",
    "\n",
    "\n",
    "\n",
    "app = QApplication(sys.argv)\n",
    "ex = ToolTip()\n",
    "sys.exit(app.exec())\n"
   ],
   "metadata": {
    "collapsed": false
   }
  }
 ],
 "metadata": {
  "kernelspec": {
   "display_name": "Python 3",
   "language": "python",
   "name": "python3"
  },
  "language_info": {
   "codemirror_mode": {
    "name": "ipython",
    "version": 2
   },
   "file_extension": ".py",
   "mimetype": "text/x-python",
   "name": "python",
   "nbconvert_exporter": "python",
   "pygments_lexer": "ipython2",
   "version": "2.7.6"
  }
 },
 "nbformat": 4,
 "nbformat_minor": 0
}
