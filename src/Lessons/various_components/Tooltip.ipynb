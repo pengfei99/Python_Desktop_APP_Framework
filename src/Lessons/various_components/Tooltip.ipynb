{
 "cells": [
  {
   "cell_type": "code",
   "execution_count": null,
   "metadata": {
    "collapsed": true
   },
   "outputs": [],
   "source": [
    "# Tooltip\n",
    "\n",
    "T"
   ]
  },
  {
   "cell_type": "code",
   "execution_count": null,
   "outputs": [
    {
     "name": "stderr",
     "output_type": "stream",
     "text": [
      "qt.qpa.xcb: X server does not support XInput 2\n"
     ]
    }
   ],
   "source": [
    "from PyQt6.QtGui import QFont\n",
    "import sys\n",
    "from PyQt6.QtWidgets import QWidget, QPushButton, QApplication, QToolTip\n",
    "\n",
    "\n",
    "class ToolTip(QWidget):\n",
    "\n",
    "    def __init__(self):\n",
    "        super().__init__()\n",
    "\n",
    "        self.initUI()\n",
    "\n",
    "\n",
    "    def initUI(self):\n",
    "        # setup font for tool tip text\n",
    "        QToolTip.setFont(QFont('SansSerif', 10))\n",
    "\n",
    "        # create a button\n",
    "        qbtn = QPushButton('Quit', self)\n",
    "        qbtn.clicked.connect(QApplication.instance().quit)\n",
    "\n",
    "        # set up a tool tip message\n",
    "        qbtn.setToolTip(\"This button will <b>close</b> the program\")\n",
    "\n",
    "        # we can resize and move it to other place\n",
    "        # qbtn.resize(qbtn.sizeHint())\n",
    "        # qbtn.move(50, 50)\n",
    "\n",
    "        self.setGeometry(300, 300, 350, 250)\n",
    "        self.setWindowTitle('Quit button')\n",
    "        self.show()\n",
    "\n",
    "\n",
    "\n",
    "\n",
    "app = QApplication(sys.argv)\n",
    "ex = ToolTip()\n",
    "sys.exit(app.exec())\n"
   ],
   "metadata": {
    "collapsed": false,
    "pycharm": {
     "is_executing": true
    }
   }
  }
 ],
 "metadata": {
  "kernelspec": {
   "display_name": "Python 3",
   "language": "python",
   "name": "python3"
  },
  "language_info": {
   "codemirror_mode": {
    "name": "ipython",
    "version": 2
   },
   "file_extension": ".py",
   "mimetype": "text/x-python",
   "name": "python",
   "nbconvert_exporter": "python",
   "pygments_lexer": "ipython2",
   "version": "2.7.6"
  }
 },
 "nbformat": 4,
 "nbformat_minor": 0
}
