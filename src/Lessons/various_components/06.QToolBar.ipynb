{
 "cells": [
  {
   "cell_type": "markdown",
   "source": [
    "# 6. QToolbar\n",
    "\n",
    "A toolbar is a movable panel that contains a set of controls. To create a toolbar, you use the QToolBar class\n",
    "\n",
    "## 6.1 Creat toolbar\n",
    "\n",
    "To create a toolbar, we need to follow below steps:\n",
    "\n",
    "1. Create toolbar object\n",
    "2. add toolbar object to main window\n",
    "3. add action to each toolbar item"
   ],
   "metadata": {
    "collapsed": false
   }
  },
  {
   "cell_type": "code",
   "execution_count": 6,
   "outputs": [
    {
     "name": "stdout",
     "output_type": "stream",
     "text": [
      "current user home: /home/pengfei\n",
      "current run path: /home/pengfei/git/Python_Desktop_APP_Framework/src/Lessons/various_components\n",
      "/home/pengfei/git/Python_Desktop_APP_Framework/src/resources\n"
     ]
    }
   ],
   "source": [
    "import pathlib\n",
    "\n",
    "print (f\"current user home: {pathlib.Path.home()}\")\n",
    "\n",
    "print(f\"current run path: {pathlib.Path.cwd()}\")\n",
    "\n",
    "icon_path= pathlib.Path.cwd().parent.parent / 'resources'\n",
    "\n",
    "print(icon_path)"
   ],
   "metadata": {
    "collapsed": false
   }
  },
  {
   "cell_type": "code",
   "execution_count": 1,
   "outputs": [
    {
     "name": "stderr",
     "output_type": "stream",
     "text": [
      "qt.qpa.xcb: X server does not support XInput 2\n"
     ]
    },
    {
     "ename": "SystemExit",
     "evalue": "0",
     "output_type": "error",
     "traceback": [
      "An exception has occurred, use %tb to see the full traceback.\n",
      "\u001B[0;31mSystemExit\u001B[0m\u001B[0;31m:\u001B[0m 0\n"
     ]
    },
    {
     "name": "stderr",
     "output_type": "stream",
     "text": [
      "/home/pengfei/.cache/pypoetry/virtualenvs/python-desktop-app-framework-xY3vli_t-py3.8/lib/python3.8/site-packages/IPython/core/interactiveshell.py:3441: UserWarning: To exit: use 'exit', 'quit', or Ctrl-D.\n",
      "  warn(\"To exit: use 'exit', 'quit', or Ctrl-D.\", stacklevel=1)\n"
     ]
    }
   ],
   "source": [
    "import sys\n",
    "from pathlib import Path\n",
    "from PyQt6.QtWidgets import QApplication, QMainWindow, QTextEdit, QFileDialog, QMessageBox, QToolBar\n",
    "from PyQt6.QtGui import QIcon, QAction\n",
    "from PyQt6.QtCore import QSize, Qt\n",
    "import pathlib\n",
    "\n",
    "class MainWindow(QMainWindow):\n",
    "    def __init__(self,*args,**kwargs):\n",
    "        super().__init__(*args,**kwargs)\n",
    "        self.setGeometry(100,100,500,300)\n",
    "        self.title = 'Editor'\n",
    "\n",
    "        icon_path= pathlib.Path.cwd().parent.parent / 'resources'\n",
    "        self.setWindowIcon(QIcon(str(icon_path / 'casd_favicon.png')))\n",
    "\n",
    "        # add a text area to display the file content\n",
    "        self.text_edit = QTextEdit(self)\n",
    "        self.setCentralWidget(self.text_edit)\n",
    "\n",
    "        # create a menu bar\n",
    "        menu_bar = self.menuBar()\n",
    "\n",
    "        # add item to menu\n",
    "        file_menu = menu_bar.addMenu('&File')\n",
    "\n",
    "\n",
    "\n",
    "        # 1. create toolbar object\n",
    "        toolbar= QToolBar(\"main toolbar\")\n",
    "        # 2. add toolbar to main window\n",
    "        self.addToolBar(toolbar)\n",
    "        # set icon size\n",
    "        toolbar.setIconSize(QSize(16,16))\n",
    "        # 3. add action open\n",
    "        open_action = QAction(QIcon(str(icon_path / 'open_file.png')), '&Open...', self)\n",
    "        # link the view with controller function open document\n",
    "        open_action.triggered.connect(self.open_document)\n",
    "        open_action.setStatusTip('Open a document')\n",
    "        open_action.setShortcut('Ctrl+O')\n",
    "        file_menu.addAction(open_action)\n",
    "        toolbar.addAction(open_action)\n",
    "        self.show()\n",
    "\n",
    "    def open_document(self):\n",
    "        filename, _ = QFileDialog.getOpenFileName(self)\n",
    "        if filename:\n",
    "            self.path = Path(filename)\n",
    "            self.text_edit.setText(self.path.read_text())\n",
    "\n",
    "app = QApplication(sys.argv)\n",
    "window = MainWindow()\n",
    "sys.exit(app.exec())"
   ],
   "metadata": {
    "collapsed": false
   }
  },
  {
   "cell_type": "markdown",
   "source": [
    "## 6.2 Complete example\n",
    "\n",
    "Below is the code of the complete application. It can open a file and print the content, users can edit the content and save the change after."
   ],
   "metadata": {
    "collapsed": false
   }
  },
  {
   "cell_type": "code",
   "execution_count": null,
   "outputs": [
    {
     "name": "stderr",
     "output_type": "stream",
     "text": [
      "qt.qpa.xcb: X server does not support XInput 2\n"
     ]
    }
   ],
   "source": [
    "import sys\n",
    "from pathlib import Path\n",
    "from PyQt6.QtWidgets import QApplication, QMainWindow, QTextEdit, QFileDialog, QMessageBox, QToolBar\n",
    "from PyQt6.QtGui import QIcon, QAction\n",
    "from PyQt6.QtCore import QSize, Qt\n",
    "import pathlib\n",
    "\n",
    "\n",
    "class MainWindow(QMainWindow):\n",
    "    def __init__(self, *args, **kwargs):\n",
    "        super().__init__(*args, **kwargs)\n",
    "        icon_path= pathlib.Path.cwd().parent.parent / 'resources'\n",
    "        self.setWindowIcon(QIcon(str(icon_path / 'casd_favicon.png')))\n",
    "        self.setGeometry(100, 100, 500, 300)\n",
    "\n",
    "        self.title = 'Editor'\n",
    "        self.filters = 'Text Files (*.txt)'\n",
    "\n",
    "        self.set_title()\n",
    "\n",
    "        self.path = None\n",
    "\n",
    "        self.text_edit = QTextEdit(self)\n",
    "        self.setCentralWidget(self.text_edit)\n",
    "\n",
    "        menu_bar = self.menuBar()\n",
    "\n",
    "        file_menu = menu_bar.addMenu('&File')\n",
    "        edit_menu = menu_bar.addMenu('&Edit')\n",
    "        help_menu = menu_bar.addMenu('&Help')\n",
    "\n",
    "        # new menu item\n",
    "        new_action = QAction(QIcon(str(icon_path / 'creat_file.png')), '&New', self)\n",
    "        new_action.setStatusTip('Create a new document')\n",
    "        new_action.setShortcut('Ctrl+N')\n",
    "        new_action.triggered.connect(self.new_document)\n",
    "        file_menu.addAction(new_action)\n",
    "\n",
    "        # open menu item\n",
    "        open_action = QAction(QIcon(str(icon_path / 'open_file.png')), '&Open...', self)\n",
    "        open_action.triggered.connect(self.open_document)\n",
    "        open_action.setStatusTip('Open a document')\n",
    "        open_action.setShortcut('Ctrl+O')\n",
    "        file_menu.addAction(open_action)\n",
    "\n",
    "        # save menu item\n",
    "        save_action = QAction(QIcon(str(icon_path / 'save_file.png')), '&Save', self)\n",
    "        save_action.setStatusTip('Save the document')\n",
    "        save_action.setShortcut('Ctrl+S')\n",
    "        save_action.triggered.connect(self.save_document)\n",
    "        file_menu.addAction(save_action)\n",
    "\n",
    "        file_menu.addSeparator()\n",
    "\n",
    "        # exit menu item\n",
    "        exit_action = QAction(QIcon('./assets/exit.png'), '&Exit', self)\n",
    "        exit_action.setStatusTip('Exit')\n",
    "        exit_action.setShortcut('Alt+F4')\n",
    "        exit_action.triggered.connect(self.quit)\n",
    "        file_menu.addAction(exit_action)\n",
    "\n",
    "        # edit menu\n",
    "        undo_action = QAction(QIcon('./assets/undo.png'), '&Undo', self)\n",
    "        undo_action.setStatusTip('Undo')\n",
    "        undo_action.setShortcut('Ctrl+Z')\n",
    "        undo_action.triggered.connect(self.text_edit.undo)\n",
    "        edit_menu.addAction(undo_action)\n",
    "\n",
    "        redo_action = QAction(QIcon('./assets/redo.png'), '&Redo', self)\n",
    "        redo_action.setStatusTip('Redo')\n",
    "        redo_action.setShortcut('Ctrl+Y')\n",
    "        redo_action.triggered.connect(self.text_edit.redo)\n",
    "        edit_menu.addAction(redo_action)\n",
    "\n",
    "        about_action = QAction(QIcon('./assets/about.png'), 'About', self)\n",
    "        help_menu.addAction(about_action)\n",
    "        about_action.setStatusTip('About')\n",
    "        about_action.setShortcut('F1')\n",
    "\n",
    "        # toolbar\n",
    "        toolbar = QToolBar('Main ToolBar')\n",
    "        self.addToolBar(toolbar)\n",
    "        toolbar.setIconSize(QSize(32, 32))\n",
    "\n",
    "        toolbar.addAction(new_action)\n",
    "        toolbar.addAction(save_action)\n",
    "        toolbar.addAction(open_action)\n",
    "        toolbar.addSeparator()\n",
    "\n",
    "        toolbar.addAction(undo_action)\n",
    "        toolbar.addAction(redo_action)\n",
    "        toolbar.addSeparator()\n",
    "\n",
    "        toolbar.addAction(exit_action)\n",
    "\n",
    "        # status bar\n",
    "        self.status_bar = self.statusBar()\n",
    "        self.show()\n",
    "\n",
    "    def set_title(self, filename=None):\n",
    "        title = f\"{filename if filename else 'Untitled'} - {self.title}\"\n",
    "        self.setWindowTitle(title)\n",
    "\n",
    "    def confirm_save(self):\n",
    "        if not self.text_edit.document().isModified():\n",
    "            return True\n",
    "\n",
    "        message = f\"Do you want to save changes to {self.path if self.path else 'Untitled'}?\"\n",
    "        MsgBoxBtn = QMessageBox.StandardButton\n",
    "        MsgBoxBtn = MsgBoxBtn.Save | MsgBoxBtn.Discard | MsgBoxBtn.Cancel\n",
    "\n",
    "        button = QMessageBox.question(\n",
    "            self, self.title, message, buttons=MsgBoxBtn\n",
    "        )\n",
    "\n",
    "        if button == MsgBoxBtn.Cancel:\n",
    "            return False\n",
    "\n",
    "        if button == MsgBoxBtn.Save:\n",
    "            self.save_document()\n",
    "\n",
    "        return True\n",
    "\n",
    "    def new_document(self):\n",
    "        if self.confirm_save():\n",
    "            self.text_edit.clear()\n",
    "            self.set_title()\n",
    "\n",
    "    def save_document(self):\n",
    "        # save the currently openned file\n",
    "        if (self.path):\n",
    "            return self.path.write_text(self.text_edit.toPlainText())\n",
    "\n",
    "        # save a new file\n",
    "        filename, _ = QFileDialog.getSaveFileName(\n",
    "            self, 'Save File', filter=self.filters\n",
    "        )\n",
    "\n",
    "        if not filename:\n",
    "            return\n",
    "\n",
    "        self.path = Path(filename)\n",
    "        self.path.write_text(self.text_edit.toPlainText())\n",
    "        self.set_title(filename)\n",
    "\n",
    "    def open_document(self):\n",
    "        filename, _ = QFileDialog.getOpenFileName(self, filter=self.filters)\n",
    "        if filename:\n",
    "            self.path = Path(filename)\n",
    "            self.text_edit.setText(self.path.read_text())\n",
    "            self.set_title(filename)\n",
    "\n",
    "    def quit(self):\n",
    "        if self.confirm_save():\n",
    "            self.destroy()\n",
    "\n",
    "\n",
    "if __name__ == '__main__':\n",
    "    try:\n",
    "        import ctypes\n",
    "        myappid = 'mycompany.myproduct.subproduct.version'\n",
    "        ctypes.windll.shell32.SetCurrentProcessExplicitAppUserModelID(myappid)\n",
    "    finally:\n",
    "        app = QApplication(sys.argv)\n",
    "        window = MainWindow()\n",
    "        sys.exit(app.exec())"
   ],
   "metadata": {
    "collapsed": false,
    "pycharm": {
     "is_executing": true
    }
   }
  },
  {
   "cell_type": "code",
   "execution_count": null,
   "outputs": [],
   "source": [],
   "metadata": {
    "collapsed": false
   }
  }
 ],
 "metadata": {
  "kernelspec": {
   "display_name": "Python 3",
   "language": "python",
   "name": "python3"
  },
  "language_info": {
   "codemirror_mode": {
    "name": "ipython",
    "version": 2
   },
   "file_extension": ".py",
   "mimetype": "text/x-python",
   "name": "python",
   "nbconvert_exporter": "python",
   "pygments_lexer": "ipython2",
   "version": "2.7.6"
  }
 },
 "nbformat": 4,
 "nbformat_minor": 0
}
