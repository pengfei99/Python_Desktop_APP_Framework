{
 "cells": [
  {
   "cell_type": "markdown",
   "source": [
    "# 13. QMessageBox\n",
    "\n",
    "The **QMessageBox** class allows you to create a `modal dialog that alerts the user with important information` or asks the user a question and receives an answer.\n",
    "\n",
    "The 1QMessageBox1 provides some useful static methods for displaying a message box:\n",
    "\n",
    "- **information()**:  show an information message.\n",
    "- **question()**:  ask the user a question and receives an answer.\n",
    "- **warning()**:  show a warning message.\n",
    "- **critical()**:  display critical information.\n",
    "\n",
    "## 13.1 Show information modal\n",
    "\n",
    "In Below example, when you click on the Information button, a popup modal will show some information"
   ],
   "metadata": {
    "collapsed": false
   }
  },
  {
   "cell_type": "code",
   "execution_count": 1,
   "outputs": [
    {
     "name": "stderr",
     "output_type": "stream",
     "text": [
      "qt.qpa.xcb: X server does not support XInput 2\n"
     ]
    },
    {
     "ename": "SystemExit",
     "evalue": "0",
     "output_type": "error",
     "traceback": [
      "An exception has occurred, use %tb to see the full traceback.\n",
      "\u001B[0;31mSystemExit\u001B[0m\u001B[0;31m:\u001B[0m 0\n"
     ]
    },
    {
     "name": "stderr",
     "output_type": "stream",
     "text": [
      "/home/pengfei/.cache/pypoetry/virtualenvs/python-desktop-app-framework-xY3vli_t-py3.8/lib/python3.8/site-packages/IPython/core/interactiveshell.py:3441: UserWarning: To exit: use 'exit', 'quit', or Ctrl-D.\n",
      "  warn(\"To exit: use 'exit', 'quit', or Ctrl-D.\", stacklevel=1)\n"
     ]
    }
   ],
   "source": [
    "import sys\n",
    "from PyQt6.QtWidgets import QApplication,  QMessageBox, QWidget, QHBoxLayout,  QPushButton\n",
    "\n",
    "\n",
    "class MainWindow(QWidget):\n",
    "    def __init__(self, *args, **kwargs):\n",
    "        super().__init__(*args, **kwargs)\n",
    "\n",
    "        # set main window title and position\n",
    "        self.setWindowTitle('PyQt QMessageBox')\n",
    "        self.setGeometry(100, 100, 300, 100)\n",
    "\n",
    "        # set the layout for main window\n",
    "        layout = QHBoxLayout()\n",
    "        self.setLayout(layout)\n",
    "\n",
    "        # add a button\n",
    "        btn_info = QPushButton('Information')\n",
    "        # connect the button to slot info\n",
    "        btn_info.clicked.connect(self.info)\n",
    "\n",
    "        layout.addWidget(btn_info)\n",
    "\n",
    "\n",
    "        self.show()\n",
    "\n",
    "    def info(self):\n",
    "        # create a new QMessageBox as information\n",
    "        # as we don't expect any data in return. so we don't need to assign a variable to it.\n",
    "        # 1st arg is the parent widget\n",
    "        # 2nd is the title\n",
    "        # 3rd is the content of the modal\n",
    "        QMessageBox.information(\n",
    "            self,\n",
    "            'Information',\n",
    "            'This is important information.'\n",
    "        )\n",
    "\n",
    "app = QApplication(sys.argv)\n",
    "window = MainWindow()\n",
    "sys.exit(app.exec())"
   ],
   "metadata": {
    "collapsed": false
   }
  },
  {
   "cell_type": "markdown",
   "source": [
    "## 13.2 Show Warning\n",
    "\n",
    "In Below example, when you click on the Warning button, a popup modal will show some warning\n"
   ],
   "metadata": {
    "collapsed": false
   }
  },
  {
   "cell_type": "code",
   "execution_count": 1,
   "outputs": [
    {
     "name": "stderr",
     "output_type": "stream",
     "text": [
      "qt.qpa.xcb: X server does not support XInput 2\n"
     ]
    },
    {
     "ename": "SystemExit",
     "evalue": "0",
     "output_type": "error",
     "traceback": [
      "An exception has occurred, use %tb to see the full traceback.\n",
      "\u001B[0;31mSystemExit\u001B[0m\u001B[0;31m:\u001B[0m 0\n"
     ]
    },
    {
     "name": "stderr",
     "output_type": "stream",
     "text": [
      "/home/pengfei/.cache/pypoetry/virtualenvs/python-desktop-app-framework-xY3vli_t-py3.8/lib/python3.8/site-packages/IPython/core/interactiveshell.py:3441: UserWarning: To exit: use 'exit', 'quit', or Ctrl-D.\n",
      "  warn(\"To exit: use 'exit', 'quit', or Ctrl-D.\", stacklevel=1)\n"
     ]
    }
   ],
   "source": [
    "import sys\n",
    "from PyQt6.QtWidgets import QApplication,  QMessageBox, QWidget, QHBoxLayout,  QPushButton\n",
    "\n",
    "\n",
    "class MainWindow(QWidget):\n",
    "    def __init__(self, *args, **kwargs):\n",
    "        super().__init__(*args, **kwargs)\n",
    "\n",
    "        # set main window title and position\n",
    "        self.setWindowTitle('PyQt QMessageBox')\n",
    "        self.setGeometry(100, 100, 300, 100)\n",
    "\n",
    "        # set the layout for main window\n",
    "        layout = QHBoxLayout()\n",
    "        self.setLayout(layout)\n",
    "\n",
    "        # add a button\n",
    "        btn_info = QPushButton('Warning')\n",
    "        # connect the button to slot info\n",
    "        btn_info.clicked.connect(self.warning)\n",
    "\n",
    "        layout.addWidget(btn_info)\n",
    "\n",
    "\n",
    "        self.show()\n",
    "\n",
    "    def warning(self):\n",
    "        # create a new QMessageBox as warning\n",
    "        # as we don't expect any data in return. so we don't need to assign a variable to it.\n",
    "        QMessageBox.warning(\n",
    "            self,\n",
    "            'Warning',\n",
    "            'This is a warning message.'\n",
    "        )\n",
    "\n",
    "app = QApplication(sys.argv)\n",
    "window = MainWindow()\n",
    "sys.exit(app.exec())"
   ],
   "metadata": {
    "collapsed": false
   }
  },
  {
   "cell_type": "markdown",
   "source": [
    "## 13.3 Show Critical\n",
    "\n",
    "In Below example, when you click on the `Critical` button, a popup modal will show some critical message"
   ],
   "metadata": {
    "collapsed": false
   }
  },
  {
   "cell_type": "code",
   "execution_count": 1,
   "outputs": [
    {
     "name": "stderr",
     "output_type": "stream",
     "text": [
      "qt.qpa.xcb: X server does not support XInput 2\n"
     ]
    },
    {
     "ename": "SystemExit",
     "evalue": "0",
     "output_type": "error",
     "traceback": [
      "An exception has occurred, use %tb to see the full traceback.\n",
      "\u001B[0;31mSystemExit\u001B[0m\u001B[0;31m:\u001B[0m 0\n"
     ]
    },
    {
     "name": "stderr",
     "output_type": "stream",
     "text": [
      "/home/pengfei/.cache/pypoetry/virtualenvs/python-desktop-app-framework-xY3vli_t-py3.8/lib/python3.8/site-packages/IPython/core/interactiveshell.py:3441: UserWarning: To exit: use 'exit', 'quit', or Ctrl-D.\n",
      "  warn(\"To exit: use 'exit', 'quit', or Ctrl-D.\", stacklevel=1)\n"
     ]
    }
   ],
   "source": [
    "import sys\n",
    "from PyQt6.QtWidgets import QApplication,  QMessageBox, QWidget, QHBoxLayout,  QPushButton\n",
    "\n",
    "\n",
    "class MainWindow(QWidget):\n",
    "    def __init__(self, *args, **kwargs):\n",
    "        super().__init__(*args, **kwargs)\n",
    "\n",
    "        # set main window title and position\n",
    "        self.setWindowTitle('PyQt QMessageBox')\n",
    "        self.setGeometry(100, 100, 300, 100)\n",
    "\n",
    "        # set the layout for main window\n",
    "        layout = QHBoxLayout()\n",
    "        self.setLayout(layout)\n",
    "\n",
    "        # add a button\n",
    "        btn_info = QPushButton('Critical')\n",
    "        # connect the button to slot info\n",
    "        btn_info.clicked.connect(self.critical)\n",
    "\n",
    "        layout.addWidget(btn_info)\n",
    "\n",
    "\n",
    "        self.show()\n",
    "\n",
    "    def critical(self):\n",
    "        # create a new QMessageBox as critical\n",
    "        # as we don't expect any data in return. so we don't need to assign a variable to it.\n",
    "        QMessageBox.warning(\n",
    "            self,\n",
    "            'Critical',\n",
    "            'This is a Critical message.'\n",
    "        )\n",
    "\n",
    "app = QApplication(sys.argv)\n",
    "window = MainWindow()\n",
    "sys.exit(app.exec())"
   ],
   "metadata": {
    "collapsed": false
   }
  },
  {
   "cell_type": "markdown",
   "source": [
    "## 13.4 Show question\n",
    "\n",
    "In Below example, when you click on the `Question` button, a popup window will show some message and ask user to give a feedback action, based on the feedback action, we can choose to do something."
   ],
   "metadata": {
    "collapsed": false
   }
  },
  {
   "cell_type": "code",
   "execution_count": 3,
   "outputs": [
    {
     "ename": "SystemExit",
     "evalue": "0",
     "output_type": "error",
     "traceback": [
      "An exception has occurred, use %tb to see the full traceback.\n",
      "\u001B[0;31mSystemExit\u001B[0m\u001B[0;31m:\u001B[0m 0\n"
     ]
    },
    {
     "name": "stderr",
     "output_type": "stream",
     "text": [
      "/home/pengfei/.cache/pypoetry/virtualenvs/python-desktop-app-framework-xY3vli_t-py3.8/lib/python3.8/site-packages/IPython/core/interactiveshell.py:3441: UserWarning: To exit: use 'exit', 'quit', or Ctrl-D.\n",
      "  warn(\"To exit: use 'exit', 'quit', or Ctrl-D.\", stacklevel=1)\n"
     ]
    }
   ],
   "source": [
    "import sys\n",
    "from PyQt6.QtWidgets import QApplication, QMessageBox, QWidget, QPushButton, QLabel, QVBoxLayout\n",
    "\n",
    "\n",
    "class MainWindow(QWidget):\n",
    "    def __init__(self, *args, **kwargs):\n",
    "        super().__init__(*args, **kwargs)\n",
    "\n",
    "        self.setWindowTitle('PyQt QMessageBox')\n",
    "        self.setGeometry(100, 100, 300, 100)\n",
    "\n",
    "        layout = QVBoxLayout()\n",
    "        self.setLayout(layout)\n",
    "\n",
    "        btn_question = QPushButton('Question')\n",
    "        btn_question.clicked.connect(self.question)\n",
    "\n",
    "        self.result=QLabel()\n",
    "\n",
    "        layout.addWidget(btn_question)\n",
    "        layout.addWidget(self.result)\n",
    "\n",
    "        self.show()\n",
    "\n",
    "\n",
    "\n",
    "    def question(self):\n",
    "        answer = QMessageBox.question(\n",
    "            self,\n",
    "            'Confirmation',\n",
    "            'Do you want to quit?',\n",
    "            QMessageBox.StandardButton.Yes |\n",
    "            QMessageBox.StandardButton.No\n",
    "        )\n",
    "        if answer == QMessageBox.StandardButton.Yes:\n",
    "            QMessageBox.information(\n",
    "                self,\n",
    "                'Information',\n",
    "                'You selected Yes. The program will be terminated.',\n",
    "                QMessageBox.StandardButton.Ok\n",
    "            )\n",
    "            self.close()\n",
    "        else:\n",
    "            QMessageBox.information(\n",
    "                self,\n",
    "                'Information',\n",
    "                'You selected No.',\n",
    "                QMessageBox.StandardButton.Ok\n",
    "            )\n",
    "            self.result.setText(\"You selected No. The program will continue to run\")\n",
    "\n",
    "app = QApplication(sys.argv)\n",
    "window = MainWindow()\n",
    "sys.exit(app.exec())"
   ],
   "metadata": {
    "collapsed": false
   }
  }
 ],
 "metadata": {
  "kernelspec": {
   "display_name": "Python 3",
   "language": "python",
   "name": "python3"
  },
  "language_info": {
   "codemirror_mode": {
    "name": "ipython",
    "version": 2
   },
   "file_extension": ".py",
   "mimetype": "text/x-python",
   "name": "python",
   "nbconvert_exporter": "python",
   "pygments_lexer": "ipython2",
   "version": "2.7.6"
  }
 },
 "nbformat": 4,
 "nbformat_minor": 0
}
