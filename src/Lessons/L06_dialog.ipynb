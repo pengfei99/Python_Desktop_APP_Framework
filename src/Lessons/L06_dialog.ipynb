{
 "cells": [
  {
   "cell_type": "markdown",
   "source": [
    "# 6. Dialogs\n",
    "\n",
    "Dialogs are useful GUI components that allow you to communicate with the user (hence the name dialog). They are commonly used for file Open/Save, settings, preferences, or for functions that do not fit into the main UI of the application. They are small modal (or blocking) windows that sit in front of the main application until they are dismissed. Qt provides a number of 'special' built-in dialogs for the most common use-cases, allowing you to provide a platform-native user experience."
   ],
   "metadata": {
    "collapsed": false
   }
  },
  {
   "cell_type": "code",
   "execution_count": null,
   "outputs": [],
   "source": [],
   "metadata": {
    "collapsed": false
   }
  },
  {
   "cell_type": "code",
   "execution_count": 1,
   "outputs": [],
   "source": [
    "import sys\n",
    "from PyQt6.QtWidgets import QApplication, QMainWindow,QPushButton,QDialog"
   ],
   "metadata": {
    "collapsed": false
   }
  },
  {
   "cell_type": "markdown",
   "source": [
    "## 6.1 First dialog box\n",
    "\n",
    "Let's create our first QDialog. We'll start with a simple skeleton app with a button to press hooked up to a slot method `button_clicked`. When this method is called, we create a new `QDialog` object.\n",
    "\n",
    "Run below code to see the main window, then click on the button to see the dialog window"
   ],
   "metadata": {
    "collapsed": false
   }
  },
  {
   "cell_type": "code",
   "execution_count": 2,
   "outputs": [
    {
     "name": "stderr",
     "output_type": "stream",
     "text": [
      "qt.qpa.xcb: X server does not support XInput 2\n"
     ]
    },
    {
     "name": "stdout",
     "output_type": "stream",
     "text": [
      "click False\n"
     ]
    },
    {
     "data": {
      "text/plain": "0"
     },
     "execution_count": 2,
     "metadata": {},
     "output_type": "execute_result"
    }
   ],
   "source": [
    "class MainWindow(QMainWindow):\n",
    "    def __init__(self):\n",
    "        super().__init__()\n",
    "\n",
    "        self.setWindowTitle(\"My App\")\n",
    "\n",
    "        button = QPushButton(\"Press me for a dialog!\")\n",
    "        button.clicked.connect(self.button_clicked)\n",
    "        self.setCentralWidget(button)\n",
    "\n",
    "    def button_clicked(self, s):\n",
    "        print(\"click\", s)\n",
    "        dlg = QDialog(self)\n",
    "        dlg.setWindowTitle(\"HELLO!\")\n",
    "        dlg.exec()\n",
    "\n",
    "app = QApplication(sys.argv)\n",
    "\n",
    "window = MainWindow()\n",
    "window.show()\n",
    "\n",
    "app.exec()"
   ],
   "metadata": {
    "collapsed": false
   }
  },
  {
   "cell_type": "markdown",
   "source": [
    "## 6.2 Customize the dialog\n",
    "\n",
    "To customize it, we need to subclass it. There are many\n",
    "\n",
    "Below is an example of QDialog class\n",
    "\n",
    "\n",
    "```python\n",
    "class CustomDialog(QDialog):\n",
    "    def __init__(self):\n",
    "        super().__init__()\n",
    "        # we set the title of the dialog box\n",
    "        self.setWindowTitle(\"HELLO!\")\n",
    "\n",
    "        # set up dialog buttons\n",
    "        # The variable QBtn now contains an integer value representing those two buttons.\n",
    "        QBtn = QDialogButtonBox.StandardButton.Ok | QDialogButtonBox.StandardButton.Cancel\n",
    "        # we must create the QDialogButtonBox instance to hold the buttons. The flag for the buttons to display is passed in as the first parameter.\n",
    "        self.buttonBox = QDialogButtonBox(QBtn)\n",
    "\n",
    "        # To make the buttons have any effect, you must connect the correct QDialogButtonBox signals to the slots on the dialog. In our case we've connected the .accepted and .rejected signals from the QDialogButtonBox to the handlers for .accept() and .reject() on our subclass of QDialog.\n",
    "        self.buttonBox.accepted.connect(self.accept)\n",
    "        self.buttonBox.rejected.connect(self.reject)\n",
    "\n",
    "        self.layout = QVBoxLayout()\n",
    "        message = QLabel(\"Something happened, is that OK?\")\n",
    "        self.layout.addWidget(message)\n",
    "        self.layout.addWidget(self.buttonBox)\n",
    "        self.setLayout(self.layout)\n",
    "\n",
    "```"
   ],
   "metadata": {
    "collapsed": false
   }
  },
  {
   "cell_type": "code",
   "execution_count": 2,
   "outputs": [
    {
     "name": "stderr",
     "output_type": "stream",
     "text": [
      "qt.qpa.xcb: X server does not support XInput 2\n"
     ]
    },
    {
     "name": "stdout",
     "output_type": "stream",
     "text": [
      "click False\n",
      "Success!\n"
     ]
    },
    {
     "data": {
      "text/plain": "0"
     },
     "execution_count": 2,
     "metadata": {},
     "output_type": "execute_result"
    }
   ],
   "source": [
    "from PyQt6.QtWidgets import QDialogButtonBox, QVBoxLayout, QLabel\n",
    "\n",
    "\n",
    "class CustomDialog(QDialog):\n",
    "    def __init__(self):\n",
    "        super().__init__()\n",
    "\n",
    "        self.setWindowTitle(\"HELLO!\")\n",
    "\n",
    "        QBtn = QDialogButtonBox.StandardButton.Ok | QDialogButtonBox.StandardButton.Cancel\n",
    "\n",
    "        self.buttonBox = QDialogButtonBox(QBtn)\n",
    "        self.buttonBox.accepted.connect(self.accept)\n",
    "        self.buttonBox.rejected.connect(self.reject)\n",
    "\n",
    "        self.layout = QVBoxLayout()\n",
    "        message = QLabel(\"Something happened, is that OK?\")\n",
    "        self.layout.addWidget(message)\n",
    "        self.layout.addWidget(self.buttonBox)\n",
    "        self.setLayout(self.layout)\n",
    "\n",
    "class MainWindow(QMainWindow):\n",
    "    def __init__(self):\n",
    "        super().__init__()\n",
    "\n",
    "        self.setWindowTitle(\"My App\")\n",
    "\n",
    "        button = QPushButton(\"Press me for a dialog!\")\n",
    "        button.clicked.connect(self.button_clicked)\n",
    "        self.setCentralWidget(button)\n",
    "\n",
    "    def button_clicked(self, s):\n",
    "        print(\"click\", s)\n",
    "        dlg = CustomDialog()\n",
    "        if dlg.exec():\n",
    "            print(\"Success!\")\n",
    "        else:\n",
    "            print(\"Cancel!\")\n",
    "\n",
    "app = QApplication(sys.argv)\n",
    "\n",
    "window = MainWindow()\n",
    "window.show()\n",
    "\n",
    "app.exec()"
   ],
   "metadata": {
    "collapsed": false
   }
  },
  {
   "cell_type": "markdown",
   "source": [
    "## 6.3 Add a parent\n",
    "\n",
    "You may notice that with the above code, the dialog appears away from the parent window -- probably in the center of the screen. Normally you want dialogs to appear over their launching window to make them easier for users to find. To do this we need to give `a parent for the dialog`. If we pass our main window as the parent, Qt will position the new dialog so that the center of the dialog aligns with the center of the window."
   ],
   "metadata": {
    "collapsed": false
   }
  },
  {
   "cell_type": "code",
   "execution_count": 3,
   "outputs": [
    {
     "name": "stdout",
     "output_type": "stream",
     "text": [
      "click False\n",
      "Success!\n"
     ]
    },
    {
     "data": {
      "text/plain": "0"
     },
     "execution_count": 3,
     "metadata": {},
     "output_type": "execute_result"
    }
   ],
   "source": [
    "from PyQt6.QtWidgets import QDialogButtonBox, QVBoxLayout, QLabel\n",
    "\n",
    "\n",
    "class CustomDialog(QDialog):\n",
    "    # add a parent to the dialog window\n",
    "    def __init__(self,parent=None):\n",
    "        super().__init__(parent)\n",
    "\n",
    "        self.setWindowTitle(\"HELLO!\")\n",
    "\n",
    "        QBtn = QDialogButtonBox.StandardButton.Ok | QDialogButtonBox.StandardButton.Cancel\n",
    "\n",
    "        self.buttonBox = QDialogButtonBox(QBtn)\n",
    "        self.buttonBox.accepted.connect(self.accept)\n",
    "        self.buttonBox.rejected.connect(self.reject)\n",
    "\n",
    "        self.layout = QVBoxLayout()\n",
    "        message = QLabel(\"Something happened, is that OK?\")\n",
    "        self.layout.addWidget(message)\n",
    "        self.layout.addWidget(self.buttonBox)\n",
    "        self.setLayout(self.layout)\n",
    "\n",
    "class MainWindow(QMainWindow):\n",
    "    def __init__(self):\n",
    "        super().__init__()\n",
    "\n",
    "        self.setWindowTitle(\"My App\")\n",
    "\n",
    "        button = QPushButton(\"Press me for a dialog!\")\n",
    "        button.clicked.connect(self.button_clicked)\n",
    "        self.setCentralWidget(button)\n",
    "\n",
    "    def button_clicked(self, s):\n",
    "        print(\"click\", s)\n",
    "        dlg = CustomDialog()\n",
    "        if dlg.exec():\n",
    "            print(\"Success!\")\n",
    "        else:\n",
    "            print(\"Cancel!\")\n",
    "\n",
    "app = QApplication(sys.argv)\n",
    "\n",
    "window = MainWindow()\n",
    "window.show()\n",
    "\n",
    "app.exec()"
   ],
   "metadata": {
    "collapsed": false
   }
  }
 ],
 "metadata": {
  "kernelspec": {
   "display_name": "Python 3",
   "language": "python",
   "name": "python3"
  },
  "language_info": {
   "codemirror_mode": {
    "name": "ipython",
    "version": 2
   },
   "file_extension": ".py",
   "mimetype": "text/x-python",
   "name": "python",
   "nbconvert_exporter": "python",
   "pygments_lexer": "ipython2",
   "version": "2.7.6"
  }
 },
 "nbformat": 4,
 "nbformat_minor": 0
}
