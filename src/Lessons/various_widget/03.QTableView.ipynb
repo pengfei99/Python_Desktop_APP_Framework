{
 "cells": [
  {
   "cell_type": "markdown",
   "source": [
    "# 3. Table view\n",
    "\n",
    "In this tutorial we'll look at how to use **QTableView** from PyQt6, including how to model your data, format values for display and add conditional formatting.\n",
    "\n",
    "`QTableView` is a Qt view widget which presents data in a spreadsheet-like table view. Like all widgets in the Model View Architecture, this uses a separate model to provide data and presentation information to the view. Data in the model can be updated as required, and the view notified of these changes to redraw/display the changes. By customising the model it is possible to have a huge amount of control over how the data is presented.\n",
    "\n",
    "## 3.1 First Table view model\n",
    "\n",
    "Below code shows an example of the table view model application with some dummy data. This is a basic application structure:\n",
    "1. create a custom table model by subclassing the `QAbstractTableModel`, must implement\n",
    "   - data():\n",
    "   - rowCount():\n",
    "   - columnCount():\n",
    "2."
   ],
   "metadata": {
    "collapsed": false
   }
  },
  {
   "cell_type": "code",
   "execution_count": 1,
   "outputs": [],
   "source": [
    "import sys\n",
    "from PyQt6 import QtCore, QtGui, QtWidgets\n",
    "from PyQt6.QtCore import Qt"
   ],
   "metadata": {
    "collapsed": false
   }
  },
  {
   "cell_type": "code",
   "execution_count": 2,
   "outputs": [
    {
     "name": "stderr",
     "output_type": "stream",
     "text": [
      "qt.qpa.xcb: X server does not support XInput 2\n"
     ]
    },
    {
     "data": {
      "text/plain": "0"
     },
     "execution_count": 2,
     "metadata": {},
     "output_type": "execute_result"
    }
   ],
   "source": [
    "# model class subclass the QAbstractTableModel\n",
    "# it has a 2D data structure with rows and columns\n",
    "class TableModel(QtCore.QAbstractTableModel):\n",
    "    \"\"\"\n",
    "\n",
    "    \"\"\"\n",
    "    def __init__(self, data):\n",
    "        super(TableModel, self).__init__()\n",
    "        self._data = data\n",
    "\n",
    "    # return the data which view requires\n",
    "    def data(self, index, role):\n",
    "        # in this example, we only treat DisplayRole\n",
    "        if role == Qt.ItemDataRole.DisplayRole:\n",
    "            # See below for the nested-list data structure.\n",
    "            # .row() indexes into the outer list,\n",
    "            # .column() indexes into the sub-list\n",
    "            return self._data[index.row()][index.column()]\n",
    "\n",
    "    # return the row count of current data store\n",
    "    def rowCount(self, index):\n",
    "        # The length of the outer list.\n",
    "        return len(self._data)\n",
    "\n",
    "    def columnCount(self, index):\n",
    "        # The following takes the first sub-list, and returns\n",
    "        # the length (only works if all rows are an equal length)\n",
    "        return len(self._data[0])\n",
    "\n",
    "\n",
    "class MainWindow(QtWidgets.QMainWindow):\n",
    "    def __init__(self):\n",
    "        super().__init__()\n",
    "\n",
    "        # create a table view\n",
    "        self.table = QtWidgets.QTableView()\n",
    "\n",
    "        # use nested list as a 2-dimensional data store\n",
    "        data = [\n",
    "          [4, 9, 2],\n",
    "          [1, 0, 0],\n",
    "          [3, 5, 0],\n",
    "          [3, 3, 2],\n",
    "          [7, 8, 9],\n",
    "        ]\n",
    "\n",
    "        self.model = TableModel(data)\n",
    "        self.table.setModel(self.model)\n",
    "\n",
    "        self.setCentralWidget(self.table)\n",
    "\n",
    "\n",
    "app=QtWidgets.QApplication(sys.argv)\n",
    "window=MainWindow()\n",
    "window.show()\n",
    "app.exec()"
   ],
   "metadata": {
    "collapsed": false
   }
  },
  {
   "cell_type": "code",
   "execution_count": null,
   "outputs": [],
   "source": [],
   "metadata": {
    "collapsed": false
   }
  },
  {
   "cell_type": "code",
   "execution_count": null,
   "outputs": [],
   "source": [
    "## 3.2"
   ],
   "metadata": {
    "collapsed": false
   }
  },
  {
   "cell_type": "code",
   "execution_count": null,
   "outputs": [],
   "source": [],
   "metadata": {
    "collapsed": false
   }
  },
  {
   "cell_type": "code",
   "execution_count": null,
   "outputs": [],
   "source": [],
   "metadata": {
    "collapsed": false
   }
  },
  {
   "cell_type": "markdown",
   "source": [],
   "metadata": {
    "collapsed": false
   }
  }
 ],
 "metadata": {
  "kernelspec": {
   "display_name": "Python 3",
   "language": "python",
   "name": "python3"
  },
  "language_info": {
   "codemirror_mode": {
    "name": "ipython",
    "version": 2
   },
   "file_extension": ".py",
   "mimetype": "text/x-python",
   "name": "python",
   "nbconvert_exporter": "python",
   "pygments_lexer": "ipython2",
   "version": "2.7.6"
  }
 },
 "nbformat": 4,
 "nbformat_minor": 0
}
